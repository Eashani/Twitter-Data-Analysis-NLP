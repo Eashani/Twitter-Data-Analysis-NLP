{
 "cells": [
  {
   "cell_type": "code",
   "execution_count": 1,
   "metadata": {},
   "outputs": [],
   "source": [
    "import emoji\n",
    "import os\n",
    "import pandas as pd\n",
    "import re\n"
   ]
  },
  {
   "cell_type": "code",
   "execution_count": 2,
   "metadata": {
    "scrolled": true
   },
   "outputs": [],
   "source": [
    "def correct_ampersands(match):\n",
    "    _str = match.group(0)\n",
    "    splitted = re.split('&', _str, flags=re.IGNORECASE)\n",
    "    if all([str.isupper(i) for i in splitted]):\n",
    "        return _str\n",
    "    else:\n",
    "        return ' & '.join(splitted)\n",
    "\n",
    "        \n",
    "def correct_slashsplitted(match):\n",
    "    _str = match.group(0)\n",
    "    return ' '.join(' '.join(_str.split('/')).split('\\\\'))\n",
    "\n",
    "        \n",
    "    \n",
    "def remove_links(phrase):\n",
    "    \n",
    "    phrase = re.sub(\"\\S*(t\\.co|http)\\S*\", \"\", phrase, flags=re.IGNORECASE)\n",
    "    \n",
    "    return phrase\n",
    "\n",
    "def global_processing(df):\n",
    "    '''\n",
    "    Global preprocessing/data munging\n",
    "    '''\n",
    "    \n",
    "    \n",
    "    df['full_text'] = df['full_text'].apply(lambda x:re.sub(\"\\’\", \"\\'\", x, flags=re.IGNORECASE))\n",
    "    df['full_text'] = df['full_text'].apply(lambda x:re.sub(\"\\”\", \"\\\"\", x, flags=re.IGNORECASE))\n",
    "    df['full_text'] = df['full_text'].apply(lambda x:re.sub(\"\\“\", \"\\\"\", x, flags=re.IGNORECASE))\n",
    "    \n",
    "    \n",
    "    df['full_text'] = df['full_text'].apply(lambda x:re.sub('&amp;*', '&', x, flags=re.IGNORECASE), )\n",
    "    df['full_text'] = df['full_text'].apply(lambda x:re.sub('&gt;*', '>', x,flags=re.IGNORECASE), )\n",
    "    df['full_text'] = df['full_text'].apply(lambda x:re.sub('&lt;*', '<', x, flags=re.IGNORECASE), )\n",
    "    df['full_text'] = df['full_text'].apply(lambda x:re.sub('\\S*&\\S+', correct_ampersands, x, flags=re.IGNORECASE), )\n",
    "    \n",
    "    df['full_text'] = df['full_text'].apply(lambda x:emoji.get_emoji_regexp().sub('', x), )\n",
    "    \n",
    "    df['full_text'] = df['full_text'].apply(remove_links)\n",
    "    \n",
    "    max_num_mentions = 4\n",
    "    spammy_indices_mentions = df['full_text'].apply(lambda x:re.search(\"(\\@.*){%d,}\"%(max_num_mentions+1), x, flags = re.IGNORECASE)).dropna().index\n",
    "    print(len(spammy_indices_mentions))\n",
    "    df = df.iloc[[i for i in df.index if i not in spammy_indices_mentions]]\n",
    "    df = df.reset_index(drop=True)\n",
    "    \n",
    "    max_hashtags = 4\n",
    "    spammy_indices_hashtags = df['full_text'].apply(lambda x:re.search(\"(\\#\\w+\\s){%d,}\"%(max_hashtags+1), x)).dropna().apply(lambda x:x.group(0)).index\n",
    "    print(len(spammy_indices_hashtags))\n",
    "    df = df.iloc[[i for i in df.index if i not in spammy_indices_hashtags]]\n",
    "    \n",
    "    \n",
    "    df = df.reset_index(drop=True)\n",
    "    \n",
    "\n",
    "    return df"
   ]
  },
  {
   "cell_type": "markdown",
   "metadata": {},
   "source": [
    "# Get Data"
   ]
  },
  {
   "cell_type": "code",
   "execution_count": 3,
   "metadata": {},
   "outputs": [
    {
     "data": {
      "text/plain": [
       "id_str        22198\n",
       "created_at    20577\n",
       "full_text     23753\n",
       "dtype: int64"
      ]
     },
     "metadata": {},
     "output_type": "display_data"
    },
    {
     "data": {
      "text/plain": [
       "(id_str         int64\n",
       " created_at    object\n",
       " full_text     object\n",
       " dtype: object, (27970, 3))"
      ]
     },
     "execution_count": 3,
     "metadata": {},
     "output_type": "execute_result"
    }
   ],
   "source": [
    "df = pd.read_csv(\"final_dataset_Elizabeth.csv\")\n",
    "display(df.nunique())\n",
    "df.dtypes, df.shape"
   ]
  },
  {
   "cell_type": "code",
   "execution_count": 4,
   "metadata": {},
   "outputs": [
    {
     "data": {
      "text/plain": [
       "(22198, 3)"
      ]
     },
     "execution_count": 4,
     "metadata": {},
     "output_type": "execute_result"
    }
   ],
   "source": [
    "df = df.drop_duplicates(subset=['id_str']).reset_index(drop=True)\n",
    "df.shape"
   ]
  },
  {
   "cell_type": "code",
   "execution_count": 5,
   "metadata": {},
   "outputs": [
    {
     "name": "stdout",
     "output_type": "stream",
     "text": [
      "4685\n",
      "32\n"
     ]
    }
   ],
   "source": [
    "df = global_processing(df)\n"
   ]
  },
  {
   "cell_type": "code",
   "execution_count": 6,
   "metadata": {},
   "outputs": [
    {
     "data": {
      "text/plain": [
       "(17481, 3)"
      ]
     },
     "execution_count": 6,
     "metadata": {},
     "output_type": "execute_result"
    }
   ],
   "source": [
    "df.shape"
   ]
  },
  {
   "cell_type": "code",
   "execution_count": null,
   "metadata": {},
   "outputs": [],
   "source": []
  },
  {
   "cell_type": "markdown",
   "metadata": {},
   "source": [
    "# Decontracting"
   ]
  },
  {
   "cell_type": "code",
   "execution_count": 7,
   "metadata": {},
   "outputs": [
    {
     "data": {
      "text/plain": [
       "don't      693\n",
       "I'm        559\n",
       "It's       400\n",
       "didn't     357\n",
       "it's       356\n",
       "you're     270\n",
       "can't      242\n",
       "That's     235\n",
       "You're     230\n",
       "doesn't    207\n",
       "Name: full_text, dtype: int64"
      ]
     },
     "execution_count": 7,
     "metadata": {},
     "output_type": "execute_result"
    }
   ],
   "source": [
    "df['full_text'].apply(lambda x:re.search(\"[a-zA-Z]{1,7}[\\'|\\\"][a-zA-Z]{1,3}\", x)).dropna().apply(lambda x:x.group(0)).value_counts()[:10]"
   ]
  },
  {
   "cell_type": "code",
   "execution_count": 8,
   "metadata": {},
   "outputs": [],
   "source": [
    "def decontract(phrase):\n",
    "    \n",
    "    # specific\n",
    "    phrase = re.sub(r\"can\\'t\", \"can not\", phrase, flags=re.IGNORECASE)\n",
    "    phrase = re.sub(r\"won\\'t\", \"will not\", phrase, flags=re.IGNORECASE)\n",
    "    phrase = re.sub(r\"let\\'s\", \"let us\", phrase, flags=re.IGNORECASE)\n",
    "    phrase = re.sub(r\"let\\'s\", \"let us\", phrase, flags=re.IGNORECASE)\n",
    "    phrase = re.sub(r\"y\\'all\", \"you all\", phrase, flags=re.IGNORECASE)\n",
    "    \n",
    "\n",
    "    # general\n",
    "    phrase = re.sub(r\"n\\'t\", \" not\", phrase, flags=re.IGNORECASE) #notice the spaces\n",
    "    phrase = re.sub(r\"\\'re\", \" are\", phrase, flags=re.IGNORECASE)\n",
    "    phrase = re.sub(r\"\\'s\", \" is\", phrase, flags=re.IGNORECASE)\n",
    "    phrase = re.sub(r\"\\'d\", \" would\", phrase, flags=re.IGNORECASE)\n",
    "    phrase = re.sub(r\"\\'ll\", \" will\", phrase, flags=re.IGNORECASE)\n",
    "    phrase = re.sub(r\"\\'t\", \" not\", phrase, flags=re.IGNORECASE)\n",
    "    phrase = re.sub(r\"\\'ve\", \" have\", phrase, flags=re.IGNORECASE)\n",
    "    phrase = re.sub(r\"\\'m\", \" am\", phrase, flags=re.IGNORECASE)\n",
    "    return phrase"
   ]
  },
  {
   "cell_type": "code",
   "execution_count": null,
   "metadata": {},
   "outputs": [],
   "source": []
  },
  {
   "cell_type": "code",
   "execution_count": 9,
   "metadata": {},
   "outputs": [],
   "source": [
    "df['full_text'] = df['full_text'].apply(decontract)"
   ]
  },
  {
   "cell_type": "code",
   "execution_count": 10,
   "metadata": {},
   "outputs": [
    {
     "data": {
      "text/plain": [
       "ma'am      6\n",
       "your'e     4\n",
       "Ma'am      2\n",
       "D'Ale      1\n",
       "Your'e     1\n",
       "his\"bef    1\n",
       "is\"lik     1\n",
       "AIN\"T      1\n",
       "F'ing      1\n",
       "MA'AM      1\n",
       "Name: full_text, dtype: int64"
      ]
     },
     "execution_count": 10,
     "metadata": {},
     "output_type": "execute_result"
    }
   ],
   "source": [
    "df['full_text'].apply(lambda x:re.search(\"[a-zA-Z]{1,7}[\\'|\\\"][a-zA-Z]{1,3}\", x)).dropna().apply(lambda x:x.group(0)).value_counts()[:10]"
   ]
  },
  {
   "cell_type": "code",
   "execution_count": null,
   "metadata": {},
   "outputs": [],
   "source": []
  },
  {
   "cell_type": "markdown",
   "metadata": {},
   "source": [
    "# Tags"
   ]
  },
  {
   "cell_type": "code",
   "execution_count": 12,
   "metadata": {},
   "outputs": [
    {
     "data": {
      "text/plain": [
       "@ewarren           8926\n",
       "@ProudResister      221\n",
       "@cbszak             141\n",
       "@BernieSanders      137\n",
       "@thehill            118\n",
       "@MarkYoungTruth      94\n",
       "@RepSchakowsky       75\n",
       "@ryangrim            63\n",
       "@willclog18          62\n",
       "@DisastrouslyH       51\n",
       "Name: full_text, dtype: int64"
      ]
     },
     "execution_count": 12,
     "metadata": {},
     "output_type": "execute_result"
    }
   ],
   "source": [
    "df['full_text'].apply(lambda x:re.search(\"\\@\\w+\", x, flags=re.IGNORECASE)).dropna().apply(lambda x:x.group(0)).value_counts()[:10]"
   ]
  },
  {
   "cell_type": "code",
   "execution_count": 17,
   "metadata": {},
   "outputs": [],
   "source": [
    "def remove_tags(phrase):\n",
    "    \n",
    "    phrase = re.sub(\"\\@ewarren\", \"\", phrase)\n",
    "    phrase = re.sub(\"\\@TeamWarren\", \"\", phrase)\n",
    "    \n",
    "    return phrase"
   ]
  },
  {
   "cell_type": "code",
   "execution_count": 18,
   "metadata": {},
   "outputs": [],
   "source": [
    "df['full_text'] = df['full_text'].apply(remove_tags)"
   ]
  },
  {
   "cell_type": "code",
   "execution_count": 19,
   "metadata": {},
   "outputs": [
    {
     "data": {
      "text/plain": [
       "@ProudResister     251\n",
       "@BernieSanders     226\n",
       "@cbszak            141\n",
       "@thehill           118\n",
       "@RepSchakowsky     116\n",
       "                  ... \n",
       "@58littleflower      1\n",
       "@BScottAnderson      1\n",
       "@mmillernc17         1\n",
       "@Paulie_Sigh         1\n",
       "@historianed_        1\n",
       "Name: full_text, Length: 3403, dtype: int64"
      ]
     },
     "execution_count": 19,
     "metadata": {},
     "output_type": "execute_result"
    }
   ],
   "source": [
    "df['full_text'].apply(lambda x:re.search(\"\\@\\w+\", x)).dropna().apply(lambda x:x.group(0)).str.strip().value_counts()"
   ]
  },
  {
   "cell_type": "code",
   "execution_count": 20,
   "metadata": {},
   "outputs": [
    {
     "data": {
      "text/plain": [
       "(17481, 3)"
      ]
     },
     "execution_count": 20,
     "metadata": {},
     "output_type": "execute_result"
    }
   ],
   "source": [
    "df.shape"
   ]
  },
  {
   "cell_type": "markdown",
   "metadata": {},
   "source": [
    "# Hashtags"
   ]
  },
  {
   "cell_type": "code",
   "execution_count": 21,
   "metadata": {},
   "outputs": [
    {
     "data": {
      "text/plain": [
       "#Warren2020                     95\n",
       "#MedicareForAll                 33\n",
       "#TeamWarren                     32\n",
       "#Pocahontas                     24\n",
       "#Trump2020                      20\n",
       "#ElizabethWarren                19\n",
       "#MAGA                           16\n",
       "#Democrats                      14\n",
       "#WinWithWarren                  14\n",
       "#M4A                            14\n",
       "#AMJoy                          13\n",
       "#FATCA                          13\n",
       "#Thanksgiving                   13\n",
       "#1                              13\n",
       "#100DaysOfCode                  12\n",
       "#Bernie2020                     12\n",
       "#LiberalismIsAMentalDisorder    11\n",
       "#DreamBigFightHard              11\n",
       "#Fauxcahontas                   11\n",
       "#ADOS                           10\n",
       "Name: full_text, dtype: int64"
      ]
     },
     "execution_count": 21,
     "metadata": {},
     "output_type": "execute_result"
    }
   ],
   "source": [
    "df['full_text'].apply(lambda x:re.search(\"\\#\\w*(elizabeth|warren){0,1}\\w*\", x, re.IGNORECASE)).dropna().apply(lambda x:x.group(0)).value_counts()[:20]"
   ]
  },
  {
   "cell_type": "code",
   "execution_count": 28,
   "metadata": {},
   "outputs": [],
   "source": [
    "def remove_hashtags(phrase):\n",
    "\n",
    "    for i in ['#[W|w]arren2020', '#WinWithWarren', \"#[T|t]eamWarren\", \"#[E|l]lizabeth[W|w]arren\", \"#[W|w]arren\"]:\n",
    "        phrase = re.sub(i, \"\", phrase)\n",
    "    \n",
    "    return phrase"
   ]
  },
  {
   "cell_type": "code",
   "execution_count": 29,
   "metadata": {},
   "outputs": [],
   "source": [
    "df['full_text'] = df['full_text'].apply(remove_hashtags)"
   ]
  },
  {
   "cell_type": "code",
   "execution_count": 30,
   "metadata": {},
   "outputs": [
    {
     "data": {
      "text/plain": [
       "#MedicareForAll                 34\n",
       "#Pocahontas                     24\n",
       "#Trump2020                      20\n",
       "#                               19\n",
       "#MAGA                           16\n",
       "#DreamBigFightHard              15\n",
       "#Democrats                      15\n",
       "#M4A                            14\n",
       "#FATCA                          13\n",
       "#AMJoy                          13\n",
       "#Thanksgiving                   13\n",
       "#1                              13\n",
       "#100DaysOfCode                  12\n",
       "#Bernie2020                     12\n",
       "#Fauxcahontas                   11\n",
       "#LiberalismIsAMentalDisorder    11\n",
       "#ADOS                           10\n",
       "#iacaucus                        9\n",
       "#BigStructuralChange             9\n",
       "#Medicare4All                    9\n",
       "Name: full_text, dtype: int64"
      ]
     },
     "execution_count": 30,
     "metadata": {},
     "output_type": "execute_result"
    }
   ],
   "source": [
    "df['full_text'].apply(lambda x:re.search(\"\\#\\w*(elizabeth|warren){0,1}\\w*\", x)).dropna().apply(lambda x:x.group(0)).value_counts()[:20]"
   ]
  },
  {
   "cell_type": "code",
   "execution_count": null,
   "metadata": {},
   "outputs": [],
   "source": []
  },
  {
   "cell_type": "markdown",
   "metadata": {},
   "source": [
    "# (Obvious) Mentions"
   ]
  },
  {
   "cell_type": "code",
   "execution_count": 32,
   "metadata": {},
   "outputs": [
    {
     "data": {
      "text/plain": [
       "Elizabeth    240\n",
       "warren        29\n",
       "WARREN         5\n",
       "elizabeth      4\n",
       "warrens        3\n",
       "ELIZABETH      3\n",
       "WARRENS        1\n",
       "ewarren        1\n",
       "wArReN         1\n",
       "WARren         1\n",
       "Name: full_text, dtype: int64"
      ]
     },
     "execution_count": 32,
     "metadata": {},
     "output_type": "execute_result"
    }
   ],
   "source": [
    "df['full_text'].apply(lambda x:re.search(\"\\s+\\w*([E|e]lizabeth|[W|w]arren){1,}\\w*\\s+\", x, re.IGNORECASE)).dropna().apply(lambda x:x.group(0)).str.strip().value_counts()[:10]"
   ]
  },
  {
   "cell_type": "code",
   "execution_count": 36,
   "metadata": {},
   "outputs": [],
   "source": [
    "temp = df['full_text'].apply(lambda x:re.search(\"\\s+\\w*([E|e]lizabeth|[W|w]arren){1,}\\w*\\s+\", x)).dropna().apply(lambda x:x.group(0)).value_counts().index\n",
    "\n",
    "def remove_mentions(phrase):\n",
    "    \n",
    "    for to_replace in temp:\n",
    "        phrase = re.sub(to_replace, \"\", phrase)\n",
    "    \n",
    "    return phrase"
   ]
  },
  {
   "cell_type": "code",
   "execution_count": 37,
   "metadata": {},
   "outputs": [],
   "source": [
    "df['full_text'] = df['full_text'].apply(remove_mentions)"
   ]
  },
  {
   "cell_type": "code",
   "execution_count": 38,
   "metadata": {},
   "outputs": [
    {
     "data": {
      "text/plain": [
       "Series([], Name: full_text, dtype: int64)"
      ]
     },
     "execution_count": 38,
     "metadata": {},
     "output_type": "execute_result"
    }
   ],
   "source": [
    "df['full_text'].apply(lambda x:re.search(\"\\s+\\w*([E|e]lizabeth|[W|w]arren){1,}\\w*\\s+\", x)).dropna().apply(lambda x:x.group(0)).value_counts()"
   ]
  },
  {
   "cell_type": "code",
   "execution_count": null,
   "metadata": {},
   "outputs": [],
   "source": []
  },
  {
   "cell_type": "code",
   "execution_count": 39,
   "metadata": {},
   "outputs": [],
   "source": [
    "df.to_csv('processed_final_Elizabeth.csv', index=False)"
   ]
  },
  {
   "cell_type": "code",
   "execution_count": null,
   "metadata": {},
   "outputs": [],
   "source": []
  },
  {
   "cell_type": "code",
   "execution_count": null,
   "metadata": {},
   "outputs": [],
   "source": []
  }
 ],
 "metadata": {
  "kernelspec": {
   "display_name": "Python 3",
   "language": "python",
   "name": "python3"
  },
  "language_info": {
   "codemirror_mode": {
    "name": "ipython",
    "version": 3
   },
   "file_extension": ".py",
   "mimetype": "text/x-python",
   "name": "python",
   "nbconvert_exporter": "python",
   "pygments_lexer": "ipython3",
   "version": "3.7.5"
  }
 },
 "nbformat": 4,
 "nbformat_minor": 2
}
