{
 "cells": [
  {
   "cell_type": "code",
   "execution_count": 1,
   "metadata": {},
   "outputs": [],
   "source": [
    "import nltk\n",
    "import pandas as pd\n",
    "import re\n",
    "from matplotlib import pyplot as plt\n",
    "from wordcloud import WordCloud\n",
    "import matplotlib.colors as mcolors"
   ]
  },
  {
   "cell_type": "markdown",
   "metadata": {},
   "source": [
    "nltk downloads should be put here!"
   ]
  },
  {
   "cell_type": "code",
   "execution_count": 2,
   "metadata": {},
   "outputs": [
    {
     "name": "stderr",
     "output_type": "stream",
     "text": [
      "[nltk_data] Downloading package stopwords to /root/nltk_data...\n",
      "[nltk_data]   Package stopwords is already up-to-date!\n",
      "[nltk_data] Downloading package punkt to /root/nltk_data...\n",
      "[nltk_data]   Package punkt is already up-to-date!\n",
      "[nltk_data] Downloading package averaged_perceptron_tagger to\n",
      "[nltk_data]     /root/nltk_data...\n",
      "[nltk_data]   Package averaged_perceptron_tagger is already up-to-\n",
      "[nltk_data]       date!\n",
      "[nltk_data] Downloading package wordnet to /root/nltk_data...\n",
      "[nltk_data]   Package wordnet is already up-to-date!\n"
     ]
    },
    {
     "data": {
      "text/plain": [
       "True"
      ]
     },
     "execution_count": 2,
     "metadata": {},
     "output_type": "execute_result"
    }
   ],
   "source": [
    "nltk.download('stopwords')\n",
    "nltk.download('punkt')\n",
    "nltk.download('averaged_perceptron_tagger')\n",
    "nltk.download('wordnet')\n",
    "  "
   ]
  },
  {
   "cell_type": "markdown",
   "metadata": {},
   "source": [
    "# Load Data"
   ]
  },
  {
   "cell_type": "code",
   "execution_count": 3,
   "metadata": {},
   "outputs": [],
   "source": [
    "import pandas as pd\n",
    "df = pd.read_csv('processed_final_Elizabeth.csv')"
   ]
  },
  {
   "cell_type": "code",
   "execution_count": 4,
   "metadata": {},
   "outputs": [
    {
     "data": {
      "text/html": [
       "<div>\n",
       "<style scoped>\n",
       "    .dataframe tbody tr th:only-of-type {\n",
       "        vertical-align: middle;\n",
       "    }\n",
       "\n",
       "    .dataframe tbody tr th {\n",
       "        vertical-align: top;\n",
       "    }\n",
       "\n",
       "    .dataframe thead th {\n",
       "        text-align: right;\n",
       "    }\n",
       "</style>\n",
       "<table border=\"1\" class=\"dataframe\">\n",
       "  <thead>\n",
       "    <tr style=\"text-align: right;\">\n",
       "      <th></th>\n",
       "      <th>id_str</th>\n",
       "      <th>created_at</th>\n",
       "      <th>full_text</th>\n",
       "    </tr>\n",
       "  </thead>\n",
       "  <tbody>\n",
       "    <tr>\n",
       "      <th>0</th>\n",
       "      <td>1200485829111513088</td>\n",
       "      <td>2019-11-29 18:45:00</td>\n",
       "      <td>these dem sens. r running against #trump in #2...</td>\n",
       "    </tr>\n",
       "    <tr>\n",
       "      <th>1</th>\n",
       "      <td>1200121584142487552</td>\n",
       "      <td>2019-11-28 18:37:37</td>\n",
       "      <td>. is granddaughter, lavinia, gives great pep t...</td>\n",
       "    </tr>\n",
       "    <tr>\n",
       "      <th>2</th>\n",
       "      <td>1200406059933949952</td>\n",
       "      <td>2019-11-29 13:28:01</td>\n",
       "      <td>democrats doing the “attack the leftist polici...</td>\n",
       "    </tr>\n",
       "    <tr>\n",
       "      <th>3</th>\n",
       "      <td>1200546342134697984</td>\n",
       "      <td>2019-11-29 22:45:27</td>\n",
       "      <td>@satchelmose  i can not understand her point. ...</td>\n",
       "    </tr>\n",
       "    <tr>\n",
       "      <th>4</th>\n",
       "      <td>1200546331946889218</td>\n",
       "      <td>2019-11-29 22:45:25</td>\n",
       "      <td>“you did not build that” remix.  i hated it w...</td>\n",
       "    </tr>\n",
       "  </tbody>\n",
       "</table>\n",
       "</div>"
      ],
      "text/plain": [
       "                id_str           created_at  \\\n",
       "0  1200485829111513088  2019-11-29 18:45:00   \n",
       "1  1200121584142487552  2019-11-28 18:37:37   \n",
       "2  1200406059933949952  2019-11-29 13:28:01   \n",
       "3  1200546342134697984  2019-11-29 22:45:27   \n",
       "4  1200546331946889218  2019-11-29 22:45:25   \n",
       "\n",
       "                                           full_text  \n",
       "0  these dem sens. r running against #trump in #2...  \n",
       "1  . is granddaughter, lavinia, gives great pep t...  \n",
       "2  democrats doing the “attack the leftist polici...  \n",
       "3  @satchelmose  i can not understand her point. ...  \n",
       "4   “you did not build that” remix.  i hated it w...  "
      ]
     },
     "execution_count": 4,
     "metadata": {},
     "output_type": "execute_result"
    }
   ],
   "source": [
    "df.head()"
   ]
  },
  {
   "cell_type": "code",
   "execution_count": 5,
   "metadata": {
    "scrolled": true
   },
   "outputs": [
    {
     "data": {
      "text/plain": [
       "(18278, 3)"
      ]
     },
     "execution_count": 5,
     "metadata": {},
     "output_type": "execute_result"
    }
   ],
   "source": [
    "df.shape"
   ]
  },
  {
   "cell_type": "code",
   "execution_count": null,
   "metadata": {},
   "outputs": [],
   "source": []
  },
  {
   "cell_type": "markdown",
   "metadata": {},
   "source": [
    "# Data-specific Preprocessing"
   ]
  },
  {
   "cell_type": "code",
   "execution_count": 6,
   "metadata": {},
   "outputs": [],
   "source": [
    "stop_words = nltk.corpus.stopwords.words('english')\n"
   ]
  },
  {
   "cell_type": "code",
   "execution_count": 7,
   "metadata": {},
   "outputs": [],
   "source": [
    "stop_words.extend(['from', 'subject', 're', 'use',\"get\",'like','want','way','must','yet','take','look','still','hey', 'lol', 'day', 'liz',\n",
    "                  'thanks', 'part', 'plan', 'lol', 'since', 'ever'])"
   ]
  },
  {
   "cell_type": "code",
   "execution_count": 8,
   "metadata": {},
   "outputs": [],
   "source": [
    "# tokenize the tweets\n",
    "\n",
    "def tokenize(text):\n",
    "    '''names = [\"berniesanders\", \"bernie\", \"sanders\", \"bern\",\n",
    "             \"elizabethwarren\",\"elizabeth\",\"warren\", 'ewarren'\n",
    "             \"joebiden\",\"joe\",\"biden\",\n",
    "             'donaldtrump', 'donald', 'trump',\n",
    "             'aoc', 'cortez'\n",
    "            ]'''\n",
    "    lowered = nltk.tokenize.word_tokenize(text.lower())\n",
    "    tokenized = [t for t in lowered if t not in stop_words if len(t)>1 if str.isalpha(t)] #if t not in names\n",
    "    return tokenized"
   ]
  },
  {
   "cell_type": "markdown",
   "metadata": {},
   "source": [
    "# Tokenization"
   ]
  },
  {
   "cell_type": "code",
   "execution_count": 9,
   "metadata": {},
   "outputs": [],
   "source": [
    "data = df['full_text']\n",
    "\n",
    "tokenized_data = []\n",
    "for text in data:\n",
    "    tokenized_data.append(tokenize(text))\n"
   ]
  },
  {
   "cell_type": "code",
   "execution_count": null,
   "metadata": {},
   "outputs": [],
   "source": []
  },
  {
   "cell_type": "code",
   "execution_count": null,
   "metadata": {},
   "outputs": [],
   "source": []
  },
  {
   "cell_type": "markdown",
   "metadata": {},
   "source": [
    "# PoS Tagging"
   ]
  },
  {
   "cell_type": "code",
   "execution_count": 10,
   "metadata": {},
   "outputs": [],
   "source": [
    "tagged_data = [nltk.pos_tag(t) for t in tokenized_data]"
   ]
  },
  {
   "cell_type": "code",
   "execution_count": 11,
   "metadata": {
    "scrolled": false
   },
   "outputs": [
    {
     "data": {
      "text/plain": [
       "[[('dem', 'NN'),\n",
       "  ('sens', 'NNS'),\n",
       "  ('running', 'VBG'),\n",
       "  ('trump', 'NN'),\n",
       "  ('kamalaharris', 'FW'),\n",
       "  ('michaelbennet', 'NN'),\n",
       "  ('amyklobuchar', 'NN'),\n",
       "  ('corybooker', 'NN'),\n",
       "  ('berniesanders', 'NNS'),\n",
       "  ('sens', 'VBP'),\n",
       "  ('recuse', 'NN'),\n",
       "  ('sitting', 'VBG'),\n",
       "  ('juror', 'NN'),\n",
       "  ('senate', 'NN'),\n",
       "  ('impeachment', 'NN'),\n",
       "  ('trial', 'NN')],\n",
       " [('granddaughter', 'NN'),\n",
       "  ('lavinia', 'NN'),\n",
       "  ('gives', 'VBZ'),\n",
       "  ('great', 'JJ'),\n",
       "  ('pep', 'JJ'),\n",
       "  ('talks', 'NNS'),\n",
       "  ('hope', 'VBP'),\n",
       "  ('thanksgiving', 'VBG'),\n",
       "  ('filled', 'VBN'),\n",
       "  ('friends', 'NNS'),\n",
       "  ('family', 'NN'),\n",
       "  ('chosen', 'VBN'),\n",
       "  ('family', 'NN'),\n",
       "  ('loved', 'VBN'),\n",
       "  ('ones', 'NNS'),\n",
       "  ('inspire', 'VBP'),\n",
       "  ('keep', 'VB'),\n",
       "  ('fighting', 'NN')],\n",
       " [('democrats', 'NNS'),\n",
       "  ('attack', 'VBP'),\n",
       "  ('leftist', 'JJ'),\n",
       "  ('policies', 'NNS'),\n",
       "  ('thing', 'NN'),\n",
       "  ('aware', 'JJ'),\n",
       "  ('providing', 'VBG'),\n",
       "  ('bipartisan', 'JJ'),\n",
       "  ('legitimacy', 'NN'),\n",
       "  ('talking', 'VBG'),\n",
       "  ('points', 'NNS'),\n",
       "  ('long', 'JJ'),\n",
       "  ('history', 'NN'),\n",
       "  ('realdonaldtrump', 'NN'),\n",
       "  ('attacks', 'NNS'),\n",
       "  ('whoever', 'WP'),\n",
       "  ('nominee', 'VBP'),\n",
       "  ('joebiden', 'JJ'),\n",
       "  ('petebuttigieg', 'NN')],\n",
       " [('satchelmose', 'JJ'),\n",
       "  ('understand', 'JJ'),\n",
       "  ('point', 'NN'),\n",
       "  ('claiming', 'VBG'),\n",
       "  ('rich', 'JJ'),\n",
       "  ('subsidized', 'VBN'),\n",
       "  ('broader', 'JJR'),\n",
       "  ('top', 'JJ'),\n",
       "  ('pay', 'NN'),\n",
       "  ('federal', 'JJ'),\n",
       "  ('income', 'NN'),\n",
       "  ('taxes', 'NNS'),\n",
       "  ('bottom', 'JJ'),\n",
       "  ('pay', 'NN'),\n",
       "  ('saying', 'VBG')],\n",
       " [('build', 'VB'),\n",
       "  ('remix', 'NN'),\n",
       "  ('hated', 'VBN'),\n",
       "  ('obama', 'NN'),\n",
       "  ('said', 'VBD'),\n",
       "  ('sounds', 'NNS'),\n",
       "  ('even', 'RB'),\n",
       "  ('worse', 'JJR'),\n",
       "  ('spewed', 'VBD'),\n",
       "  ('pandering', 'VBG'),\n",
       "  ('fraud', 'NN'),\n",
       "  ('fauxcahontas', 'NNS')]]"
      ]
     },
     "execution_count": 11,
     "metadata": {},
     "output_type": "execute_result"
    }
   ],
   "source": [
    "tagged_data[:5]"
   ]
  },
  {
   "cell_type": "markdown",
   "metadata": {},
   "source": [
    "# Lemmatization/Stemming"
   ]
  },
  {
   "cell_type": "code",
   "execution_count": 12,
   "metadata": {},
   "outputs": [
    {
     "data": {
      "text/plain": [
       "[['dem',\n",
       "  'sen',\n",
       "  'run',\n",
       "  'trump',\n",
       "  'michaelbennet',\n",
       "  'amyklobuchar',\n",
       "  'corybooker',\n",
       "  'berniesanders',\n",
       "  'sens',\n",
       "  'recuse',\n",
       "  'sit',\n",
       "  'juror',\n",
       "  'senate',\n",
       "  'impeachment',\n",
       "  'trial'],\n",
       " ['granddaughter',\n",
       "  'lavinia',\n",
       "  'give',\n",
       "  'great',\n",
       "  'pep',\n",
       "  'talk',\n",
       "  'hope',\n",
       "  'thanksgiving',\n",
       "  'fill',\n",
       "  'friend',\n",
       "  'family',\n",
       "  'choose',\n",
       "  'family',\n",
       "  'love',\n",
       "  'one',\n",
       "  'inspire',\n",
       "  'keep',\n",
       "  'fighting'],\n",
       " ['democrat',\n",
       "  'attack',\n",
       "  'leftist',\n",
       "  'policy',\n",
       "  'thing',\n",
       "  'aware',\n",
       "  'provide',\n",
       "  'bipartisan',\n",
       "  'legitimacy',\n",
       "  'talk',\n",
       "  'point',\n",
       "  'long',\n",
       "  'history',\n",
       "  'realdonaldtrump',\n",
       "  'attack',\n",
       "  'nominee',\n",
       "  'joebiden',\n",
       "  'petebuttigieg'],\n",
       " ['satchelmose',\n",
       "  'understand',\n",
       "  'point',\n",
       "  'claim',\n",
       "  'rich',\n",
       "  'subsidize',\n",
       "  'top',\n",
       "  'pay',\n",
       "  'federal',\n",
       "  'income',\n",
       "  'tax',\n",
       "  'bottom',\n",
       "  'pay',\n",
       "  'say'],\n",
       " ['build',\n",
       "  'remix',\n",
       "  'hat',\n",
       "  'obama',\n",
       "  'sound',\n",
       "  'pander',\n",
       "  'fraud',\n",
       "  'fauxcahontas']]"
      ]
     },
     "execution_count": 12,
     "metadata": {},
     "output_type": "execute_result"
    }
   ],
   "source": [
    "#from nltk.stem.porter import PorterStemmer\n",
    "from nltk.stem import WordNetLemmatizer \n",
    "from nltk.corpus import wordnet\n",
    "\n",
    "def get_wordnet_pos(word, tag):\n",
    "    \"\"\"Map POS tag to first character lemmatize() accepts\"\"\"\n",
    "    tag = tag[0].upper()\n",
    "    tag_dict = {\"J\": wordnet.ADJ,\n",
    "                \"N\": wordnet.NOUN,\n",
    "                \"V\": wordnet.VERB,\n",
    "                \"R\": wordnet.ADV}\n",
    "\n",
    "    return tag_dict.get(tag, wordnet.NOUN)\n",
    "\n",
    "#temmer = PorterStemmer()\n",
    "#def get_stemmed_tokens(tokens):\n",
    "#    token = []\n",
    "#    for token_list in tokens:\n",
    "#        texts = [p_stemmer.stem(i) for i in token_list if ]\n",
    "#        token.append(texts)\n",
    "#    return token\n",
    "\n",
    "lemmatizer = WordNetLemmatizer()\n",
    "\n",
    "tagnames = ['NN','NNS', 'NNP', 'NNPS', 'JJ', 'VB', 'VBG', 'VBN', 'VBP', 'VBZ']\n",
    "lemmatized_data = []\n",
    "\n",
    "for tagged_doc in tagged_data:\n",
    "    temp = []\n",
    "    for t1, t2 in tagged_doc:\n",
    "        if t2 in tagnames:\n",
    "            temp.append(lemmatizer.lemmatize(t1, get_wordnet_pos(word=t1, tag=t2)))\n",
    "    lemmatized_data.append(temp)\n",
    "\n",
    "lemmatized_data[:5]"
   ]
  },
  {
   "cell_type": "code",
   "execution_count": null,
   "metadata": {},
   "outputs": [],
   "source": []
  },
  {
   "cell_type": "code",
   "execution_count": 13,
   "metadata": {},
   "outputs": [],
   "source": [
    "# --------------------"
   ]
  },
  {
   "cell_type": "code",
   "execution_count": 14,
   "metadata": {},
   "outputs": [],
   "source": [
    "import gensim\n",
    "def ngrams(stemmed_tokens):\n",
    "# Build the bigram and trigram models\n",
    "    bigram = gensim.models.Phrases(stemmed_tokens, min_count=5, threshold=100) # higher threshold fewer phrases.\n",
    "    trigram = gensim.models.Phrases(bigram[stemmed_tokens], threshold=100)  \n",
    "\n",
    "# Faster way to get a sentence clubbed as a trigram/bigram\n",
    "    bigram_mod = gensim.models.phrases.Phraser(bigram)\n",
    "    trigram_mod = gensim.models.phrases.Phraser(trigram)\n",
    "\n",
    "    final_tokens = []\n",
    "# See trigram example\n",
    "    for i in range(0,len(trigram_mod[bigram_mod[stemmed_tokens]])):\n",
    "        final_tokens.append(trigram_mod[bigram_mod[stemmed_tokens[i]]])\n",
    "    return final_tokens"
   ]
  },
  {
   "cell_type": "code",
   "execution_count": null,
   "metadata": {},
   "outputs": [],
   "source": []
  },
  {
   "cell_type": "code",
   "execution_count": 15,
   "metadata": {},
   "outputs": [],
   "source": [
    "#from nltk import FreqDist\n",
    "\n",
    "#fdist=FreqDist(final_tokens)"
   ]
  },
  {
   "cell_type": "code",
   "execution_count": 16,
   "metadata": {},
   "outputs": [],
   "source": [
    "#---------------------------#"
   ]
  },
  {
   "cell_type": "code",
   "execution_count": null,
   "metadata": {},
   "outputs": [],
   "source": []
  },
  {
   "cell_type": "code",
   "execution_count": null,
   "metadata": {},
   "outputs": [],
   "source": []
  },
  {
   "cell_type": "code",
   "execution_count": null,
   "metadata": {},
   "outputs": [],
   "source": []
  },
  {
   "cell_type": "code",
   "execution_count": null,
   "metadata": {},
   "outputs": [],
   "source": []
  },
  {
   "cell_type": "markdown",
   "metadata": {},
   "source": [
    "# Corpus Generation / Indexing"
   ]
  },
  {
   "cell_type": "code",
   "execution_count": 17,
   "metadata": {},
   "outputs": [
    {
     "name": "stdout",
     "output_type": "stream",
     "text": [
      "13965\n",
      "1457\n"
     ]
    }
   ],
   "source": [
    "import gensim\n",
    "from gensim import corpora\n",
    "\n",
    "\n",
    "dictionary = corpora.Dictionary(lemmatized_data)\n",
    "print(len(dictionary))\n",
    "\n",
    "# filter for terms which occur in no less than 0.1% of the documents (here tweets) and no more than 0.9% of the documents (tweets)\n",
    "dictionary.filter_extremes(no_below=int(df.shape[0]*0.001), no_above=0.9)\n",
    "\n",
    "print(len(dictionary))\n",
    "\n"
   ]
  },
  {
   "cell_type": "code",
   "execution_count": 18,
   "metadata": {},
   "outputs": [],
   "source": [
    "doc_term_matrix = [dictionary.doc2bow(doc) for doc in lemmatized_data]\n"
   ]
  },
  {
   "cell_type": "markdown",
   "metadata": {},
   "source": [
    "# LDA-Topic Model"
   ]
  },
  {
   "cell_type": "code",
   "execution_count": 19,
   "metadata": {},
   "outputs": [],
   "source": [
    "topics_to_discover = 3"
   ]
  },
  {
   "cell_type": "code",
   "execution_count": 20,
   "metadata": {},
   "outputs": [],
   "source": [
    "\n",
    "# Creating the object for LDA model using gensim library\n",
    "Lda = gensim.models.ldamodel.LdaModel\n",
    "\n",
    "# Running and Trainign LDA model on the document term matrix.\n",
    "ldamodel_elizabeth_warren = Lda(doc_term_matrix, num_topics=topics_to_discover, id2word = dictionary, passes=50, random_state = 42)\n"
   ]
  },
  {
   "cell_type": "code",
   "execution_count": 21,
   "metadata": {},
   "outputs": [
    {
     "name": "stdout",
     "output_type": "stream",
     "text": [
      "[(0, '0.016*\"president\" + 0.015*\"see\" + 0.013*\"american\" + 0.013*\"go\" + 0.013*\"people\"'), (1, '0.022*\"berniesanders\" + 0.021*\"tax\" + 0.017*\"pay\" + 0.014*\"people\" + 0.013*\"need\"'), (2, '0.020*\"law\" + 0.018*\"good\" + 0.018*\"school\" + 0.016*\"go\" + 0.015*\"job\"')]\n"
     ]
    }
   ],
   "source": [
    "print(ldamodel_elizabeth_warren.print_topics(num_topics=topics_to_discover, num_words=5))"
   ]
  },
  {
   "cell_type": "markdown",
   "metadata": {},
   "source": [
    "# Visualizations"
   ]
  },
  {
   "cell_type": "code",
   "execution_count": 22,
   "metadata": {
    "scrolled": true
   },
   "outputs": [
    {
     "name": "stderr",
     "output_type": "stream",
     "text": [
      "/usr/local/lib/python3.7/site-packages/pyLDAvis/_prepare.py:257: FutureWarning: Sorting because non-concatenation axis is not aligned. A future version\n",
      "of pandas will change to not sort by default.\n",
      "\n",
      "To accept the future behavior, pass 'sort=False'.\n",
      "\n",
      "To retain the current behavior and silence the warning, pass 'sort=True'.\n",
      "\n",
      "  return pd.concat([default_term_info] + list(topic_dfs))\n"
     ]
    },
    {
     "data": {
      "text/html": [
       "\n",
       "<link rel=\"stylesheet\" type=\"text/css\" href=\"https://cdn.rawgit.com/bmabey/pyLDAvis/files/ldavis.v1.0.0.css\">\n",
       "\n",
       "\n",
       "<div id=\"ldavis_el4341405735348145446141855269\"></div>\n",
       "<script type=\"text/javascript\">\n",
       "\n",
       "var ldavis_el4341405735348145446141855269_data = {\"mdsDat\": {\"x\": [-0.04855368455448009, -0.21319881970473883, 0.261752504259219], \"y\": [-0.2577944812605806, 0.1684282555726615, 0.08936622568791898], \"topics\": [1, 2, 3], \"cluster\": [1, 1, 1], \"Freq\": [37.92456817626953, 33.577537536621094, 28.49789047241211]}, \"tinfo\": {\"Category\": [\"Default\", \"Default\", \"Default\", \"Default\", \"Default\", \"Default\", \"Default\", \"Default\", \"Default\", \"Default\", \"Default\", \"Default\", \"Default\", \"Default\", \"Default\", \"Default\", \"Default\", \"Default\", \"Default\", \"Default\", \"Default\", \"Default\", \"Default\", \"Default\", \"Default\", \"Default\", \"Default\", \"Default\", \"Default\", \"Default\", \"Topic1\", \"Topic1\", \"Topic1\", \"Topic1\", \"Topic1\", \"Topic1\", \"Topic1\", \"Topic1\", \"Topic1\", \"Topic1\", \"Topic1\", \"Topic1\", \"Topic1\", \"Topic1\", \"Topic1\", \"Topic1\", \"Topic1\", \"Topic1\", \"Topic1\", \"Topic1\", \"Topic1\", \"Topic1\", \"Topic1\", \"Topic1\", \"Topic1\", \"Topic1\", \"Topic1\", \"Topic1\", \"Topic1\", \"Topic1\", \"Topic1\", \"Topic1\", \"Topic1\", \"Topic1\", \"Topic1\", \"Topic1\", \"Topic1\", \"Topic1\", \"Topic1\", \"Topic1\", \"Topic1\", \"Topic1\", \"Topic1\", \"Topic1\", \"Topic1\", \"Topic2\", \"Topic2\", \"Topic2\", \"Topic2\", \"Topic2\", \"Topic2\", \"Topic2\", \"Topic2\", \"Topic2\", \"Topic2\", \"Topic2\", \"Topic2\", \"Topic2\", \"Topic2\", \"Topic2\", \"Topic2\", \"Topic2\", \"Topic2\", \"Topic2\", \"Topic2\", \"Topic2\", \"Topic2\", \"Topic2\", \"Topic2\", \"Topic2\", \"Topic2\", \"Topic2\", \"Topic2\", \"Topic2\", \"Topic2\", \"Topic2\", \"Topic2\", \"Topic2\", \"Topic2\", \"Topic2\", \"Topic2\", \"Topic2\", \"Topic2\", \"Topic2\", \"Topic2\", \"Topic2\", \"Topic2\", \"Topic2\", \"Topic2\", \"Topic2\", \"Topic2\", \"Topic2\", \"Topic2\", \"Topic2\", \"Topic2\", \"Topic2\", \"Topic3\", \"Topic3\", \"Topic3\", \"Topic3\", \"Topic3\", \"Topic3\", \"Topic3\", \"Topic3\", \"Topic3\", \"Topic3\", \"Topic3\", \"Topic3\", \"Topic3\", \"Topic3\", \"Topic3\", \"Topic3\", \"Topic3\", \"Topic3\", \"Topic3\", \"Topic3\", \"Topic3\", \"Topic3\", \"Topic3\", \"Topic3\", \"Topic3\", \"Topic3\", \"Topic3\", \"Topic3\", \"Topic3\", \"Topic3\", \"Topic3\", \"Topic3\", \"Topic3\", \"Topic3\", \"Topic3\", \"Topic3\", \"Topic3\", \"Topic3\", \"Topic3\", \"Topic3\", \"Topic3\", \"Topic3\", \"Topic3\"], \"Freq\": [1039.0, 996.0, 727.0, 659.0, 627.0, 677.0, 627.0, 524.0, 504.0, 438.0, 423.0, 1152.0, 444.0, 376.0, 371.0, 681.0, 467.0, 394.0, 606.0, 886.0, 442.0, 714.0, 1190.0, 314.0, 305.0, 299.0, 343.0, 875.0, 373.0, 373.0, 1038.848876953125, 995.927001953125, 466.65435791015625, 442.2783203125, 372.39044189453125, 372.49639892578125, 366.3988342285156, 348.0449523925781, 364.2669982910156, 321.7545471191406, 328.5644226074219, 306.61529541015625, 280.4971008300781, 254.875732421875, 283.9203796386719, 237.18283081054688, 210.45535278320312, 202.43780517578125, 206.6778564453125, 194.90020751953125, 190.7589874267578, 160.61328125, 167.98751831054688, 162.82952880859375, 152.6078643798828, 152.18641662597656, 155.92642211914062, 148.94662475585938, 172.96144104003906, 158.6362762451172, 155.03302001953125, 810.7855834960938, 621.76708984375, 341.83599853515625, 582.9817504882812, 482.9737243652344, 340.7838134765625, 350.6208801269531, 675.98486328125, 469.5205993652344, 281.51837158203125, 349.39373779296875, 291.27630615234375, 237.16384887695312, 238.62518310546875, 677.0173950195312, 626.5878295898438, 444.0625305175781, 393.8225402832031, 342.74285888671875, 328.43304443359375, 321.2248229980469, 279.7832946777344, 297.96197509765625, 290.005615234375, 264.44842529296875, 242.786865234375, 242.7476348876953, 247.5479278564453, 238.15687561035156, 221.8247833251953, 192.82882690429688, 198.91358947753906, 201.28933715820312, 190.00376892089844, 191.36550903320312, 167.47471618652344, 165.25582885742188, 149.03529357910156, 159.66854858398438, 150.65234375, 135.20428466796875, 153.37574768066406, 149.83999633789062, 135.86268615722656, 158.5658416748047, 143.4856719970703, 146.45266723632812, 523.7532348632812, 270.9038391113281, 513.4475708007812, 270.80291748046875, 303.927734375, 554.6013793945312, 237.1898651123047, 244.81912231445312, 548.8558959960938, 415.76593017578125, 407.6564025878906, 391.59814453125, 261.187255859375, 534.6695556640625, 277.46197509765625, 282.87322998046875, 242.449462890625, 246.1967315673828, 726.3967895507812, 626.7689208984375, 659.1986694335938, 504.3129577636719, 523.8958740234375, 422.4269714355469, 437.73345947265625, 370.9580078125, 375.8031005859375, 304.7379150390625, 313.6451416015625, 298.86505126953125, 274.41119384765625, 238.12501525878906, 239.2859344482422, 248.9073944091797, 238.4189453125, 224.9432373046875, 221.82693481445312, 207.7854766845703, 209.96302795410156, 180.973388671875, 188.8662872314453, 158.4659881591797, 159.405029296875, 155.3204803466797, 158.7962646484375, 159.36566162109375, 141.6190643310547, 129.12664794921875, 136.36135864257812, 498.7403564453125, 467.7959899902344, 582.3656005859375, 293.7280578613281, 465.611572265625, 331.11260986328125, 201.6790313720703, 341.7568359375, 292.1163635253906, 255.16734313964844, 235.98046875, 222.64163208007812], \"Term\": [\"berniesanders\", \"tax\", \"law\", \"good\", \"school\", \"president\", \"see\", \"job\", \"student\", \"fake\", \"ice\", \"pay\", \"thanksgiving\", \"free\", \"education\", \"country\", \"joebiden\", \"native\", \"vote\", \"american\", \"proudresister\", \"lie\", \"go\", \"obama\", \"illegal\", \"kid\", \"woman\", \"work\", \"petebuttigieg\", \"realdonaldtrump\", \"berniesanders\", \"tax\", \"joebiden\", \"proudresister\", \"petebuttigieg\", \"realdonaldtrump\", \"rich\", \"aoc\", \"much\", \"kamalaharris\", \"bernie\", \"policy\", \"billionaire\", \"wealth\", \"point\", \"business\", \"mikebloomberg\", \"republican\", \"biden\", \"progressive\", \"bill\", \"speakerpelosi\", \"healthcare\", \"infrastructure\", \"repadamschiff\", \"maddow\", \"income\", \"marwilliamson\", \"dems\", \"poor\", \"company\", \"pay\", \"need\", \"candidate\", \"work\", \"money\", \"thing\", \"support\", \"people\", \"make\", \"change\", \"think\", \"give\", \"help\", \"everyone\", \"president\", \"see\", \"thanksgiving\", \"native\", \"woman\", \"love\", \"family\", \"happy\", \"white\", \"black\", \"fight\", \"win\", \"iafor\", \"indian\", \"ryangrim\", \"thank\", \"pocahontas\", \"wait\", \"lose\", \"cbszak\", \"senator\", \"supporter\", \"voter\", \"hope\", \"little\", \"stand\", \"wow\", \"next\", \"number\", \"racist\", \"word\", \"history\", \"play\", \"vote\", \"campaign\", \"trump\", \"tell\", \"democrat\", \"american\", \"do\", \"big\", \"go\", \"know\", \"think\", \"say\", \"run\", \"people\", \"year\", \"make\", \"come\", \"lie\", \"law\", \"school\", \"good\", \"student\", \"job\", \"ice\", \"fake\", \"education\", \"free\", \"illegal\", \"obama\", \"kid\", \"read\", \"university\", \"college\", \"fraud\", \"child\", \"break\", \"build\", \"stupid\", \"stay\", \"agfiji\", \"private\", \"visa\", \"legal\", \"citizen\", \"dream\", \"debt\", \"illegals\", \"disastrouslyh\", \"criminal\", \"country\", \"lie\", \"go\", \"class\", \"people\", \"american\", \"public\", \"pay\", \"work\", \"know\", \"money\", \"time\"], \"Total\": [1039.0, 996.0, 727.0, 659.0, 627.0, 677.0, 627.0, 524.0, 504.0, 438.0, 423.0, 1152.0, 444.0, 376.0, 371.0, 681.0, 467.0, 394.0, 606.0, 886.0, 442.0, 714.0, 1190.0, 314.0, 305.0, 299.0, 343.0, 875.0, 373.0, 373.0, 1039.5543212890625, 996.6600341796875, 467.34075927734375, 442.9868469238281, 373.07421875, 373.2325439453125, 367.14697265625, 348.75634765625, 365.04071044921875, 322.4679260253906, 329.3040466308594, 307.37188720703125, 281.1958312988281, 255.57150268554688, 284.69683837890625, 237.9308319091797, 211.1603546142578, 203.19400024414062, 207.4547882080078, 195.67263793945312, 191.53125, 161.28366088867188, 168.70721435546875, 163.54164123535156, 153.27598571777344, 152.85682678222656, 156.62420654296875, 149.61444091796875, 173.73916625976562, 159.37081909179688, 155.76275634765625, 1152.889404296875, 842.49853515625, 426.5957336425781, 875.484619140625, 719.325927734375, 477.6605529785156, 566.3311157226562, 1676.2659912109375, 914.5591430664062, 429.2049865722656, 803.4970703125, 525.9332275390625, 323.48736572265625, 335.0713806152344, 677.7529296875, 627.3649291992188, 444.7434387207031, 394.5491943359375, 343.4588928222656, 329.1727294921875, 321.97760009765625, 280.46160888671875, 298.6935729980469, 290.7751770019531, 265.18878173828125, 243.512939453125, 243.50741577148438, 248.32725524902344, 238.9203338623047, 222.54150390625, 193.54345703125, 199.67897033691406, 202.07125854492188, 190.7573699951172, 192.13978576660156, 168.21731567382812, 166.02056884765625, 149.76780700683594, 160.4547119140625, 151.4168701171875, 135.8949432373047, 154.16168212890625, 150.6092529296875, 136.5791778564453, 159.44024658203125, 144.24998474121094, 147.26812744140625, 606.7462768554688, 305.8939208984375, 697.5123901367188, 314.8403625488281, 382.2574157714844, 886.1363525390625, 285.0243835449219, 313.17059326171875, 1190.7001953125, 830.76318359375, 803.4970703125, 788.925048828125, 353.6328125, 1676.2659912109375, 613.2252197265625, 914.5591430664062, 395.9897155761719, 714.3502197265625, 727.09521484375, 627.458984375, 659.958740234375, 504.9917907714844, 524.637451171875, 423.10748291015625, 438.4483642578125, 371.7079162597656, 376.56646728515625, 305.420654296875, 314.3885192871094, 299.5770263671875, 275.17657470703125, 238.802978515625, 239.98944091796875, 249.66720581054688, 239.169921875, 225.6791534423828, 222.59829711914062, 208.51333618164062, 210.72116088867188, 181.64781188964844, 189.61068725585938, 159.1337890625, 160.09344482421875, 156.05067443847656, 159.54827880859375, 160.12490844726562, 142.31153869628906, 129.79881286621094, 137.08966064453125, 681.9758911132812, 714.3502197265625, 1190.7001953125, 438.8118896484375, 1676.2659912109375, 886.1363525390625, 288.4847412109375, 1152.889404296875, 875.484619140625, 830.76318359375, 719.325927734375, 678.00048828125], \"loglift\": [30.0, 29.0, 28.0, 27.0, 26.0, 25.0, 24.0, 23.0, 22.0, 21.0, 20.0, 19.0, 18.0, 17.0, 16.0, 15.0, 14.0, 13.0, 12.0, 11.0, 10.0, 9.0, 8.0, 7.0, 6.0, 5.0, 4.0, 3.0, 2.0, 1.0, 0.9689000248908997, 0.9688000082969666, 0.9681000113487244, 0.9679999947547913, 0.9677000045776367, 0.9675999879837036, 0.9674999713897705, 0.9674999713897705, 0.9674000144004822, 0.9674000144004822, 0.9672999978065491, 0.9671000242233276, 0.9671000242233276, 0.9667999744415283, 0.9667999744415283, 0.9664000272750854, 0.9661999940872192, 0.9657999873161316, 0.9657999873161316, 0.9656000137329102, 0.965499997138977, 0.965399980545044, 0.9653000235557556, 0.9652000069618225, 0.9652000069618225, 0.9652000069618225, 0.9650999903678894, 0.9650999903678894, 0.9650999903678894, 0.9649999737739563, 0.964900016784668, 0.6175000071525574, 0.6657999753952026, 0.7480999827384949, 0.5629000067710876, 0.5712000131607056, 0.6319000124931335, 0.4900999963283539, 0.061400000005960464, 0.3027999997138977, 0.5478000044822693, 0.13680000603199005, 0.37869998812675476, 0.6592000126838684, 0.6301000118255615, 1.0901999473571777, 1.0901000499725342, 1.0898000001907349, 1.0894999504089355, 1.0892000198364258, 1.0891000032424927, 1.0889999866485596, 1.0888999700546265, 1.0888999700546265, 1.0887000560760498, 1.0885000228881836, 1.0882999897003174, 1.0881999731063843, 1.0881999731063843, 1.0880999565124512, 1.0880999565124512, 1.0875999927520752, 1.087499976158142, 1.087399959564209, 1.087399959564209, 1.0872999429702759, 1.086899995803833, 1.0866999626159668, 1.086400032043457, 1.086400032043457, 1.086300015449524, 1.0861999988555908, 1.0861999988555908, 1.0861999988555908, 1.0860999822616577, 1.085800051689148, 1.0859999656677246, 1.085800051689148, 0.9441999793052673, 0.9697999954223633, 0.7849000096321106, 0.9405999779701233, 0.8619999885559082, 0.6226999759674072, 0.9075999855995178, 0.8450999855995178, 0.31690001487731934, 0.39910000562667847, 0.41280001401901245, 0.39089998602867126, 0.7882999777793884, -0.05139999836683273, 0.29829999804496765, -0.08209999650716782, 0.6007000207901001, 0.026100000366568565, 1.2544000148773193, 1.2541999816894531, 1.2541999816894531, 1.253999948501587, 1.2539000511169434, 1.2537000179290771, 1.2537000179290771, 1.2532999515533447, 1.2532999515533447, 1.253100037574768, 1.253000020980835, 1.253000020980835, 1.2525999546051025, 1.252500057220459, 1.2524000406265259, 1.2523000240325928, 1.2522000074386597, 1.2520999908447266, 1.2518999576568604, 1.2517999410629272, 1.2517000436782837, 1.2516000270843506, 1.2513999938964844, 1.251099944114685, 1.2510000467300415, 1.250599980354309, 1.250599980354309, 1.250599980354309, 1.250499963760376, 1.250100016593933, 1.25, 0.9423999786376953, 0.8320000171661377, 0.5400999784469604, 0.8539000153541565, -0.025599999353289604, 0.27090001106262207, 0.8974000215530396, 0.039400000125169754, 0.15770000219345093, 0.07490000128746033, 0.14079999923706055, 0.14180000126361847], \"logprob\": [30.0, 29.0, 28.0, 27.0, 26.0, 25.0, 24.0, 23.0, 22.0, 21.0, 20.0, 19.0, 18.0, 17.0, 16.0, 15.0, 14.0, 13.0, 12.0, 11.0, 10.0, 9.0, 8.0, 7.0, 6.0, 5.0, 4.0, 3.0, 2.0, 1.0, -3.822700023651123, -3.8649001121520996, -4.623000144958496, -4.676700115203857, -4.848700046539307, -4.848400115966797, -4.8649001121521, -4.916299819946289, -4.870699882507324, -4.994800090789795, -4.973899841308594, -5.043000221252441, -5.131999969482422, -5.227799892425537, -5.119900226593018, -5.299799919128418, -5.419300079345703, -5.458199977874756, -5.437399864196777, -5.496099948883057, -5.517600059509277, -5.689599990844727, -5.644700050354004, -5.675899982452393, -5.740699768066406, -5.743500232696533, -5.719200134277344, -5.764999866485596, -5.615499973297119, -5.702000141143799, -5.724999904632568, -4.0706000328063965, -4.335999965667725, -4.934299945831299, -4.4004998207092285, -4.588600158691406, -4.937399864196777, -4.908899784088135, -4.252399921417236, -4.6168999671936035, -5.128399848937988, -4.912399768829346, -5.094299793243408, -5.299900054931641, -5.293700218200684, -4.129199981689453, -4.206600189208984, -4.550899982452393, -4.671000003814697, -4.809899806976318, -4.852499961853027, -4.87470006942749, -5.012899875640869, -4.949900150299072, -4.9770002365112305, -5.069200038909912, -5.154699802398682, -5.154799938201904, -5.135300159454346, -5.173900127410889, -5.244999885559082, -5.3850998878479, -5.354000091552734, -5.342100143432617, -5.399799823760986, -5.3927001953125, -5.526000022888184, -5.539400100708008, -5.6427001953125, -5.573800086975098, -5.631899833679199, -5.740099906921387, -5.613999843597412, -5.63730001449585, -5.735199928283691, -5.580699920654297, -5.680600166320801, -5.660200119018555, -4.385799884796143, -5.045100212097168, -4.405700206756592, -5.045499801635742, -4.930099964141846, -4.32859992980957, -5.177999973297119, -5.146299839019775, -4.339000225067139, -4.616700172424316, -4.63640022277832, -4.676599979400635, -5.081600189208984, -4.365200042724609, -5.021200180053711, -5.0019001960754395, -5.156099796295166, -5.140699863433838, -3.894700050354004, -4.042300224304199, -3.99180006980896, -4.2596001625061035, -4.221499919891357, -4.436800003051758, -4.401199817657471, -4.566800117492676, -4.553800106048584, -4.763400077819824, -4.734600067138672, -4.782800197601318, -4.868199825286865, -5.010000228881836, -5.005199909210205, -4.965799808502197, -5.008800029754639, -5.066999912261963, -5.080900192260742, -5.146299839019775, -5.135900020599365, -5.2845001220703125, -5.241799831390381, -5.417300224304199, -5.411399841308594, -5.437300205230713, -5.415200233459473, -5.411600112915039, -5.529699802398682, -5.622000217437744, -5.567500114440918, -4.2708001136779785, -4.334799766540527, -4.115699768066406, -4.80019998550415, -4.3394999504089355, -4.6803998947143555, -5.176199913024902, -4.64870023727417, -4.805699825286865, -4.940899848937988, -5.019100189208984, -5.077300071716309]}, \"token.table\": {\"Topic\": [3, 2, 3, 1, 1, 1, 1, 1, 2, 1, 1, 2, 3, 3, 1, 1, 2, 1, 2, 2, 1, 2, 3, 3, 1, 3, 3, 2, 3, 1, 1, 3, 3, 3, 1, 2, 1, 3, 1, 2, 3, 3, 1, 2, 3, 3, 2, 2, 3, 3, 1, 2, 3, 1, 2, 3, 3, 2, 1, 1, 2, 2, 2, 2, 3, 3, 3, 1, 2, 1, 3, 1, 1, 3, 1, 2, 3, 3, 3, 2, 3, 2, 2, 2, 1, 1, 2, 3, 1, 1, 1, 3, 1, 2, 1, 2, 3, 2, 2, 3, 1, 3, 1, 2, 3, 1, 2, 2, 1, 1, 1, 2, 3, 1, 1, 1, 3, 2, 3, 1, 1, 1, 1, 1, 2, 2, 1, 2, 3, 3, 2, 2, 1, 2, 3, 3, 3, 1, 2, 3, 2, 1, 2, 3, 2, 2, 1, 3, 1, 2, 3, 1, 2, 3, 1, 2, 3, 3, 1, 2, 2, 2, 1, 2, 2, 2, 2, 1, 3, 2, 1, 2, 3], \"Freq\": [0.996433675289154, 0.6263144612312317, 0.37353166937828064, 0.9978312849998474, 0.9990767240524292, 0.9994667768478394, 0.9978078007698059, 0.21713405847549438, 0.7823212146759033, 0.9972262978553772, 0.9957473278045654, 0.9973341226577759, 0.9969906210899353, 0.9973121881484985, 0.9960877895355225, 0.11441875249147415, 0.8859280347824097, 0.8016957640647888, 0.19690772891044617, 0.9960296750068665, 0.6570287346839905, 0.3424936830997467, 0.995108425617218, 0.9932671189308167, 0.33043771982192993, 0.6699909567832947, 0.9958771467208862, 0.6111269593238831, 0.3863736689090729, 0.9951030611991882, 0.2683379352092743, 0.7316974401473999, 0.9920514822006226, 0.9929748177528381, 0.2040509730577469, 0.7952756285667419, 0.9957455396652222, 0.9938457608222961, 0.16489817202091217, 0.8315078020095825, 0.9965635538101196, 0.9980955123901367, 0.7132808566093445, 0.1671285629272461, 0.12236198782920837, 0.9989773631095886, 0.9969637393951416, 0.9955172538757324, 0.9973276257514954, 0.9984956979751587, 0.5533021688461304, 0.2757003903388977, 0.1711243838071823, 0.049550674855709076, 0.46107324957847595, 0.48878803849220276, 0.9985472559928894, 0.9983541369438171, 0.9958080649375916, 0.7326406836509705, 0.2658527195453644, 0.9913346171379089, 0.9948733448982239, 0.9979162216186523, 0.9973825216293335, 0.998622715473175, 0.9978108406066895, 0.9960145950317383, 0.9986821413040161, 0.9966880679130554, 0.9987849593162537, 0.9992708563804626, 0.9985489249229431, 0.9980738759040833, 0.1925939917564392, 0.5007444024085999, 0.30694666504859924, 0.9984937310218811, 0.9931699633598328, 0.34436890482902527, 0.6551408171653748, 0.997166097164154, 0.9946985840797424, 0.9964373707771301, 0.9943946003913879, 0.5139088034629822, 0.30943870544433594, 0.17713452875614166, 0.9958931803703308, 0.9945048689842224, 0.6714619398117065, 0.32808494567871094, 0.9971490502357483, 0.9986080527305603, 0.7382802367210388, 0.16854628920555115, 0.09258176386356354, 0.992464542388916, 0.9959547519683838, 0.9987642168998718, 0.7034499645233154, 0.29664596915245056, 0.40327727794647217, 0.3191617429256439, 0.27799883484840393, 0.9971206188201904, 0.9913889765739441, 0.9971920847892761, 0.9975523352622986, 0.9987900853157043, 0.9976732134819031, 0.9988890886306763, 0.9967792630195618, 0.9965624213218689, 0.9977722764015198, 0.29810935258865356, 0.7002103328704834, 0.9957594275474548, 0.9957243204116821, 0.9966976642608643, 0.9981994032859802, 0.9941238164901733, 0.9968760013580322, 0.2601568400859833, 0.7380536794662476, 0.9961479306221008, 0.2509744167327881, 0.49687862396240234, 0.25224196910858154, 0.9992685317993164, 0.999418318271637, 0.994067907333374, 0.9982412457466125, 0.9972468614578247, 0.9965776801109314, 0.9980360269546509, 0.9975380897521973, 0.6197787523269653, 0.3796365559101105, 0.001765751512721181, 0.9927634596824646, 0.9993377327919006, 0.8607536554336548, 0.13975337147712708, 0.9975666999816895, 0.9983283877372742, 0.7138960957527161, 0.2847210168838501, 0.4343512952327728, 0.5077803134918213, 0.05724974349141121, 0.3185838460922241, 0.3525071144104004, 0.3289083242416382, 0.26379460096359253, 0.7354708313941956, 0.9966374635696411, 0.9928752183914185, 0.13679523766040802, 0.8636229634284973, 0.9938527345657349, 0.9965996742248535, 0.9977638125419617, 0.9976779818534851, 0.9978935718536377, 0.9986639022827148, 0.99723881483078, 0.665916919708252, 0.3335295617580414, 0.9934144616127014, 0.3375594913959503, 0.451710045337677, 0.21036316454410553], \"Term\": [\"agfiji\", \"american\", \"american\", \"aoc\", \"bernie\", \"berniesanders\", \"biden\", \"big\", \"big\", \"bill\", \"billionaire\", \"black\", \"break\", \"build\", \"business\", \"campaign\", \"campaign\", \"candidate\", \"candidate\", \"cbszak\", \"change\", \"change\", \"child\", \"citizen\", \"class\", \"class\", \"college\", \"come\", \"come\", \"company\", \"country\", \"country\", \"criminal\", \"debt\", \"democrat\", \"democrat\", \"dems\", \"disastrouslyh\", \"do\", \"do\", \"dream\", \"education\", \"everyone\", \"everyone\", \"everyone\", \"fake\", \"family\", \"fight\", \"fraud\", \"free\", \"give\", \"give\", \"give\", \"go\", \"go\", \"go\", \"good\", \"happy\", \"healthcare\", \"help\", \"help\", \"history\", \"hope\", \"iafor\", \"ice\", \"illegal\", \"illegals\", \"income\", \"indian\", \"infrastructure\", \"job\", \"joebiden\", \"kamalaharris\", \"kid\", \"know\", \"know\", \"know\", \"law\", \"legal\", \"lie\", \"lie\", \"little\", \"lose\", \"love\", \"maddow\", \"make\", \"make\", \"make\", \"marwilliamson\", \"mikebloomberg\", \"money\", \"money\", \"much\", \"native\", \"need\", \"need\", \"need\", \"next\", \"number\", \"obama\", \"pay\", \"pay\", \"people\", \"people\", \"people\", \"petebuttigieg\", \"play\", \"pocahontas\", \"point\", \"policy\", \"poor\", \"president\", \"private\", \"progressive\", \"proudresister\", \"public\", \"public\", \"racist\", \"read\", \"realdonaldtrump\", \"repadamschiff\", \"republican\", \"rich\", \"run\", \"run\", \"ryangrim\", \"say\", \"say\", \"say\", \"school\", \"see\", \"senator\", \"speakerpelosi\", \"stand\", \"stay\", \"student\", \"stupid\", \"support\", \"support\", \"support\", \"supporter\", \"tax\", \"tell\", \"tell\", \"thank\", \"thanksgiving\", \"thing\", \"thing\", \"think\", \"think\", \"think\", \"time\", \"time\", \"time\", \"trump\", \"trump\", \"university\", \"visa\", \"vote\", \"vote\", \"voter\", \"wait\", \"wealth\", \"white\", \"win\", \"woman\", \"word\", \"work\", \"work\", \"wow\", \"year\", \"year\", \"year\"]}, \"R\": 30, \"lambda.step\": 0.01, \"plot.opts\": {\"xlab\": \"PC1\", \"ylab\": \"PC2\"}, \"topic.order\": [2, 1, 3]};\n",
       "\n",
       "function LDAvis_load_lib(url, callback){\n",
       "  var s = document.createElement('script');\n",
       "  s.src = url;\n",
       "  s.async = true;\n",
       "  s.onreadystatechange = s.onload = callback;\n",
       "  s.onerror = function(){console.warn(\"failed to load library \" + url);};\n",
       "  document.getElementsByTagName(\"head\")[0].appendChild(s);\n",
       "}\n",
       "\n",
       "if(typeof(LDAvis) !== \"undefined\"){\n",
       "   // already loaded: just create the visualization\n",
       "   !function(LDAvis){\n",
       "       new LDAvis(\"#\" + \"ldavis_el4341405735348145446141855269\", ldavis_el4341405735348145446141855269_data);\n",
       "   }(LDAvis);\n",
       "}else if(typeof define === \"function\" && define.amd){\n",
       "   // require.js is available: use it to load d3/LDAvis\n",
       "   require.config({paths: {d3: \"https://cdnjs.cloudflare.com/ajax/libs/d3/3.5.5/d3.min\"}});\n",
       "   require([\"d3\"], function(d3){\n",
       "      window.d3 = d3;\n",
       "      LDAvis_load_lib(\"https://cdn.rawgit.com/bmabey/pyLDAvis/files/ldavis.v1.0.0.js\", function(){\n",
       "        new LDAvis(\"#\" + \"ldavis_el4341405735348145446141855269\", ldavis_el4341405735348145446141855269_data);\n",
       "      });\n",
       "    });\n",
       "}else{\n",
       "    // require.js not available: dynamically load d3 & LDAvis\n",
       "    LDAvis_load_lib(\"https://cdnjs.cloudflare.com/ajax/libs/d3/3.5.5/d3.min.js\", function(){\n",
       "         LDAvis_load_lib(\"https://cdn.rawgit.com/bmabey/pyLDAvis/files/ldavis.v1.0.0.js\", function(){\n",
       "                 new LDAvis(\"#\" + \"ldavis_el4341405735348145446141855269\", ldavis_el4341405735348145446141855269_data);\n",
       "            })\n",
       "         });\n",
       "}\n",
       "</script>"
      ],
      "text/plain": [
       "<IPython.core.display.HTML object>"
      ]
     },
     "execution_count": 22,
     "metadata": {},
     "output_type": "execute_result"
    }
   ],
   "source": [
    "import pyLDAvis\n",
    "import pyLDAvis.gensim\n",
    "vis = pyLDAvis.gensim.prepare(topic_model=ldamodel_elizabeth_warren, corpus=doc_term_matrix, dictionary=dictionary)\n",
    "pyLDAvis.enable_notebook()\n",
    "pyLDAvis.display(vis)"
   ]
  },
  {
   "cell_type": "code",
   "execution_count": 23,
   "metadata": {},
   "outputs": [
    {
     "data": {
      "image/png": "[encoded data removed]",
      "text/plain": [
       "<Figure size 576x576 with 1 Axes>"
      ]
     },
     "metadata": {
      "needs_background": "light"
     },
     "output_type": "display_data"
    },
    {
     "data": {
      "image/png": "[encoded data removed]",
      "text/plain": [
       "<Figure size 576x576 with 1 Axes>"
      ]
     },
     "metadata": {
      "needs_background": "light"
     },
     "output_type": "display_data"
    },
    {
     "data": {
      "image/png": "[encoded data removed]",
      "text/plain": [
       "<Figure size 576x576 with 1 Axes>"
      ]
     },
     "metadata": {
      "needs_background": "light"
     },
     "output_type": "display_data"
    }
   ],
   "source": [
    "topics = ldamodel_elizabeth_warren.show_topics(formatted=False)\n",
    "    \n",
    "cols = [color for name, color in mcolors.TABLEAU_COLORS.items()]  # more colors: 'mcolors.XKCD_COLORS'\n",
    "\n",
    "cloud = WordCloud(stopwords=stop_words,\n",
    "                  background_color='white',\n",
    "                  width=2500,\n",
    "                  height=1800,\n",
    "                  max_words=10,\n",
    "                  colormap='tab10',\n",
    "                  color_func=lambda *args, **kwargs: cols[0],\n",
    "                  prefer_horizontal=1.0)\n",
    "\n",
    "for topic_num in range(topics_to_discover):\n",
    "    fig, axes = plt.subplots(1, 1, figsize=(8,8), sharex=True, sharey=True)\n",
    "\n",
    "    topic_words = dict(topics[topic_num][1])\n",
    "    cloud.generate_from_frequencies(topic_words)\n",
    "    plt.gca().imshow(cloud)\n",
    "    plt.gca().set_title('Wordcloud for Topic-{}'.format(topic_num+1), fontdict=dict(size=16))\n",
    "    plt.gca().axis('off')\n",
    "\n",
    "\n",
    "    plt.subplots_adjust(wspace=0, hspace=0)\n",
    "    plt.axis('off')\n",
    "    plt.margins(x=0, y=0)\n",
    "    plt.tight_layout()\n",
    "    plt.show()"
   ]
  },
  {
   "cell_type": "code",
   "execution_count": null,
   "metadata": {},
   "outputs": [],
   "source": []
  }
 ],
 "metadata": {
  "kernelspec": {
   "display_name": "Python 3",
   "language": "python",
   "name": "python3"
  },
  "language_info": {
   "codemirror_mode": {
    "name": "ipython",
    "version": 3
   },
   "file_extension": ".py",
   "mimetype": "text/x-python",
   "name": "python",
   "nbconvert_exporter": "python",
   "pygments_lexer": "ipython3",
   "version": "3.7.5"
  }
 },
 "nbformat": 4,
 "nbformat_minor": 2
}
