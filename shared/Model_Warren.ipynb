{
 "cells": [
  {
   "cell_type": "code",
   "execution_count": 20,
   "metadata": {},
   "outputs": [],
   "source": [
    "import nltk\n",
    "import pandas as pd\n",
    "import re\n",
    "from matplotlib import pyplot as plt\n",
    "from wordcloud import WordCloud\n",
    "import matplotlib.colors as mcolors"
   ]
  },
  {
   "cell_type": "markdown",
   "metadata": {},
   "source": [
    "nltk downloads should be put here!"
   ]
  },
  {
   "cell_type": "code",
   "execution_count": 21,
   "metadata": {},
   "outputs": [
    {
     "name": "stderr",
     "output_type": "stream",
     "text": [
      "[nltk_data] Downloading package stopwords to /root/nltk_data...\n",
      "[nltk_data]   Package stopwords is already up-to-date!\n",
      "[nltk_data] Downloading package punkt to /root/nltk_data...\n",
      "[nltk_data]   Package punkt is already up-to-date!\n",
      "[nltk_data] Downloading package averaged_perceptron_tagger to\n",
      "[nltk_data]     /root/nltk_data...\n",
      "[nltk_data]   Package averaged_perceptron_tagger is already up-to-\n",
      "[nltk_data]       date!\n",
      "[nltk_data] Downloading package wordnet to /root/nltk_data...\n",
      "[nltk_data]   Package wordnet is already up-to-date!\n"
     ]
    },
    {
     "data": {
      "text/plain": [
       "True"
      ]
     },
     "execution_count": 21,
     "metadata": {},
     "output_type": "execute_result"
    }
   ],
   "source": [
    "nltk.download('stopwords')\n",
    "nltk.download('punkt')\n",
    "nltk.download('averaged_perceptron_tagger')\n",
    "nltk.download('wordnet')\n",
    "  "
   ]
  },
  {
   "cell_type": "code",
   "execution_count": null,
   "metadata": {},
   "outputs": [],
   "source": []
  },
  {
   "cell_type": "markdown",
   "metadata": {},
   "source": [
    "# Load Data"
   ]
  },
  {
   "cell_type": "code",
   "execution_count": 3,
   "metadata": {},
   "outputs": [],
   "source": [
    "import pandas as pd\n",
    "df = pd.read_csv('processed_final_Elizabeth.csv')"
   ]
  },
  {
   "cell_type": "code",
   "execution_count": 4,
   "metadata": {},
   "outputs": [
    {
     "data": {
      "text/html": [
       "<div>\n",
       "<style scoped>\n",
       "    .dataframe tbody tr th:only-of-type {\n",
       "        vertical-align: middle;\n",
       "    }\n",
       "\n",
       "    .dataframe tbody tr th {\n",
       "        vertical-align: top;\n",
       "    }\n",
       "\n",
       "    .dataframe thead th {\n",
       "        text-align: right;\n",
       "    }\n",
       "</style>\n",
       "<table border=\"1\" class=\"dataframe\">\n",
       "  <thead>\n",
       "    <tr style=\"text-align: right;\">\n",
       "      <th></th>\n",
       "      <th>id_str</th>\n",
       "      <th>created_at</th>\n",
       "      <th>full_text</th>\n",
       "    </tr>\n",
       "  </thead>\n",
       "  <tbody>\n",
       "    <tr>\n",
       "      <th>0</th>\n",
       "      <td>1200485829111513088</td>\n",
       "      <td>2019-11-29 18:45:00</td>\n",
       "      <td>these dem sens. r running against #trump in #2...</td>\n",
       "    </tr>\n",
       "    <tr>\n",
       "      <th>1</th>\n",
       "      <td>1200121584142487552</td>\n",
       "      <td>2019-11-28 18:37:37</td>\n",
       "      <td>. is granddaughter, lavinia, gives great pep t...</td>\n",
       "    </tr>\n",
       "    <tr>\n",
       "      <th>2</th>\n",
       "      <td>1200406059933949952</td>\n",
       "      <td>2019-11-29 13:28:01</td>\n",
       "      <td>democrats doing the “attack the leftist polici...</td>\n",
       "    </tr>\n",
       "    <tr>\n",
       "      <th>3</th>\n",
       "      <td>1200546342134697984</td>\n",
       "      <td>2019-11-29 22:45:27</td>\n",
       "      <td>@satchelmose  i can not understand her point. ...</td>\n",
       "    </tr>\n",
       "    <tr>\n",
       "      <th>4</th>\n",
       "      <td>1200546331946889218</td>\n",
       "      <td>2019-11-29 22:45:25</td>\n",
       "      <td>“you did not build that” remix.  i hated it w...</td>\n",
       "    </tr>\n",
       "  </tbody>\n",
       "</table>\n",
       "</div>"
      ],
      "text/plain": [
       "                id_str           created_at  \\\n",
       "0  1200485829111513088  2019-11-29 18:45:00   \n",
       "1  1200121584142487552  2019-11-28 18:37:37   \n",
       "2  1200406059933949952  2019-11-29 13:28:01   \n",
       "3  1200546342134697984  2019-11-29 22:45:27   \n",
       "4  1200546331946889218  2019-11-29 22:45:25   \n",
       "\n",
       "                                           full_text  \n",
       "0  these dem sens. r running against #trump in #2...  \n",
       "1  . is granddaughter, lavinia, gives great pep t...  \n",
       "2  democrats doing the “attack the leftist polici...  \n",
       "3  @satchelmose  i can not understand her point. ...  \n",
       "4   “you did not build that” remix.  i hated it w...  "
      ]
     },
     "execution_count": 4,
     "metadata": {},
     "output_type": "execute_result"
    }
   ],
   "source": [
    "df.head()"
   ]
  },
  {
   "cell_type": "code",
   "execution_count": 5,
   "metadata": {
    "scrolled": true
   },
   "outputs": [
    {
     "data": {
      "text/plain": [
       "(21205, 3)"
      ]
     },
     "execution_count": 5,
     "metadata": {},
     "output_type": "execute_result"
    }
   ],
   "source": [
    "df.shape"
   ]
  },
  {
   "cell_type": "code",
   "execution_count": null,
   "metadata": {},
   "outputs": [],
   "source": []
  },
  {
   "cell_type": "markdown",
   "metadata": {},
   "source": [
    "# Data-specific Preprocessing"
   ]
  },
  {
   "cell_type": "code",
   "execution_count": 6,
   "metadata": {},
   "outputs": [],
   "source": [
    "stop_words = nltk.corpus.stopwords.words('english')\n"
   ]
  },
  {
   "cell_type": "code",
   "execution_count": 7,
   "metadata": {},
   "outputs": [],
   "source": [
    "stop_words.extend(['from', 'subject', 're', 'use',\"get\",'like','want','way','must','yet','take','look','still','hey', 'lol', 'day', 'liz',\n",
    "                  'thanks', 'part', 'plan', 'lol', 'since', 'ever'])"
   ]
  },
  {
   "cell_type": "code",
   "execution_count": 8,
   "metadata": {},
   "outputs": [],
   "source": [
    "# tokenize the tweets\n",
    "\n",
    "def tokenize(text):\n",
    "    '''names = [\"berniesanders\", \"bernie\", \"sanders\", \"bern\",\n",
    "             \"elizabethwarren\",\"elizabeth\",\"warren\", 'ewarren'\n",
    "             \"joebiden\",\"joe\",\"biden\",\n",
    "             'donaldtrump', 'donald', 'trump',\n",
    "             'aoc', 'cortez'\n",
    "            ]'''\n",
    "    lowered = nltk.tokenize.word_tokenize(text.lower())\n",
    "    tokenized = [t for t in lowered if t not in stop_words if len(t)>1 if str.isalpha(t)] #if t not in names\n",
    "    return tokenized"
   ]
  },
  {
   "cell_type": "markdown",
   "metadata": {},
   "source": [
    "# Tokenization"
   ]
  },
  {
   "cell_type": "code",
   "execution_count": 9,
   "metadata": {},
   "outputs": [],
   "source": [
    "data = df['full_text']\n",
    "\n",
    "tokenized_data = []\n",
    "for text in data:\n",
    "    tokenized_data.append(tokenize(text))\n"
   ]
  },
  {
   "cell_type": "code",
   "execution_count": null,
   "metadata": {},
   "outputs": [],
   "source": []
  },
  {
   "cell_type": "code",
   "execution_count": null,
   "metadata": {},
   "outputs": [],
   "source": []
  },
  {
   "cell_type": "markdown",
   "metadata": {},
   "source": [
    "# PoS Tagging"
   ]
  },
  {
   "cell_type": "code",
   "execution_count": 10,
   "metadata": {},
   "outputs": [],
   "source": [
    "tagged_data = [nltk.pos_tag(t) for t in tokenized_data]"
   ]
  },
  {
   "cell_type": "code",
   "execution_count": 11,
   "metadata": {
    "scrolled": false
   },
   "outputs": [
    {
     "data": {
      "text/plain": [
       "[[('dem', 'NN'),\n",
       "  ('sens', 'NNS'),\n",
       "  ('running', 'VBG'),\n",
       "  ('trump', 'NN'),\n",
       "  ('kamalaharris', 'FW'),\n",
       "  ('michaelbennet', 'NN'),\n",
       "  ('amyklobuchar', 'NN'),\n",
       "  ('corybooker', 'NN'),\n",
       "  ('berniesanders', 'NNS'),\n",
       "  ('sens', 'VBP'),\n",
       "  ('recuse', 'NN'),\n",
       "  ('sitting', 'VBG'),\n",
       "  ('juror', 'NN'),\n",
       "  ('senate', 'NN'),\n",
       "  ('impeachment', 'NN'),\n",
       "  ('trial', 'NN')],\n",
       " [('granddaughter', 'NN'),\n",
       "  ('lavinia', 'NN'),\n",
       "  ('gives', 'VBZ'),\n",
       "  ('great', 'JJ'),\n",
       "  ('pep', 'JJ'),\n",
       "  ('talks', 'NNS'),\n",
       "  ('hope', 'VBP'),\n",
       "  ('thanksgiving', 'VBG'),\n",
       "  ('filled', 'VBN'),\n",
       "  ('friends', 'NNS'),\n",
       "  ('family', 'NN'),\n",
       "  ('chosen', 'VBN'),\n",
       "  ('family', 'NN'),\n",
       "  ('loved', 'VBN'),\n",
       "  ('ones', 'NNS'),\n",
       "  ('inspire', 'VBP'),\n",
       "  ('keep', 'VB'),\n",
       "  ('fighting', 'NN')],\n",
       " [('democrats', 'NNS'),\n",
       "  ('attack', 'VBP'),\n",
       "  ('leftist', 'JJ'),\n",
       "  ('policies', 'NNS'),\n",
       "  ('thing', 'NN'),\n",
       "  ('aware', 'JJ'),\n",
       "  ('providing', 'VBG'),\n",
       "  ('bipartisan', 'JJ'),\n",
       "  ('legitimacy', 'NN'),\n",
       "  ('talking', 'VBG'),\n",
       "  ('points', 'NNS'),\n",
       "  ('long', 'JJ'),\n",
       "  ('history', 'NN'),\n",
       "  ('realdonaldtrump', 'NN'),\n",
       "  ('attacks', 'NNS'),\n",
       "  ('whoever', 'WP'),\n",
       "  ('nominee', 'VBP'),\n",
       "  ('joebiden', 'JJ'),\n",
       "  ('petebuttigieg', 'NN')],\n",
       " [('satchelmose', 'JJ'),\n",
       "  ('understand', 'JJ'),\n",
       "  ('point', 'NN'),\n",
       "  ('claiming', 'VBG'),\n",
       "  ('rich', 'JJ'),\n",
       "  ('subsidized', 'VBN'),\n",
       "  ('broader', 'JJR'),\n",
       "  ('top', 'JJ'),\n",
       "  ('pay', 'NN'),\n",
       "  ('federal', 'JJ'),\n",
       "  ('income', 'NN'),\n",
       "  ('taxes', 'NNS'),\n",
       "  ('bottom', 'JJ'),\n",
       "  ('pay', 'NN'),\n",
       "  ('saying', 'VBG')],\n",
       " [('build', 'VB'),\n",
       "  ('remix', 'NN'),\n",
       "  ('hated', 'VBN'),\n",
       "  ('obama', 'NN'),\n",
       "  ('said', 'VBD'),\n",
       "  ('sounds', 'NNS'),\n",
       "  ('even', 'RB'),\n",
       "  ('worse', 'JJR'),\n",
       "  ('spewed', 'VBD'),\n",
       "  ('pandering', 'VBG'),\n",
       "  ('fraud', 'NN'),\n",
       "  ('fauxcahontas', 'NNS')]]"
      ]
     },
     "execution_count": 11,
     "metadata": {},
     "output_type": "execute_result"
    }
   ],
   "source": [
    "tagged_data[:5]"
   ]
  },
  {
   "cell_type": "markdown",
   "metadata": {},
   "source": [
    "# Lemmatization/Stemming"
   ]
  },
  {
   "cell_type": "code",
   "execution_count": 12,
   "metadata": {},
   "outputs": [
    {
     "data": {
      "text/plain": [
       "[['dem',\n",
       "  'sen',\n",
       "  'run',\n",
       "  'trump',\n",
       "  'michaelbennet',\n",
       "  'amyklobuchar',\n",
       "  'corybooker',\n",
       "  'berniesanders',\n",
       "  'sens',\n",
       "  'recuse',\n",
       "  'sit',\n",
       "  'juror',\n",
       "  'senate',\n",
       "  'impeachment',\n",
       "  'trial'],\n",
       " ['granddaughter',\n",
       "  'lavinia',\n",
       "  'give',\n",
       "  'great',\n",
       "  'pep',\n",
       "  'talk',\n",
       "  'hope',\n",
       "  'thanksgiving',\n",
       "  'fill',\n",
       "  'friend',\n",
       "  'family',\n",
       "  'choose',\n",
       "  'family',\n",
       "  'love',\n",
       "  'one',\n",
       "  'inspire',\n",
       "  'keep',\n",
       "  'fighting'],\n",
       " ['democrat',\n",
       "  'attack',\n",
       "  'leftist',\n",
       "  'policy',\n",
       "  'thing',\n",
       "  'aware',\n",
       "  'provide',\n",
       "  'bipartisan',\n",
       "  'legitimacy',\n",
       "  'talk',\n",
       "  'point',\n",
       "  'long',\n",
       "  'history',\n",
       "  'realdonaldtrump',\n",
       "  'attack',\n",
       "  'nominee',\n",
       "  'joebiden',\n",
       "  'petebuttigieg'],\n",
       " ['satchelmose',\n",
       "  'understand',\n",
       "  'point',\n",
       "  'claim',\n",
       "  'rich',\n",
       "  'subsidize',\n",
       "  'top',\n",
       "  'pay',\n",
       "  'federal',\n",
       "  'income',\n",
       "  'tax',\n",
       "  'bottom',\n",
       "  'pay',\n",
       "  'say'],\n",
       " ['build',\n",
       "  'remix',\n",
       "  'hat',\n",
       "  'obama',\n",
       "  'sound',\n",
       "  'pander',\n",
       "  'fraud',\n",
       "  'fauxcahontas']]"
      ]
     },
     "execution_count": 12,
     "metadata": {},
     "output_type": "execute_result"
    }
   ],
   "source": [
    "#from nltk.stem.porter import PorterStemmer\n",
    "from nltk.stem import WordNetLemmatizer \n",
    "from nltk.corpus import wordnet\n",
    "\n",
    "def get_wordnet_pos(word, tag):\n",
    "    \"\"\"Map POS tag to first character lemmatize() accepts\"\"\"\n",
    "    tag = tag[0].upper()\n",
    "    tag_dict = {\"J\": wordnet.ADJ,\n",
    "                \"N\": wordnet.NOUN,\n",
    "                \"V\": wordnet.VERB,\n",
    "                \"R\": wordnet.ADV}\n",
    "\n",
    "    return tag_dict.get(tag, wordnet.NOUN)\n",
    "\n",
    "#temmer = PorterStemmer()\n",
    "#def get_stemmed_tokens(tokens):\n",
    "#    token = []\n",
    "#    for token_list in tokens:\n",
    "#        texts = [p_stemmer.stem(i) for i in token_list if ]\n",
    "#        token.append(texts)\n",
    "#    return token\n",
    "\n",
    "lemmatizer = WordNetLemmatizer()\n",
    "\n",
    "tagnames = ['NN','NNS', 'NNP', 'NNPS', 'JJ', 'VB', 'VBG', 'VBN', 'VBP', 'VBZ']\n",
    "lemmatized_data = []\n",
    "\n",
    "for tagged_doc in tagged_data:\n",
    "    temp = []\n",
    "    for t1, t2 in tagged_doc:\n",
    "        if t2 in tagnames:\n",
    "            temp.append(lemmatizer.lemmatize(t1, get_wordnet_pos(word=t1, tag=t2)))\n",
    "    lemmatized_data.append(temp)\n",
    "\n",
    "lemmatized_data[:5]"
   ]
  },
  {
   "cell_type": "code",
   "execution_count": null,
   "metadata": {},
   "outputs": [],
   "source": []
  },
  {
   "cell_type": "code",
   "execution_count": 13,
   "metadata": {},
   "outputs": [],
   "source": [
    "# --------------------"
   ]
  },
  {
   "cell_type": "code",
   "execution_count": 14,
   "metadata": {},
   "outputs": [],
   "source": [
    "import gensim\n",
    "def ngrams(stemmed_tokens):\n",
    "# Build the bigram and trigram models\n",
    "    bigram = gensim.models.Phrases(stemmed_tokens, min_count=5, threshold=100) # higher threshold fewer phrases.\n",
    "    trigram = gensim.models.Phrases(bigram[stemmed_tokens], threshold=100)  \n",
    "\n",
    "# Faster way to get a sentence clubbed as a trigram/bigram\n",
    "    bigram_mod = gensim.models.phrases.Phraser(bigram)\n",
    "    trigram_mod = gensim.models.phrases.Phraser(trigram)\n",
    "\n",
    "    final_tokens = []\n",
    "# See trigram example\n",
    "    for i in range(0,len(trigram_mod[bigram_mod[stemmed_tokens]])):\n",
    "        final_tokens.append(trigram_mod[bigram_mod[stemmed_tokens[i]]])\n",
    "    return final_tokens"
   ]
  },
  {
   "cell_type": "code",
   "execution_count": null,
   "metadata": {},
   "outputs": [],
   "source": []
  },
  {
   "cell_type": "code",
   "execution_count": 15,
   "metadata": {},
   "outputs": [],
   "source": [
    "#from nltk import FreqDist\n",
    "\n",
    "#fdist=FreqDist(final_tokens)"
   ]
  },
  {
   "cell_type": "code",
   "execution_count": 16,
   "metadata": {},
   "outputs": [],
   "source": [
    "#---------------------------#"
   ]
  },
  {
   "cell_type": "code",
   "execution_count": null,
   "metadata": {},
   "outputs": [],
   "source": []
  },
  {
   "cell_type": "code",
   "execution_count": null,
   "metadata": {},
   "outputs": [],
   "source": []
  },
  {
   "cell_type": "code",
   "execution_count": null,
   "metadata": {},
   "outputs": [],
   "source": []
  },
  {
   "cell_type": "code",
   "execution_count": null,
   "metadata": {},
   "outputs": [],
   "source": []
  },
  {
   "cell_type": "markdown",
   "metadata": {},
   "source": [
    "# Corpus Generation / Indexing"
   ]
  },
  {
   "cell_type": "code",
   "execution_count": 13,
   "metadata": {},
   "outputs": [
    {
     "name": "stdout",
     "output_type": "stream",
     "text": [
      "15630\n",
      "1442\n"
     ]
    }
   ],
   "source": [
    "import gensim\n",
    "from gensim import corpora\n",
    "\n",
    "\n",
    "dictionary = corpora.Dictionary(lemmatized_data)\n",
    "print(len(dictionary))\n",
    "\n",
    "# filter for terms which occur in no less than 0.1% of the documents (here tweets) and no more than 0.9% of the documents (tweets)\n",
    "dictionary.filter_extremes(no_below=int(df.shape[0]*0.001), no_above=0.9)\n",
    "\n",
    "print(len(dictionary))\n",
    "\n"
   ]
  },
  {
   "cell_type": "code",
   "execution_count": 14,
   "metadata": {},
   "outputs": [],
   "source": [
    "doc_term_matrix = [dictionary.doc2bow(doc) for doc in lemmatized_data]\n"
   ]
  },
  {
   "cell_type": "markdown",
   "metadata": {},
   "source": [
    "# LDA-Topic Model"
   ]
  },
  {
   "cell_type": "code",
   "execution_count": 15,
   "metadata": {},
   "outputs": [],
   "source": [
    "topics_to_discover = 3"
   ]
  },
  {
   "cell_type": "code",
   "execution_count": 16,
   "metadata": {},
   "outputs": [],
   "source": [
    "\n",
    "# Creating the object for LDA model using gensim library\n",
    "Lda = gensim.models.ldamodel.LdaModel\n",
    "\n",
    "# Running and Trainign LDA model on the document term matrix.\n",
    "ldamodel_elizabeth_warren = Lda(doc_term_matrix, num_topics=topics_to_discover, id2word = dictionary, passes=50, random_state = 42)\n"
   ]
  },
  {
   "cell_type": "code",
   "execution_count": 17,
   "metadata": {},
   "outputs": [
    {
     "name": "stdout",
     "output_type": "stream",
     "text": [
      "[(0, '0.016*\"trump\" + 0.014*\"go\" + 0.014*\"president\" + 0.013*\"vote\" + 0.013*\"see\"'), (1, '0.023*\"pay\" + 0.022*\"people\" + 0.020*\"tax\" + 0.017*\"work\" + 0.013*\"money\"'), (2, '0.039*\"berniesanders\" + 0.023*\"law\" + 0.020*\"support\" + 0.017*\"joebiden\" + 0.017*\"candidate\"')]\n"
     ]
    }
   ],
   "source": [
    "print(ldamodel_elizabeth_warren.print_topics(num_topics=topics_to_discover, num_words=5))"
   ]
  },
  {
   "cell_type": "markdown",
   "metadata": {},
   "source": [
    "# Visualizations"
   ]
  },
  {
   "cell_type": "code",
   "execution_count": 18,
   "metadata": {
    "scrolled": true
   },
   "outputs": [
    {
     "name": "stderr",
     "output_type": "stream",
     "text": [
      "/usr/local/lib/python3.7/site-packages/pyLDAvis/_prepare.py:257: FutureWarning: Sorting because non-concatenation axis is not aligned. A future version\n",
      "of pandas will change to not sort by default.\n",
      "\n",
      "To accept the future behavior, pass 'sort=False'.\n",
      "\n",
      "To retain the current behavior and silence the warning, pass 'sort=True'.\n",
      "\n",
      "  return pd.concat([default_term_info] + list(topic_dfs))\n"
     ]
    },
    {
     "data": {
      "text/html": [
       "\n",
       "<link rel=\"stylesheet\" type=\"text/css\" href=\"https://cdn.rawgit.com/bmabey/pyLDAvis/files/ldavis.v1.0.0.css\">\n",
       "\n",
       "\n",
       "<div id=\"ldavis_el1601404796330832169383118261\"></div>\n",
       "<script type=\"text/javascript\">\n",
       "\n",
       "var ldavis_el1601404796330832169383118261_data = {\"mdsDat\": {\"x\": [-0.15264604242986818, -0.1604273876838749, 0.3130734301137431], \"y\": [0.21291020686503406, -0.20941131570065416, -0.003498891164380158], \"topics\": [1, 2, 3], \"cluster\": [1, 1, 1], \"Freq\": [40.591224670410156, 36.28109359741211, 23.127681732177734]}, \"tinfo\": {\"Category\": [\"Default\", \"Default\", \"Default\", \"Default\", \"Default\", \"Default\", \"Default\", \"Default\", \"Default\", \"Default\", \"Default\", \"Default\", \"Default\", \"Default\", \"Default\", \"Default\", \"Default\", \"Default\", \"Default\", \"Default\", \"Default\", \"Default\", \"Default\", \"Default\", \"Default\", \"Default\", \"Default\", \"Default\", \"Default\", \"Default\", \"Topic1\", \"Topic1\", \"Topic1\", \"Topic1\", \"Topic1\", \"Topic1\", \"Topic1\", \"Topic1\", \"Topic1\", \"Topic1\", \"Topic1\", \"Topic1\", \"Topic1\", \"Topic1\", \"Topic1\", \"Topic1\", \"Topic1\", \"Topic1\", \"Topic1\", \"Topic1\", \"Topic1\", \"Topic1\", \"Topic1\", \"Topic1\", \"Topic1\", \"Topic1\", \"Topic1\", \"Topic1\", \"Topic1\", \"Topic1\", \"Topic1\", \"Topic1\", \"Topic1\", \"Topic1\", \"Topic1\", \"Topic1\", \"Topic1\", \"Topic1\", \"Topic1\", \"Topic1\", \"Topic1\", \"Topic1\", \"Topic1\", \"Topic1\", \"Topic1\", \"Topic1\", \"Topic2\", \"Topic2\", \"Topic2\", \"Topic2\", \"Topic2\", \"Topic2\", \"Topic2\", \"Topic2\", \"Topic2\", \"Topic2\", \"Topic2\", \"Topic2\", \"Topic2\", \"Topic2\", \"Topic2\", \"Topic2\", \"Topic2\", \"Topic2\", \"Topic2\", \"Topic2\", \"Topic2\", \"Topic2\", \"Topic2\", \"Topic2\", \"Topic2\", \"Topic2\", \"Topic2\", \"Topic2\", \"Topic2\", \"Topic2\", \"Topic2\", \"Topic2\", \"Topic2\", \"Topic2\", \"Topic2\", \"Topic2\", \"Topic2\", \"Topic2\", \"Topic2\", \"Topic2\", \"Topic2\", \"Topic2\", \"Topic2\", \"Topic2\", \"Topic2\", \"Topic2\", \"Topic2\", \"Topic2\", \"Topic3\", \"Topic3\", \"Topic3\", \"Topic3\", \"Topic3\", \"Topic3\", \"Topic3\", \"Topic3\", \"Topic3\", \"Topic3\", \"Topic3\", \"Topic3\", \"Topic3\", \"Topic3\", \"Topic3\", \"Topic3\", \"Topic3\", \"Topic3\", \"Topic3\", \"Topic3\", \"Topic3\", \"Topic3\", \"Topic3\", \"Topic3\", \"Topic3\", \"Topic3\", \"Topic3\", \"Topic3\", \"Topic3\", \"Topic3\", \"Topic3\", \"Topic3\", \"Topic3\", \"Topic3\"], \"Freq\": [1296.0, 1375.0, 781.0, 1164.0, 681.0, 1008.0, 847.0, 580.0, 578.0, 508.0, 504.0, 721.0, 793.0, 697.0, 685.0, 466.0, 457.0, 453.0, 678.0, 1959.0, 367.0, 597.0, 361.0, 506.0, 480.0, 465.0, 318.0, 419.0, 466.0, 451.0, 1374.5574951171875, 1164.263427734375, 1007.4361572265625, 793.027099609375, 678.2310180664062, 596.4884033203125, 465.6499328613281, 451.2557373046875, 444.1751403808594, 431.4320373535156, 424.0890808105469, 402.1096496582031, 380.0663757324219, 295.7168273925781, 309.8747863769531, 293.29827880859375, 292.2884826660156, 293.1607971191406, 279.4188232421875, 259.55352783203125, 229.07916259765625, 210.66490173339844, 216.5955352783203, 226.0977325439453, 208.90309143066406, 204.7130889892578, 188.40036010742188, 286.7289123535156, 182.66738891601562, 191.10157775878906, 186.9723358154297, 420.92254638671875, 334.51556396484375, 1282.506591796875, 691.2433471679688, 523.2784423828125, 450.20233154296875, 655.1531372070312, 532.7843017578125, 335.6997375488281, 611.1283569335938, 420.2972717285156, 308.8409423828125, 353.7930908203125, 300.89630126953125, 297.93572998046875, 846.5223999023438, 720.719482421875, 697.0580444335938, 685.0101318359375, 480.2467346191406, 505.27734375, 464.3516540527344, 419.01776123046875, 361.8945617675781, 347.8891296386719, 336.3679504394531, 318.0344543457031, 347.1429443359375, 336.4114990234375, 311.7097473144531, 262.2001037597656, 228.20193481445312, 230.55458068847656, 231.53814697265625, 214.5040283203125, 207.1092071533203, 190.3990020751953, 190.22793579101562, 192.96932983398438, 191.3605194091797, 187.40618896484375, 178.2403564453125, 167.777587890625, 180.29580688476562, 167.6942596435547, 317.3301696777344, 337.1158142089844, 740.4395751953125, 419.6959533691406, 499.7977600097656, 267.7154235839844, 465.2626647949219, 267.47137451171875, 458.6064758300781, 676.4537353515625, 368.6155090332031, 440.11865234375, 335.70068359375, 285.7207336425781, 325.01141357421875, 302.109130859375, 271.0788269042969, 273.7632751464844, 1296.2686767578125, 780.30712890625, 680.4277954101562, 579.6638793945312, 578.1688842773438, 507.9150390625, 503.3413391113281, 465.7737731933594, 456.8103332519531, 452.9976501464844, 366.77001953125, 360.4945068359375, 317.65362548828125, 261.1393737792969, 236.65927124023438, 246.2098846435547, 259.5532531738281, 207.48570251464844, 207.2602081298828, 211.153564453125, 206.7461395263672, 192.51052856445312, 191.72703552246094, 193.02719116210938, 172.05496215820312, 193.48133850097656, 177.508544921875, 188.14666748046875, 178.8313751220703, 179.0876007080078, 241.46600341796875, 275.7082824707031, 221.8555450439453, 199.3029022216797], \"Term\": [\"berniesanders\", \"pay\", \"law\", \"tax\", \"support\", \"work\", \"trump\", \"joebiden\", \"candidate\", \"petebuttigieg\", \"proudresister\", \"president\", \"money\", \"vote\", \"see\", \"realdonaldtrump\", \"kamalaharris\", \"aoc\", \"school\", \"people\", \"bernie\", \"job\", \"policy\", \"woman\", \"thanksgiving\", \"democrat\", \"ryangrim\", \"run\", \"government\", \"student\", \"pay\", \"tax\", \"work\", \"money\", \"school\", \"job\", \"government\", \"student\", \"rich\", \"free\", \"fake\", \"ice\", \"education\", \"business\", \"public\", \"illegal\", \"wealth\", \"college\", \"build\", \"problem\", \"university\", \"infrastructure\", \"private\", \"system\", \"poor\", \"stupid\", \"debt\", \"indian\", \"dollar\", \"benefit\", \"medicare\", \"class\", \"kid\", \"people\", \"american\", \"country\", \"give\", \"make\", \"lie\", \"care\", \"go\", \"need\", \"everyone\", \"know\", \"think\", \"say\", \"trump\", \"president\", \"vote\", \"see\", \"thanksgiving\", \"woman\", \"democrat\", \"run\", \"love\", \"black\", \"white\", \"happy\", \"big\", \"please\", \"fight\", \"thank\", \"wait\", \"senator\", \"iafor\", \"pocahontas\", \"corruption\", \"hope\", \"race\", \"liar\", \"party\", \"republican\", \"stand\", \"tweet\", \"thehill\", \"line\", \"win\", \"obama\", \"go\", \"good\", \"think\", \"family\", \"say\", \"tell\", \"know\", \"people\", \"year\", \"make\", \"time\", \"right\", \"american\", \"lie\", \"come\", \"need\", \"berniesanders\", \"law\", \"support\", \"joebiden\", \"candidate\", \"petebuttigieg\", \"proudresister\", \"realdonaldtrump\", \"kamalaharris\", \"aoc\", \"bernie\", \"policy\", \"ryangrim\", \"poll\", \"speakerpelosi\", \"cbszak\", \"break\", \"repadamschiff\", \"maddow\", \"barackobama\", \"marwilliamson\", \"repswalwell\", \"justinamash\", \"biden\", \"repjerrynadler\", \"socialist\", \"medium\", \"question\", \"mikebloomberg\", \"number\", \"change\", \"need\", \"time\", \"think\"], \"Total\": [1296.0, 1375.0, 781.0, 1164.0, 681.0, 1008.0, 847.0, 580.0, 578.0, 508.0, 504.0, 721.0, 793.0, 697.0, 685.0, 466.0, 457.0, 453.0, 678.0, 1959.0, 367.0, 597.0, 361.0, 506.0, 480.0, 465.0, 318.0, 419.0, 466.0, 451.0, 1375.2471923828125, 1164.95947265625, 1008.1904907226562, 793.76220703125, 678.93359375, 597.2139892578125, 466.35894775390625, 451.9500427246094, 444.87396240234375, 432.1687927246094, 424.8230895996094, 402.8260803222656, 380.7633972167969, 296.4202575683594, 310.6208190917969, 294.013427734375, 293.0034484863281, 293.8795166015625, 280.159423828125, 260.3190612792969, 229.78126525878906, 211.33802795410156, 217.29811096191406, 226.83477783203125, 209.6307373046875, 205.47695922851562, 189.1043243408203, 287.81024169921875, 183.3662109375, 191.83627319335938, 187.76162719726562, 455.46710205078125, 360.49456787109375, 1959.3646240234375, 1016.6542358398438, 748.9898681640625, 631.834228515625, 1095.689208984375, 835.2756958007812, 449.5373229980469, 1351.997314453125, 969.768798828125, 431.7155456542969, 930.785888671875, 999.9970092773438, 928.64404296875, 847.30615234375, 721.4625854492188, 697.8453979492188, 685.7953491210938, 480.94171142578125, 506.0275573730469, 465.13275146484375, 419.8188781738281, 362.658203125, 348.6370849609375, 337.0914001464844, 318.72369384765625, 347.91943359375, 337.1878356933594, 312.45294189453125, 262.9140319824219, 228.97543334960938, 231.34326171875, 232.33226013183594, 215.23976135253906, 207.85818481445312, 191.14407348632812, 190.99307250976562, 193.74627685546875, 192.1414794921875, 188.1995849609375, 179.00408935546875, 168.51136779785156, 181.09722900390625, 168.4473114013672, 327.7290344238281, 374.6466064453125, 1351.997314453125, 710.3968505859375, 999.9970092773438, 347.5150451660156, 928.64404296875, 347.0643310546875, 930.785888671875, 1959.3646240234375, 665.240478515625, 1095.689208984375, 808.4192504882812, 511.48052978515625, 1016.6542358398438, 835.2756958007812, 447.4842834472656, 969.768798828125, 1296.9718017578125, 781.046630859375, 681.18505859375, 580.3388061523438, 578.9083862304688, 508.59381103515625, 504.0456237792969, 466.4707336425781, 457.49969482421875, 453.68792724609375, 367.4781799316406, 361.234375, 318.4429626464844, 261.8405456542969, 237.32301330566406, 246.90809631347656, 260.2943420410156, 208.1416473388672, 207.91551208496094, 211.8271484375, 207.40745544433594, 193.16404724121094, 192.38050842285156, 193.7371063232422, 172.70838928222656, 194.22113037109375, 178.21359252929688, 188.89923095703125, 179.55955505371094, 179.83990478515625, 473.5616455078125, 969.768798828125, 808.4192504882812, 999.9970092773438], \"loglift\": [30.0, 29.0, 28.0, 27.0, 26.0, 25.0, 24.0, 23.0, 22.0, 21.0, 20.0, 19.0, 18.0, 17.0, 16.0, 15.0, 14.0, 13.0, 12.0, 11.0, 10.0, 9.0, 8.0, 7.0, 6.0, 5.0, 4.0, 3.0, 2.0, 1.0, 0.9010999798774719, 0.9010000228881836, 0.9009000062942505, 0.9006999731063843, 0.900600016117096, 0.9003999829292297, 0.9000999927520752, 0.9000999927520752, 0.8999999761581421, 0.8999000191688538, 0.8999000191688538, 0.8998000025749207, 0.8998000025749207, 0.8992000222206116, 0.8992000222206116, 0.8992000222206116, 0.8992000222206116, 0.8992000222206116, 0.8989999890327454, 0.8986999988555908, 0.8985999822616577, 0.8984000086784363, 0.8984000086784363, 0.8984000086784363, 0.8981000185012817, 0.8978999853134155, 0.8978999853134155, 0.8978999853134155, 0.8978000283241272, 0.8978000283241272, 0.8974000215530396, 0.822700023651123, 0.8267999887466431, 0.47780001163482666, 0.5157999992370605, 0.5429999828338623, 0.5626999735832214, 0.3873000144958496, 0.4519999921321869, 0.6096000075340271, 0.10760000348091125, 0.06549999862909317, 0.5666999816894531, -0.065700002014637, -0.2994000017642975, -0.23520000278949738, 1.0128999948501587, 1.0127999782562256, 1.0126999616622925, 1.0126999616622925, 1.0124000310897827, 1.0124000310897827, 1.0121999979019165, 1.0119999647140503, 1.0118000507354736, 1.0117000341415405, 1.0117000341415405, 1.0117000341415405, 1.0116000175476074, 1.0116000175476074, 1.0115000009536743, 1.011199951171875, 1.0104999542236328, 1.0104999542236328, 1.0104000568389893, 1.0104000568389893, 1.0103000402450562, 1.0099999904632568, 1.0098999738693237, 1.0098999738693237, 1.0097999572753906, 1.009600043296814, 1.009600043296814, 1.0095000267028809, 1.0094000101089478, 1.0094000101089478, 0.9815999865531921, 0.90829998254776, 0.41179999709129333, 0.4875999987125397, 0.32030001282691956, 0.753000020980835, 0.32280001044273376, 0.7534000277519226, 0.3059999942779541, -0.04960000142455101, 0.4235000014305115, 0.10180000215768814, 0.13500000536441803, 0.43160000443458557, -0.1264999955892563, -0.003100000089034438, 0.5126000046730042, -0.250900000333786, 1.4636000394821167, 1.4631999731063843, 1.4630000591278076, 1.4630000591278076, 1.4629000425338745, 1.4628000259399414, 1.4627000093460083, 1.4625999927520752, 1.4625999927520752, 1.4625999927520752, 1.4622000455856323, 1.4621000289916992, 1.4616999626159668, 1.4615000486373901, 1.461300015449524, 1.461300015449524, 1.461300015449524, 1.4609999656677246, 1.4609999656677246, 1.4609999656677246, 1.4608999490737915, 1.460800051689148, 1.4607000350952148, 1.4605000019073486, 1.4602999687194824, 1.4602999687194824, 1.4601999521255493, 1.4601000547409058, 1.4601000547409058, 1.4599000215530396, 0.7906000018119812, 0.20640000700950623, 0.17110000550746918, -0.14880000054836273], \"logprob\": [30.0, 29.0, 28.0, 27.0, 26.0, 25.0, 24.0, 23.0, 22.0, 21.0, 20.0, 19.0, 18.0, 17.0, 16.0, 15.0, 14.0, 13.0, 12.0, 11.0, 10.0, 9.0, 8.0, 7.0, 6.0, 5.0, 4.0, 3.0, 2.0, 1.0, -3.7558999061584473, -3.921999931335449, -4.0665998458862305, -4.3059000968933105, -4.462299823760986, -4.590700149536133, -4.838399887084961, -4.869800090789795, -4.8856000900268555, -4.914700031280518, -4.9319000244140625, -4.985099792480469, -5.041500091552734, -5.292399883270264, -5.24560022354126, -5.300600051879883, -5.304100036621094, -5.30109977722168, -5.349100112915039, -5.422800064086914, -5.547699928283691, -5.631499767303467, -5.603799819946289, -5.560800075531006, -5.639900207519531, -5.660200119018555, -5.743199825286865, -5.323299884796143, -5.774099826812744, -5.729000091552734, -5.750800132751465, -4.9394001960754395, -5.169099807739258, -3.825200080871582, -4.443299770355225, -4.721700191497803, -4.872099876403809, -4.4969000816345215, -4.703700065612793, -5.165599822998047, -4.566500186920166, -4.940800189971924, -5.249000072479248, -5.113100051879883, -5.275000095367432, -5.284900188446045, -4.128399848937988, -4.289299964904785, -4.322700023651123, -4.340099811553955, -4.695199966430664, -4.644400119781494, -4.728899955749512, -4.831600189208984, -4.9781999588012695, -5.0177001953125, -5.051300048828125, -5.107399940490723, -5.019800186157227, -5.051199913024902, -5.127500057220459, -5.3003997802734375, -5.439300060272217, -5.429100036621094, -5.424799919128418, -5.501200199127197, -5.536300182342529, -5.6203999519348145, -5.621300220489502, -5.60699987411499, -5.6153998374938965, -5.636300086975098, -5.686399936676025, -5.7469000816345215, -5.674900054931641, -5.747399806976318, -5.109600067138672, -5.049099922180176, -4.26230001449585, -4.829999923706055, -4.655300140380859, -5.279600143432617, -4.726900100708008, -5.2804999351501465, -4.741399765014648, -4.352700233459473, -4.959799766540527, -4.78249979019165, -5.053299903869629, -5.2144999504089355, -5.085700035095215, -5.15880012512207, -5.267099857330322, -5.257299900054932, -3.252000093460083, -3.7595999240875244, -3.8966000080108643, -4.05679988861084, -4.0594000816345215, -4.189000129699707, -4.197999954223633, -4.275599956512451, -4.295000076293945, -4.303400039672852, -4.514500141143799, -4.531799793243408, -4.658299922943115, -4.8541998863220215, -4.952700138092041, -4.913099765777588, -4.860300064086914, -5.084199905395508, -5.085299968719482, -5.066699981689453, -5.087800025939941, -5.15910005569458, -5.1631999015808105, -5.156400203704834, -5.271500110626221, -5.154099941253662, -5.240300178527832, -5.18209981918335, -5.232800006866455, -5.231400012969971, -4.932499885559082, -4.799900054931641, -5.017300128936768, -5.124499797821045]}, \"token.table\": {\"Topic\": [1, 2, 3, 3, 1, 3, 3, 3, 2, 2, 3, 1, 1, 3, 1, 2, 3, 2, 3, 1, 3, 1, 1, 2, 2, 1, 2, 3, 1, 2, 1, 1, 1, 2, 3, 1, 1, 2, 2, 1, 1, 2, 1, 2, 1, 2, 1, 2, 2, 2, 1, 1, 1, 2, 1, 1, 3, 3, 3, 1, 3, 1, 2, 3, 3, 2, 1, 2, 2, 2, 3, 1, 2, 3, 1, 3, 3, 1, 1, 2, 3, 3, 2, 3, 2, 1, 1, 2, 3, 2, 2, 3, 3, 1, 2, 1, 1, 3, 1, 3, 2, 3, 3, 3, 3, 2, 1, 1, 2, 3, 2, 3, 1, 2, 3, 1, 2, 2, 3, 3, 2, 1, 1, 3, 1, 1, 1, 2, 2, 2, 2, 1, 2, 3, 1, 2, 3, 2, 2, 1, 2, 2, 1, 2, 2, 3, 2, 1, 1, 2, 3], \"Freq\": [0.6796804666519165, 0.3196760416030884, 0.9984837174415588, 0.9960951805114746, 0.9956406950950623, 0.9986987709999084, 0.9992507100105286, 0.9961953163146973, 0.9973573088645935, 0.9981726408004761, 0.9988691806793213, 0.9958615303039551, 0.9985822439193726, 0.9984308481216431, 0.7474351525306702, 0.25136956572532654, 0.9963221549987793, 0.4899045526981354, 0.5089094638824463, 0.9243258237838745, 0.07464864104986191, 0.9970071911811829, 0.39330989122390747, 0.6056078672409058, 0.9958713054656982, 0.698273777961731, 0.10280513018369675, 0.19893459975719452, 0.9941602349281311, 0.9975646734237671, 0.998002827167511, 0.9979950785636902, 0.7157490849494934, 0.22700132429599762, 0.05790850147604942, 0.9980624914169312, 0.22732828557491302, 0.7711896300315857, 0.9985503554344177, 0.9972954988479614, 0.7122121453285217, 0.2864675521850586, 0.4519239664077759, 0.5473383665084839, 0.4082225263118744, 0.5912188291549683, 0.9992303252220154, 0.9977294206619263, 0.9940146207809448, 0.998569905757904, 0.9979493021965027, 0.9965531229972839, 0.9971848130226135, 0.0034745114389806986, 0.9984005093574524, 0.9979672431945801, 0.999416172504425, 0.9980220794677734, 0.998907744884491, 0.9292789101600647, 0.07212314009666443, 0.38032376766204834, 0.4931316673755646, 0.1267745941877365, 0.9986599683761597, 0.9961481690406799, 0.6381126642227173, 0.361557275056839, 0.9973444938659668, 0.9981850385665894, 0.995596706867218, 0.5977972745895386, 0.40157371759414673, 0.9980354905128479, 0.9959436655044556, 0.9988014698028564, 0.996883749961853, 0.9990397691726685, 0.4330929219722748, 0.28254157304763794, 0.28460392355918884, 0.995329737663269, 0.899514377117157, 0.0987597331404686, 0.994059145450592, 0.9998202323913574, 0.6548041105270386, 0.34500980377197266, 0.9988324642181396, 0.9964772462844849, 0.9988860487937927, 0.9965829253196716, 0.9967898726463318, 0.9969912171363831, 0.9993588328361511, 0.9986280798912048, 0.9987743496894836, 0.9979255199432373, 0.9980013370513916, 0.9952396154403687, 0.9948005080223083, 0.9989908337593079, 0.994515061378479, 0.9958983659744263, 0.9991507530212402, 0.9936259984970093, 0.9980354905128479, 0.2170170545578003, 0.5591610670089722, 0.22288239002227783, 0.9980494379997253, 0.9986089468002319, 0.32089799642562866, 0.5007300972938538, 0.1776784062385559, 0.9986249208450317, 0.9988402724266052, 0.9985162019729614, 0.9937126636505127, 0.998638927936554, 0.9943906664848328, 0.9978979229927063, 0.9976787567138672, 0.9982603192329407, 0.9963198900222778, 0.9991763830184937, 0.22762350738048553, 0.7693098187446594, 0.9965234398841858, 0.9980419278144836, 0.9939411878585815, 0.3010008931159973, 0.5000014901161194, 0.19900059700012207, 0.3104824721813202, 0.4156259298324585, 0.2746099829673767, 0.9996386766433716, 0.9969654083251953, 0.9965999722480774, 0.9987885355949402, 0.9957399964332581, 0.9965752959251404, 0.9967622756958008, 0.9672625064849854, 0.030513012781739235, 0.997969388961792, 0.9988191723823547, 0.39384254813194275, 0.5546866059303284, 0.05261255428195], \"Term\": [\"american\", \"american\", \"aoc\", \"barackobama\", \"benefit\", \"bernie\", \"berniesanders\", \"biden\", \"big\", \"black\", \"break\", \"build\", \"business\", \"candidate\", \"care\", \"care\", \"cbszak\", \"change\", \"change\", \"class\", \"class\", \"college\", \"come\", \"come\", \"corruption\", \"country\", \"country\", \"country\", \"debt\", \"democrat\", \"dollar\", \"education\", \"everyone\", \"everyone\", \"everyone\", \"fake\", \"family\", \"family\", \"fight\", \"free\", \"give\", \"give\", \"go\", \"go\", \"good\", \"good\", \"government\", \"happy\", \"hope\", \"iafor\", \"ice\", \"illegal\", \"indian\", \"indian\", \"infrastructure\", \"job\", \"joebiden\", \"justinamash\", \"kamalaharris\", \"kid\", \"kid\", \"know\", \"know\", \"know\", \"law\", \"liar\", \"lie\", \"lie\", \"line\", \"love\", \"maddow\", \"make\", \"make\", \"marwilliamson\", \"medicare\", \"medium\", \"mikebloomberg\", \"money\", \"need\", \"need\", \"need\", \"number\", \"obama\", \"obama\", \"party\", \"pay\", \"people\", \"people\", \"petebuttigieg\", \"please\", \"pocahontas\", \"policy\", \"poll\", \"poor\", \"president\", \"private\", \"problem\", \"proudresister\", \"public\", \"question\", \"race\", \"realdonaldtrump\", \"repadamschiff\", \"repjerrynadler\", \"repswalwell\", \"republican\", \"rich\", \"right\", \"right\", \"right\", \"run\", \"ryangrim\", \"say\", \"say\", \"say\", \"school\", \"see\", \"senator\", \"socialist\", \"speakerpelosi\", \"stand\", \"student\", \"stupid\", \"support\", \"system\", \"tax\", \"tell\", \"tell\", \"thank\", \"thanksgiving\", \"thehill\", \"think\", \"think\", \"think\", \"time\", \"time\", \"time\", \"trump\", \"tweet\", \"university\", \"vote\", \"wait\", \"wealth\", \"white\", \"win\", \"win\", \"woman\", \"work\", \"year\", \"year\", \"year\"]}, \"R\": 30, \"lambda.step\": 0.01, \"plot.opts\": {\"xlab\": \"PC1\", \"ylab\": \"PC2\"}, \"topic.order\": [2, 1, 3]};\n",
       "\n",
       "function LDAvis_load_lib(url, callback){\n",
       "  var s = document.createElement('script');\n",
       "  s.src = url;\n",
       "  s.async = true;\n",
       "  s.onreadystatechange = s.onload = callback;\n",
       "  s.onerror = function(){console.warn(\"failed to load library \" + url);};\n",
       "  document.getElementsByTagName(\"head\")[0].appendChild(s);\n",
       "}\n",
       "\n",
       "if(typeof(LDAvis) !== \"undefined\"){\n",
       "   // already loaded: just create the visualization\n",
       "   !function(LDAvis){\n",
       "       new LDAvis(\"#\" + \"ldavis_el1601404796330832169383118261\", ldavis_el1601404796330832169383118261_data);\n",
       "   }(LDAvis);\n",
       "}else if(typeof define === \"function\" && define.amd){\n",
       "   // require.js is available: use it to load d3/LDAvis\n",
       "   require.config({paths: {d3: \"https://cdnjs.cloudflare.com/ajax/libs/d3/3.5.5/d3.min\"}});\n",
       "   require([\"d3\"], function(d3){\n",
       "      window.d3 = d3;\n",
       "      LDAvis_load_lib(\"https://cdn.rawgit.com/bmabey/pyLDAvis/files/ldavis.v1.0.0.js\", function(){\n",
       "        new LDAvis(\"#\" + \"ldavis_el1601404796330832169383118261\", ldavis_el1601404796330832169383118261_data);\n",
       "      });\n",
       "    });\n",
       "}else{\n",
       "    // require.js not available: dynamically load d3 & LDAvis\n",
       "    LDAvis_load_lib(\"https://cdnjs.cloudflare.com/ajax/libs/d3/3.5.5/d3.min.js\", function(){\n",
       "         LDAvis_load_lib(\"https://cdn.rawgit.com/bmabey/pyLDAvis/files/ldavis.v1.0.0.js\", function(){\n",
       "                 new LDAvis(\"#\" + \"ldavis_el1601404796330832169383118261\", ldavis_el1601404796330832169383118261_data);\n",
       "            })\n",
       "         });\n",
       "}\n",
       "</script>"
      ],
      "text/plain": [
       "<IPython.core.display.HTML object>"
      ]
     },
     "execution_count": 18,
     "metadata": {},
     "output_type": "execute_result"
    }
   ],
   "source": [
    "import pyLDAvis\n",
    "import pyLDAvis.gensim\n",
    "vis = pyLDAvis.gensim.prepare(topic_model=ldamodel_elizabeth_warren, corpus=doc_term_matrix, dictionary=dictionary)\n",
    "pyLDAvis.enable_notebook()\n",
    "pyLDAvis.display(vis)"
   ]
  },
  {
   "cell_type": "code",
   "execution_count": 19,
   "metadata": {
    "scrolled": true
   },
   "outputs": [
    {
     "data": {
      "image/png": "[encoded data removed]",
      "text/plain": [
       "<Figure size 576x576 with 1 Axes>"
      ]
     },
     "metadata": {
      "needs_background": "light"
     },
     "output_type": "display_data"
    },
    {
     "data": {
      "image/png": "[encoded data removed]",
      "text/plain": [
       "<Figure size 576x576 with 1 Axes>"
      ]
     },
     "metadata": {
      "needs_background": "light"
     },
     "output_type": "display_data"
    },
    {
     "data": {
      "image/png": "[encoded data removed]",
      "text/plain": [
       "<Figure size 576x576 with 1 Axes>"
      ]
     },
     "metadata": {
      "needs_background": "light"
     },
     "output_type": "display_data"
    }
   ],
   "source": [
    "topics = ldamodel_elizabeth_warren.show_topics(formatted=False)\n",
    "    \n",
    "cols = [color for name, color in mcolors.TABLEAU_COLORS.items()]  # more colors: 'mcolors.XKCD_COLORS'\n",
    "\n",
    "cloud = WordCloud(stopwords=stop_words,\n",
    "                  background_color='white',\n",
    "                  width=2500,\n",
    "                  height=1800,\n",
    "                  max_words=10,\n",
    "                  colormap='tab10',\n",
    "                  color_func=lambda *args, **kwargs: cols[0],\n",
    "                  prefer_horizontal=1.0)\n",
    "\n",
    "for topic_num in range(topics_to_discover):\n",
    "    fig, axes = plt.subplots(1, 1, figsize=(8,8), sharex=True, sharey=True)\n",
    "\n",
    "    topic_words = dict(topics[topic_num][1])\n",
    "    cloud.generate_from_frequencies(topic_words)\n",
    "    plt.gca().imshow(cloud)\n",
    "    plt.gca().set_title('Wordcloud for Topic-{}'.format(topic_num+1), fontdict=dict(size=16))\n",
    "    plt.gca().axis('off')\n",
    "\n",
    "\n",
    "    plt.subplots_adjust(wspace=0, hspace=0)\n",
    "    plt.axis('off')\n",
    "    plt.margins(x=0, y=0)\n",
    "    plt.tight_layout()\n",
    "    plt.show()"
   ]
  },
  {
   "cell_type": "code",
   "execution_count": null,
   "metadata": {},
   "outputs": [],
   "source": []
  }
 ],
 "metadata": {
  "kernelspec": {
   "display_name": "Python 3",
   "language": "python",
   "name": "python3"
  },
  "language_info": {
   "codemirror_mode": {
    "name": "ipython",
    "version": 3
   },
   "file_extension": ".py",
   "mimetype": "text/x-python",
   "name": "python",
   "nbconvert_exporter": "python",
   "pygments_lexer": "ipython3",
   "version": "3.7.5"
  }
 },
 "nbformat": 4,
 "nbformat_minor": 2
}
