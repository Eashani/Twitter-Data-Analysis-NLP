{
 "cells": [
  {
   "cell_type": "code",
   "execution_count": 4,
   "metadata": {},
   "outputs": [],
   "source": [
    "import pandas as pd\n",
    "import os"
   ]
  },
  {
   "cell_type": "code",
   "execution_count": 5,
   "metadata": {
    "scrolled": true
   },
   "outputs": [],
   "source": [
    "\n",
    "\n",
    "# Scraped only these fields for each tweet scraped\n",
    "field_names = ['retweet_count', 'author_screen_name', 'author_followers_count',\n",
    "               'author_following_count', 'created_at', 'id_str', 'full_text']\n",
    "\n",
    "\n",
    "\n",
    "def load_txt_data(name):\n",
    "    '''\n",
    "    given a name Bernie/Joe/Elizabeth, reads the corresponding txt file,\n",
    "    and returns a pandas dataframe\n",
    "    '''\n",
    "    raw_data = []\n",
    "    for file_name in sorted(os.listdir('.')):\n",
    "        \n",
    "        if name in file_name and '.txt' in file_name:\n",
    "            print('Processing', file_name)\n",
    "            with open(file_name, 'r') as fhandle:\n",
    "                lines = [line.replace('backslashN', '\\n').split('::::') for line in fhandle.readlines()]\n",
    "            for _l in lines:\n",
    "                if len(_l)!=len(field_names):\n",
    "                    continue\n",
    "                raw_data.append(_l)\n",
    "    df = pd.DataFrame(data=raw_data, columns=field_names)\n",
    "    \n",
    "    ## not loading all columns!! ##\n",
    "    cols_retained = ['id_str', 'created_at',  'full_text']\n",
    "    types_cols_retained = ['object', 'datetime64', 'object' ]\n",
    "    df = df[cols_retained]\n",
    "    df = df.astype(dict(zip(cols_retained, types_cols_retained))) # change types for convenience\n",
    "        \n",
    "    \n",
    "    return df\n",
    "\n",
    "\n",
    "    \n"
   ]
  },
  {
   "cell_type": "code",
   "execution_count": 6,
   "metadata": {},
   "outputs": [
    {
     "name": "stdout",
     "output_type": "stream",
     "text": [
      "Processing Bernie.txt\n"
     ]
    },
    {
     "data": {
      "text/plain": [
       "id_str        22454\n",
       "created_at    19679\n",
       "full_text     22345\n",
       "dtype: int64"
      ]
     },
     "metadata": {},
     "output_type": "display_data"
    },
    {
     "data": {
      "text/plain": [
       "id_str        10032\n",
       "created_at     8598\n",
       "full_text     10005\n",
       "dtype: int64"
      ]
     },
     "metadata": {},
     "output_type": "display_data"
    },
    {
     "data": {
      "text/plain": [
       "id_str        32486\n",
       "created_at    28277\n",
       "full_text     27756\n",
       "dtype: int64"
      ]
     },
     "metadata": {},
     "output_type": "display_data"
    },
    {
     "name": "stdout",
     "output_type": "stream",
     "text": [
      "Processing Joe.txt\n"
     ]
    },
    {
     "data": {
      "text/plain": [
       "id_str        16199\n",
       "created_at    13020\n",
       "full_text     16141\n",
       "dtype: int64"
      ]
     },
     "metadata": {},
     "output_type": "display_data"
    },
    {
     "data": {
      "text/plain": [
       "id_str        6089\n",
       "created_at    5339\n",
       "full_text     6042\n",
       "dtype: int64"
      ]
     },
     "metadata": {},
     "output_type": "display_data"
    },
    {
     "data": {
      "text/plain": [
       "id_str        22288\n",
       "created_at    18359\n",
       "full_text     20030\n",
       "dtype: int64"
      ]
     },
     "metadata": {},
     "output_type": "display_data"
    },
    {
     "name": "stdout",
     "output_type": "stream",
     "text": [
      "Processing Elizabeth.txt\n"
     ]
    },
    {
     "data": {
      "text/plain": [
       "id_str        15707\n",
       "created_at    14523\n",
       "full_text     15649\n",
       "dtype: int64"
      ]
     },
     "metadata": {},
     "output_type": "display_data"
    },
    {
     "data": {
      "text/plain": [
       "id_str        9192\n",
       "created_at    8485\n",
       "full_text     9139\n",
       "dtype: int64"
      ]
     },
     "metadata": {},
     "output_type": "display_data"
    },
    {
     "data": {
      "text/plain": [
       "id_str        24899\n",
       "created_at    23008\n",
       "full_text     20697\n",
       "dtype: int64"
      ]
     },
     "metadata": {},
     "output_type": "display_data"
    }
   ],
   "source": [
    "for name in ['Bernie', 'Joe', 'Elizabeth']:\n",
    "    df_txt = load_txt_data(name)\n",
    "    df_csv = pd.read_csv(\"dataset_{}.csv\".format(name))\n",
    "    display(df_txt.nunique(), df_csv.nunique())\n",
    "    df = df_txt.append(df_csv, ignore_index=True, verify_integrity=True).reindex()\n",
    "    df.drop_duplicates(subset = ['id_str'], inplace=True)\n",
    "    display(df.nunique())\n",
    "    df.to_csv('final_dataset_{}.csv'.format(name), index=False)"
   ]
  },
  {
   "cell_type": "code",
   "execution_count": null,
   "metadata": {},
   "outputs": [],
   "source": []
  },
  {
   "cell_type": "code",
   "execution_count": null,
   "metadata": {},
   "outputs": [],
   "source": []
  },
  {
   "cell_type": "code",
   "execution_count": null,
   "metadata": {},
   "outputs": [],
   "source": []
  }
 ],
 "metadata": {
  "kernelspec": {
   "display_name": "Python 3",
   "language": "python",
   "name": "python3"
  },
  "language_info": {
   "codemirror_mode": {
    "name": "ipython",
    "version": 3
   },
   "file_extension": ".py",
   "mimetype": "text/x-python",
   "name": "python",
   "nbconvert_exporter": "python",
   "pygments_lexer": "ipython3",
   "version": "3.7.5"
  }
 },
 "nbformat": 4,
 "nbformat_minor": 2
}
