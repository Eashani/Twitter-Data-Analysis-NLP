{
 "cells": [
  {
   "cell_type": "code",
   "execution_count": 127,
   "metadata": {},
   "outputs": [],
   "source": [
    "import emoji\n",
    "import numpy as np\n",
    "import os\n",
    "import pandas as pd\n",
    "import re\n",
    "\n",
    "field_names = ['retweet_count', 'author_screen_name', 'author_followers_count', 'author_following_count', 'created_at', 'id_str', 'full_text']\n",
    "\n"
   ]
  },
  {
   "cell_type": "code",
   "execution_count": 2,
   "metadata": {
    "scrolled": true
   },
   "outputs": [
    {
     "name": "stdout",
     "output_type": "stream",
     "text": [
      "Requirement already satisfied: pandas in /usr/local/lib/python3.7/site-packages (0.25.3)\r\n",
      "Requirement already satisfied: numpy>=1.13.3 in /usr/local/lib/python3.7/site-packages (from pandas) (1.17.4)\r\n",
      "Requirement already satisfied: python-dateutil>=2.6.1 in /usr/local/lib/python3.7/site-packages (from pandas) (2.8.1)\r\n",
      "Requirement already satisfied: pytz>=2017.2 in /usr/local/lib/python3.7/site-packages (from pandas) (2019.3)\r\n",
      "Requirement already satisfied: six>=1.5 in /usr/local/lib/python3.7/site-packages (from python-dateutil>=2.6.1->pandas) (1.13.0)\r\n"
     ]
    }
   ],
   "source": [
    "!pip install pandas emoji"
   ]
  },
  {
   "cell_type": "code",
   "execution_count": 148,
   "metadata": {
    "scrolled": true
   },
   "outputs": [],
   "source": [
    "#name would be one of the Bernie, Joe or Elizabeth!!\n",
    "# returns a dataframe with duplicates removed\n",
    "\n",
    "\n",
    "def remove_duplicates(name):\n",
    "    raw_data = []\n",
    "    for file_name in sorted(os.listdir('.')):\n",
    "        \n",
    "        if name in file_name:\n",
    "            print('Processing', file_name)\n",
    "            with open(file_name, 'r') as fhandle:\n",
    "                lines = [line.replace('backslashN', '\\n').split('::::') for line in fhandle.readlines()]\n",
    "            for _l in lines:\n",
    "                raw_data.append(_l)\n",
    "    df = pd.DataFrame(data=raw_data, columns=field_names)\n",
    "    df.drop_duplicates(subset=['id_str'], inplace = True)\n",
    "    return df\n",
    "\n",
    "def correct_ampersands(match):\n",
    "    _str = match.group(0)\n",
    "    splitted = re.split('&', _str)\n",
    "    if all([str.isupper(i) for i in splitted]):\n",
    "        return _str\n",
    "    else:\n",
    "        return ' & '.join(splitted)\n",
    "        \n",
    "def correct_multiplemarks(match):\n",
    "    _str = match.group(0)\n",
    "    if _str.startswith('?'):\n",
    "        return '?'\n",
    "    elif _str.startswith('!'):\n",
    "        return '!'\n",
    "        \n",
    "        \n",
    "def correct_slashsplitted(match):\n",
    "    _str = match.group(0)\n",
    "    temp = re.search('\\$*[0-9.]+/\\S+', _str)\n",
    "    if temp is not None:\n",
    "        return _str\n",
    "    else:\n",
    "        return ' '.join(_str.split('/'))\n",
    "\n",
    "        \n",
    "\n",
    "        \n",
    "def preprocess_text(candidate_name):\n",
    "    df = remove_duplicates(candidate_name)\n",
    "    df['full_text'] = df['full_text'].apply(lambda x:re.sub('http\\S+', '', x))\n",
    "    df['full_text'] = df['full_text'].apply(lambda x:re.sub('&amp;*', '&', x), )\n",
    "    df['full_text'] = df['full_text'].apply(lambda x:re.sub('&gt;*', '>', x), )\n",
    "    df['full_text'] = df['full_text'].apply(lambda x:re.sub('&lt;*', '<', x), )\n",
    "    df['full_text'] = df['full_text'].apply(lambda x:re.sub('\\S*&\\S+', correct_ampersands, x), )\n",
    "    df['full_text'] = df['full_text'].apply(lambda x:re.sub('[!?]{2,}', correct_multiplemarks, x), )\n",
    "    df['full_text'] = df['full_text'].apply(lambda x:re.sub('[!?]{2,}', correct_slashsplitted, x), )\n",
    "    df['full_text'] = df['full_text'].apply(lambda x:emoji.get_emoji_regexp().sub('', x), )\n",
    "    return df\n",
    "    "
   ]
  },
  {
   "cell_type": "code",
   "execution_count": 156,
   "metadata": {},
   "outputs": [
    {
     "name": "stdout",
     "output_type": "stream",
     "text": [
      "Processing Bernie.txt\n",
      "Processing Bernie10.txt\n",
      "Processing Bernie2.txt\n",
      "Processing Bernie3.txt\n",
      "Processing Bernie4.txt\n",
      "Processing Bernie5.txt\n",
      "Processing Bernie6.txt\n",
      "Processing Bernie7.txt\n",
      "Processing Bernie8.txt\n",
      "Processing Bernie9.txt\n"
     ]
    },
    {
     "data": {
      "text/html": [
       "<div>\n",
       "<style scoped>\n",
       "    .dataframe tbody tr th:only-of-type {\n",
       "        vertical-align: middle;\n",
       "    }\n",
       "\n",
       "    .dataframe tbody tr th {\n",
       "        vertical-align: top;\n",
       "    }\n",
       "\n",
       "    .dataframe thead th {\n",
       "        text-align: right;\n",
       "    }\n",
       "</style>\n",
       "<table border=\"1\" class=\"dataframe\">\n",
       "  <thead>\n",
       "    <tr style=\"text-align: right;\">\n",
       "      <th></th>\n",
       "      <th>retweet_count</th>\n",
       "      <th>author_screen_name</th>\n",
       "      <th>author_followers_count</th>\n",
       "      <th>author_following_count</th>\n",
       "      <th>created_at</th>\n",
       "      <th>id_str</th>\n",
       "      <th>full_text</th>\n",
       "    </tr>\n",
       "  </thead>\n",
       "  <tbody>\n",
       "    <tr>\n",
       "      <th>0</th>\n",
       "      <td>0</td>\n",
       "      <td>ghostriderr74</td>\n",
       "      <td>24</td>\n",
       "      <td>85</td>\n",
       "      <td>2019-11-24 00:35:01</td>\n",
       "      <td>1198399587649613824</td>\n",
       "      <td>@BernieSanders Not -- in my town we have medic...</td>\n",
       "    </tr>\n",
       "    <tr>\n",
       "      <th>1</th>\n",
       "      <td>0</td>\n",
       "      <td>michaelfrank17</td>\n",
       "      <td>2078</td>\n",
       "      <td>2202</td>\n",
       "      <td>2019-11-24 00:35:01</td>\n",
       "      <td>1198399586403942400</td>\n",
       "      <td>This week I heard @MMFlint say that Nancy Pelo...</td>\n",
       "    </tr>\n",
       "    <tr>\n",
       "      <th>2</th>\n",
       "      <td>6</td>\n",
       "      <td>savemain_st</td>\n",
       "      <td>46654</td>\n",
       "      <td>18548</td>\n",
       "      <td>2019-11-24 00:35:00</td>\n",
       "      <td>1198399585049284672</td>\n",
       "      <td>@ninaturner @PortiaABoulger @BernieSanders @jj...</td>\n",
       "    </tr>\n",
       "    <tr>\n",
       "      <th>3</th>\n",
       "      <td>0</td>\n",
       "      <td>GeoffWaters5</td>\n",
       "      <td>15</td>\n",
       "      <td>21</td>\n",
       "      <td>2019-11-24 00:35:00</td>\n",
       "      <td>1198399582847340544</td>\n",
       "      <td>@stro1786 @BernieSanders Is that a good thing ...</td>\n",
       "    </tr>\n",
       "    <tr>\n",
       "      <th>4</th>\n",
       "      <td>0</td>\n",
       "      <td>FLOURNOYFarrell</td>\n",
       "      <td>3505</td>\n",
       "      <td>4994</td>\n",
       "      <td>2019-11-24 00:34:57</td>\n",
       "      <td>1198399569853325312</td>\n",
       "      <td>@KelticSC @thekaraboudjan @SallyAlbright @Lewi...</td>\n",
       "    </tr>\n",
       "  </tbody>\n",
       "</table>\n",
       "</div>"
      ],
      "text/plain": [
       "  retweet_count author_screen_name author_followers_count  \\\n",
       "0             0      ghostriderr74                     24   \n",
       "1             0     michaelfrank17                   2078   \n",
       "2             6        savemain_st                  46654   \n",
       "3             0       GeoffWaters5                     15   \n",
       "4             0    FLOURNOYFarrell                   3505   \n",
       "\n",
       "  author_following_count           created_at               id_str  \\\n",
       "0                     85  2019-11-24 00:35:01  1198399587649613824   \n",
       "1                   2202  2019-11-24 00:35:01  1198399586403942400   \n",
       "2                  18548  2019-11-24 00:35:00  1198399585049284672   \n",
       "3                     21  2019-11-24 00:35:00  1198399582847340544   \n",
       "4                   4994  2019-11-24 00:34:57  1198399569853325312   \n",
       "\n",
       "                                           full_text  \n",
       "0  @BernieSanders Not -- in my town we have medic...  \n",
       "1  This week I heard @MMFlint say that Nancy Pelo...  \n",
       "2  @ninaturner @PortiaABoulger @BernieSanders @jj...  \n",
       "3  @stro1786 @BernieSanders Is that a good thing ...  \n",
       "4  @KelticSC @thekaraboudjan @SallyAlbright @Lewi...  "
      ]
     },
     "metadata": {},
     "output_type": "display_data"
    },
    {
     "data": {
      "text/plain": [
       "retweet_count             5059\n",
       "author_screen_name        5059\n",
       "author_followers_count    5059\n",
       "author_following_count    5059\n",
       "created_at                5059\n",
       "id_str                    5059\n",
       "full_text                 5059\n",
       "dtype: int64"
      ]
     },
     "metadata": {},
     "output_type": "display_data"
    },
    {
     "data": {
      "text/plain": [
       "5059"
      ]
     },
     "metadata": {},
     "output_type": "display_data"
    },
    {
     "data": {
      "text/plain": [
       "created_at\n",
       "2019-11-23    1322\n",
       "2019-11-24    1665\n",
       "2019-11-25      25\n",
       "2019-11-27     987\n",
       "2019-11-28     768\n",
       "2019-11-29     292\n",
       "Name: id_str, dtype: int64"
      ]
     },
     "metadata": {},
     "output_type": "display_data"
    },
    {
     "name": "stdout",
     "output_type": "stream",
     "text": [
      "-----------\n",
      "Processing Joe.txt\n",
      "Processing Joe10.txt\n",
      "Processing Joe2.txt\n",
      "Processing Joe3.txt\n",
      "Processing Joe4.txt\n",
      "Processing Joe5.txt\n",
      "Processing Joe6.txt\n",
      "Processing Joe7.txt\n",
      "Processing Joe8.txt\n",
      "Processing Joe9.txt\n"
     ]
    },
    {
     "data": {
      "text/html": [
       "<div>\n",
       "<style scoped>\n",
       "    .dataframe tbody tr th:only-of-type {\n",
       "        vertical-align: middle;\n",
       "    }\n",
       "\n",
       "    .dataframe tbody tr th {\n",
       "        vertical-align: top;\n",
       "    }\n",
       "\n",
       "    .dataframe thead th {\n",
       "        text-align: right;\n",
       "    }\n",
       "</style>\n",
       "<table border=\"1\" class=\"dataframe\">\n",
       "  <thead>\n",
       "    <tr style=\"text-align: right;\">\n",
       "      <th></th>\n",
       "      <th>retweet_count</th>\n",
       "      <th>author_screen_name</th>\n",
       "      <th>author_followers_count</th>\n",
       "      <th>author_following_count</th>\n",
       "      <th>created_at</th>\n",
       "      <th>id_str</th>\n",
       "      <th>full_text</th>\n",
       "    </tr>\n",
       "  </thead>\n",
       "  <tbody>\n",
       "    <tr>\n",
       "      <th>0</th>\n",
       "      <td>0</td>\n",
       "      <td>rickrowse2</td>\n",
       "      <td>173</td>\n",
       "      <td>255</td>\n",
       "      <td>2019-11-24 20:55:40</td>\n",
       "      <td>1198706776062996480</td>\n",
       "      <td>@JoeBiden Beats going back to the crooked swam...</td>\n",
       "    </tr>\n",
       "    <tr>\n",
       "      <th>1</th>\n",
       "      <td>0</td>\n",
       "      <td>FlanAg97</td>\n",
       "      <td>5047</td>\n",
       "      <td>5439</td>\n",
       "      <td>2019-11-24 20:55:40</td>\n",
       "      <td>1198706772086861830</td>\n",
       "      <td>@PeepsPowertothe @JoeBiden @BernieSanders @Sen...</td>\n",
       "    </tr>\n",
       "    <tr>\n",
       "      <th>2</th>\n",
       "      <td>0</td>\n",
       "      <td>juniort22163107</td>\n",
       "      <td>186</td>\n",
       "      <td>362</td>\n",
       "      <td>2019-11-24 20:55:37</td>\n",
       "      <td>1198706761064157184</td>\n",
       "      <td>@JoeBiden congrats grandpa enjoy the new grand...</td>\n",
       "    </tr>\n",
       "    <tr>\n",
       "      <th>3</th>\n",
       "      <td>0</td>\n",
       "      <td>PostonRuss</td>\n",
       "      <td>1444</td>\n",
       "      <td>2177</td>\n",
       "      <td>2019-11-24 20:55:32</td>\n",
       "      <td>1198706739794894848</td>\n",
       "      <td>@JoeBiden You damn sure can’t! I can’t wait #T...</td>\n",
       "    </tr>\n",
       "    <tr>\n",
       "      <th>4</th>\n",
       "      <td>0</td>\n",
       "      <td>are_marines</td>\n",
       "      <td>1316</td>\n",
       "      <td>1746</td>\n",
       "      <td>2019-11-24 20:55:27</td>\n",
       "      <td>1198706717703507968</td>\n",
       "      <td>@JoeBiden and son are corrupt losers \\n</td>\n",
       "    </tr>\n",
       "  </tbody>\n",
       "</table>\n",
       "</div>"
      ],
      "text/plain": [
       "  retweet_count author_screen_name author_followers_count  \\\n",
       "0             0         rickrowse2                    173   \n",
       "1             0           FlanAg97                   5047   \n",
       "2             0    juniort22163107                    186   \n",
       "3             0         PostonRuss                   1444   \n",
       "4             0        are_marines                   1316   \n",
       "\n",
       "  author_following_count           created_at               id_str  \\\n",
       "0                    255  2019-11-24 20:55:40  1198706776062996480   \n",
       "1                   5439  2019-11-24 20:55:40  1198706772086861830   \n",
       "2                    362  2019-11-24 20:55:37  1198706761064157184   \n",
       "3                   2177  2019-11-24 20:55:32  1198706739794894848   \n",
       "4                   1746  2019-11-24 20:55:27  1198706717703507968   \n",
       "\n",
       "                                           full_text  \n",
       "0  @JoeBiden Beats going back to the crooked swam...  \n",
       "1  @PeepsPowertothe @JoeBiden @BernieSanders @Sen...  \n",
       "2  @JoeBiden congrats grandpa enjoy the new grand...  \n",
       "3  @JoeBiden You damn sure can’t! I can’t wait #T...  \n",
       "4            @JoeBiden and son are corrupt losers \\n  "
      ]
     },
     "metadata": {},
     "output_type": "display_data"
    },
    {
     "data": {
      "text/plain": [
       "retweet_count             3778\n",
       "author_screen_name        3778\n",
       "author_followers_count    3778\n",
       "author_following_count    3778\n",
       "created_at                3778\n",
       "id_str                    3778\n",
       "full_text                 3778\n",
       "dtype: int64"
      ]
     },
     "metadata": {},
     "output_type": "display_data"
    },
    {
     "data": {
      "text/plain": [
       "3778"
      ]
     },
     "metadata": {},
     "output_type": "display_data"
    },
    {
     "data": {
      "text/plain": [
       "created_at\n",
       "2019-11-24    2676\n",
       "2019-11-25      26\n",
       "2019-11-28    1003\n",
       "2019-11-29      73\n",
       "Name: id_str, dtype: int64"
      ]
     },
     "metadata": {},
     "output_type": "display_data"
    },
    {
     "name": "stdout",
     "output_type": "stream",
     "text": [
      "-----------\n",
      "Processing Elizabeth.txt\n",
      "Processing Elizabeth10.txt\n",
      "Processing Elizabeth2.txt\n",
      "Processing Elizabeth3.txt\n",
      "Processing Elizabeth4.txt\n",
      "Processing Elizabeth5.txt\n",
      "Processing Elizabeth6.txt\n",
      "Processing Elizabeth7.txt\n",
      "Processing Elizabeth8.txt\n",
      "Processing Elizabeth9.txt\n"
     ]
    },
    {
     "data": {
      "text/html": [
       "<div>\n",
       "<style scoped>\n",
       "    .dataframe tbody tr th:only-of-type {\n",
       "        vertical-align: middle;\n",
       "    }\n",
       "\n",
       "    .dataframe tbody tr th {\n",
       "        vertical-align: top;\n",
       "    }\n",
       "\n",
       "    .dataframe thead th {\n",
       "        text-align: right;\n",
       "    }\n",
       "</style>\n",
       "<table border=\"1\" class=\"dataframe\">\n",
       "  <thead>\n",
       "    <tr style=\"text-align: right;\">\n",
       "      <th></th>\n",
       "      <th>retweet_count</th>\n",
       "      <th>author_screen_name</th>\n",
       "      <th>author_followers_count</th>\n",
       "      <th>author_following_count</th>\n",
       "      <th>created_at</th>\n",
       "      <th>id_str</th>\n",
       "      <th>full_text</th>\n",
       "    </tr>\n",
       "  </thead>\n",
       "  <tbody>\n",
       "    <tr>\n",
       "      <th>0</th>\n",
       "      <td>0</td>\n",
       "      <td>MadonnaMadsen</td>\n",
       "      <td>17987</td>\n",
       "      <td>17467</td>\n",
       "      <td>2019-11-24 16:43:35</td>\n",
       "      <td>1198643333716795392</td>\n",
       "      <td>@no_silenced @ewarren @RepPressley Democrats a...</td>\n",
       "    </tr>\n",
       "    <tr>\n",
       "      <th>1</th>\n",
       "      <td>0</td>\n",
       "      <td>natsanpol</td>\n",
       "      <td>322</td>\n",
       "      <td>480</td>\n",
       "      <td>2019-11-24 16:43:28</td>\n",
       "      <td>1198643305493479424</td>\n",
       "      <td>@ewarren @MayaRudolph as @KamalaHarris was als...</td>\n",
       "    </tr>\n",
       "    <tr>\n",
       "      <th>2</th>\n",
       "      <td>0</td>\n",
       "      <td>DavidBelfiore1</td>\n",
       "      <td>13</td>\n",
       "      <td>292</td>\n",
       "      <td>2019-11-24 16:43:22</td>\n",
       "      <td>1198643280453484545</td>\n",
       "      <td>@TeamWarren @ewarren Anybody is better than Wa...</td>\n",
       "    </tr>\n",
       "    <tr>\n",
       "      <th>3</th>\n",
       "      <td>0</td>\n",
       "      <td>zaxxken</td>\n",
       "      <td>33</td>\n",
       "      <td>47</td>\n",
       "      <td>2019-11-24 16:43:22</td>\n",
       "      <td>1198643278687551488</td>\n",
       "      <td>@CNNPolitics @cnnbrk Goodbye @ewarren @BernieS...</td>\n",
       "    </tr>\n",
       "    <tr>\n",
       "      <th>4</th>\n",
       "      <td>0</td>\n",
       "      <td>binsaudigifts</td>\n",
       "      <td>172</td>\n",
       "      <td>269</td>\n",
       "      <td>2019-11-24 16:43:19</td>\n",
       "      <td>1198643267702853639</td>\n",
       "      <td>@ryangrim @ewarren Who on earth are you?\\n</td>\n",
       "    </tr>\n",
       "  </tbody>\n",
       "</table>\n",
       "</div>"
      ],
      "text/plain": [
       "  retweet_count author_screen_name author_followers_count  \\\n",
       "0             0      MadonnaMadsen                  17987   \n",
       "1             0          natsanpol                    322   \n",
       "2             0     DavidBelfiore1                     13   \n",
       "3             0            zaxxken                     33   \n",
       "4             0      binsaudigifts                    172   \n",
       "\n",
       "  author_following_count           created_at               id_str  \\\n",
       "0                  17467  2019-11-24 16:43:35  1198643333716795392   \n",
       "1                    480  2019-11-24 16:43:28  1198643305493479424   \n",
       "2                    292  2019-11-24 16:43:22  1198643280453484545   \n",
       "3                     47  2019-11-24 16:43:22  1198643278687551488   \n",
       "4                    269  2019-11-24 16:43:19  1198643267702853639   \n",
       "\n",
       "                                           full_text  \n",
       "0  @no_silenced @ewarren @RepPressley Democrats a...  \n",
       "1  @ewarren @MayaRudolph as @KamalaHarris was als...  \n",
       "2  @TeamWarren @ewarren Anybody is better than Wa...  \n",
       "3  @CNNPolitics @cnnbrk Goodbye @ewarren @BernieS...  \n",
       "4         @ryangrim @ewarren Who on earth are you?\\n  "
      ]
     },
     "metadata": {},
     "output_type": "display_data"
    },
    {
     "data": {
      "text/plain": [
       "retweet_count             4437\n",
       "author_screen_name        4437\n",
       "author_followers_count    4437\n",
       "author_following_count    4437\n",
       "created_at                4437\n",
       "id_str                    4437\n",
       "full_text                 4437\n",
       "dtype: int64"
      ]
     },
     "metadata": {},
     "output_type": "display_data"
    },
    {
     "data": {
      "text/plain": [
       "4437"
      ]
     },
     "metadata": {},
     "output_type": "display_data"
    },
    {
     "data": {
      "text/plain": [
       "created_at\n",
       "2019-11-24    2364\n",
       "2019-11-25      24\n",
       "2019-11-27     740\n",
       "2019-11-28    1235\n",
       "2019-11-29      74\n",
       "Name: id_str, dtype: int64"
      ]
     },
     "metadata": {},
     "output_type": "display_data"
    },
    {
     "name": "stdout",
     "output_type": "stream",
     "text": [
      "-----------\n"
     ]
    }
   ],
   "source": [
    "for name in ['Bernie', 'Joe', 'Elizabeth']:\n",
    "    df = preprocess_text(name)\n",
    "    display(df.head())\n",
    "    display(df.count())\n",
    "    display(df['id_str'].nunique())\n",
    "    display(df.groupby(pd.to_datetime(df['created_at']).dt.date)['id_str'].nunique())\n",
    "    df.to_csv('dataset_{}.csv'.format(name), index=False)\n",
    "    print('-----------')\n",
    "    "
   ]
  },
  {
   "cell_type": "code",
   "execution_count": null,
   "metadata": {},
   "outputs": [],
   "source": []
  }
 ],
 "metadata": {
  "kernelspec": {
   "display_name": "Python 3",
   "language": "python",
   "name": "python3"
  },
  "language_info": {
   "codemirror_mode": {
    "name": "ipython",
    "version": 3
   },
   "file_extension": ".py",
   "mimetype": "text/x-python",
   "name": "python",
   "nbconvert_exporter": "python",
   "pygments_lexer": "ipython3",
   "version": "3.7.5"
  }
 },
 "nbformat": 4,
 "nbformat_minor": 2
}
