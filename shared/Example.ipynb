{
 "cells": [
  {
   "cell_type": "code",
   "execution_count": 1,
   "metadata": {},
   "outputs": [
    {
     "name": "stdout",
     "output_type": "stream",
     "text": [
      "Hello, World!\n"
     ]
    }
   ],
   "source": [
    "print('Hello, World!')"
   ]
  },
  {
   "cell_type": "code",
   "execution_count": 2,
   "metadata": {},
   "outputs": [],
   "source": [
    "import tweepy\n",
    "import os\n",
    "keys_tokens = ['consumer_key', 'consumer_secret', 'access_token', 'access_token_secret']\n",
    "dict_keys_tokens = {i:os.getenv(i, None) for i in keys_tokens}"
   ]
  },
  {
   "cell_type": "code",
   "execution_count": 3,
   "metadata": {},
   "outputs": [],
   "source": [
    "# Creating the authentication object\n",
    "auth = tweepy.OAuthHandler(dict_keys_tokens['consumer_key'], dict_keys_tokens['consumer_secret'])\n",
    "# Setting your access token and secret\n",
    "auth.set_access_token(dict_keys_tokens['access_token'], dict_keys_tokens['access_token_secret'])\n",
    "# Creating the API object while passing in auth information\n",
    "api = tweepy.API(auth) "
   ]
  },
  {
   "cell_type": "code",
   "execution_count": 4,
   "metadata": {
    "scrolled": true
   },
   "outputs": [
    {
     "name": "stdout",
     "output_type": "stream",
     "text": [
      "FereJohn Tweeted: 🆘Please investigate!  Please stop the funding amendment that would drive #wildhorses to extinction!… https://t.co/MxrI7YaHJN\n",
      "aidanzzzzz Tweeted: @flux_nomad @BernieSanders It's all an illusion. There is enough of everything to help everyone but thinking needs… https://t.co/qOdO1N3p7i\n",
      "SerenityFoods Tweeted: RT @Women4Bernie46: It is time for a President who is beholden to the people, not corporations.\n",
      "#WomenForBernie @ninaturner #NotForSale @Be…\n",
      "NeedleCraftNook Tweeted: RT @BernieSanders: Don't let anyone tell you that our vision is radical or extreme. Radical and extreme is giving a trillion dollars in tax…\n",
      "LinnGalindo Tweeted: RT @BernieSanders: Don't let anyone tell you that our vision is radical or extreme. Radical and extreme is giving a trillion dollars in tax…\n",
      "Blackmare00 Tweeted: RT @detroitnews: “We deserve someone who writes the damn bill. We deserve Bernie Sanders,” U.S. Rep. @RashidaTlaib said while giving her en…\n",
      "starkan81217 Tweeted: RT @BernieSanders: If you are wealthy and powerful, or maybe the president, you are above the law. But if you are poor, if you're Black, if…\n",
      "evehnyc_eve Tweeted: RT @BernieSanders: Thank you Detroit and Rep. @RashidaTlaib! Our message to the top 1% and powerful corporations: this nation belongs to al…\n",
      "AimeeDemaio Tweeted: RT @BernieSanders: \"I am endorsing Amo Bernie Sanders because he's not gonna sell us out. He understands that it's not just about policies…\n",
      "thebling_vote Tweeted: RT @truthglow: @truthtotweet @kavn @BernieSanders @SavageJoyMarie1 @sabrina68 @Prog_Blacksmith @philosophrob @PatTheBerner @Uphill_Laura Th…\n",
      "sethfis_ Tweeted: @JamesSemaj1220 @SpitzPitts25 @PolReader @tangentsafari @Jimmyspolitics @PeteButtigieg @BernieSanders The other per… https://t.co/zj69Q2kopa\n",
      "VMvo19492 Tweeted: RT @BernieSanders: Don't let anyone tell you that our vision is radical or extreme. Radical and extreme is giving a trillion dollars in tax…\n",
      "ANTIFA_lawyer Tweeted: RT @BernieSanders: Don't believe anyone who tells you that moving toward a society of justice is impossible.\n",
      "RocinanteLost Tweeted: RT @BernieSanders: Thank you Detroit and Rep. @RashidaTlaib! Our message to the top 1% and powerful corporations: this nation belongs to al…\n",
      "PaulRRochford Tweeted: RT @BernieSanders: Don't believe anyone who tells you that moving toward a society of justice is impossible.\n",
      "soonerfan1990 Tweeted: RT @ltlgcoach: Probably the only thing I will ever agree with the communist ⁦@BernieSanders⁩  on. Follow commands from police and live to s…\n",
      "eljoshinho Tweeted: RT @BernieSanders: It is time to begin thinking about public ownership of major utilities.\n",
      "LizMednick Tweeted: RT @People4Bernie: @BernieSanders @RashidaTlaib We have 99 days to win Iowa for the 99%. Let's do this: https://t.co/WPoDNbPcbk https://t.c…\n",
      "tyondaiJacobsen Tweeted: RT @People4Bernie: Here's Jack White playing Seven Nation Army at a @RashidaTlaib and @BernieSanders rally. https://t.co/T0ehdcHdjt\n",
      "CredoAnalog Tweeted: RT @BernieSanders: I have walked more picket lines in my life than all of my opponents combined. That's what I do.\n",
      "JamesPindell Tweeted: RT @BoKnowsNews: WATCH: @JoeBiden explains for 1st time why he dropped his discouragement of super PACs &amp; responds to critics like @BernieS…\n",
      "usmousie Tweeted: RT @BernieSanders: Tonight, we celebrate John Conyers. He was a champion for civil rights and understood long before it was popular that he…\n",
      "bern_identity Tweeted: RT @BernieSanders: Thank you Detroit and Rep. @RashidaTlaib! Our message to the top 1% and powerful corporations: this nation belongs to al…\n",
      "DeadmansClouds Tweeted: RT @whycherrywhy: Hey @BernieSanders - be sure to have @RashidaTlaib explain to you how smokers don't deserve harm reduction, and wealthy 1…\n",
      "EricYeezyE Tweeted: RT @billboard: Jack White said he'd \"never done a political rally before\" as he supported @BernieSanders' presidential campaign with a live…\n",
      "nick_nrm Tweeted: RT @Sandernista412: Dude.  @BernieSanders could literally cure cancer and the Centrists would still be like “fuck him he’s not a Democrat”\n",
      "Perseve57180193 Tweeted: @BernerBob @ThomB01 @BernieSanders This is bullshit. Nice try though.\n",
      "DeJaResidue Tweeted: RT @BNeidhardt: 1,300+ strong in Iowa City tonight with @BernieSanders and @swalker06 https://t.co/NpqQspPx3R\n",
      "debaser86 Tweeted: RT @AaronDTreyfive: @BernieSanders Ours is not a radical agenda, ours is an agenda that represents what the American people want. That’s wh…\n",
      "evehnyc_eve Tweeted: RT @People4Bernie: \"We deserve SOMEONE WHO WRITES THE DAMN BILLS, we deserve @BernieSanders!\" @RashidaTlaib makes it official and endorses…\n",
      "Blackmare00 Tweeted: RT @BernieSanders: Thank you Detroit and Rep. @RashidaTlaib! Our message to the top 1% and powerful corporations: this nation belongs to al…\n",
      "cemaukonen Tweeted: RT @detroitnews: “We deserve someone who writes the damn bill. We deserve Bernie Sanders,” U.S. Rep. @RashidaTlaib said while giving her en…\n",
      "dgjewel Tweeted: RT @BernieSanders: \"I am endorsing Amo Bernie Sanders because he's not gonna sell us out. He understands that it's not just about policies…\n",
      "LazyComrade Tweeted: RT @BernieSanders: Don't let anyone tell you that our vision is radical or extreme. Radical and extreme is giving a trillion dollars in tax…\n",
      "ltlgcoach Tweeted: RT @kobos_g: @ltlgcoach @eatkinson48 @BernieSanders Well fuck it works for me and I encounter the police allot.\n",
      "\n",
      "They know.. @TorontoPolice…\n",
      "ShaktiLila Tweeted: RT @AnnieGrayerCNN: .⁦@BernieSanders⁩ and ⁦@RashidaTlaib⁩ just finished touring Brightmoor Connection food pantry in Detroit. The pair have…\n",
      "jsusselman Tweeted: .@BernieSanders  (now in Detroit): \"And it's not just the Republican Establishment we gotta take on... it's the Dem… https://t.co/eh2qCvzwqG\n",
      "Keptopolarbear Tweeted: @Fzzyalien @420sXe @djamesalicious @leslieleeiii @joshtpm @NJPrince21 @BernieSanders Its not RESPECT in the way tha… https://t.co/JFTTbfOrTd\n",
      "mjr1114 Tweeted: @sarcasminAZ @BernieSanders No, he wasn’t.  He attended the March In Washington.  He did NOT march.  Big difference.\n",
      "mcdpeach Tweeted: @BernieSanders @BernieSanders - I'm one  of millions of monthly sustaining donors who is giving what I can. Could y… https://t.co/tWJYTavIaD\n",
      "FaithtrustP Tweeted: RT @BernieSanders: \"I am endorsing Amo Bernie Sanders because he's not gonna sell us out. He understands that it's not just about policies…\n",
      "ReVoltAgeFilms Tweeted: RT @People4Bernie: \"We deserve SOMEONE WHO WRITES THE DAMN BILLS, we deserve @BernieSanders!\" @RashidaTlaib makes it official and endorses…\n",
      "WibJest Tweeted: @BidenAmerica @michaelsayman @BernForBernie20 @BernieSanders Yep. Bring the damn hammer down. I've been waiting.\n",
      "DeJaResidue Tweeted: RT @BernieSanders: Tomorrow: we will be in Detroit with @RashidaTlaib for a rally featuring live performances by Jack White and the Cass Te…\n",
      "GiovannaLiviana Tweeted: RT @BernieSanders: The primary goal of a criminal justice system should not be punishment, but whenever possible, rehabilitation.\n",
      "1XLand2XSea Tweeted: @BernieSanders @IlhanMN @RashidaTlaib More likely the three of you are flying the ISIS flag along with your friends… https://t.co/AsldlVPHY6\n",
      "Noodoggy Tweeted: RT @AnnieGrayerCNN: .@RashidaTlaib when introducing @BernieSanders in her home district in Detroit: “we deserve someone who writes the damn…\n",
      "Javan14729 Tweeted: RT @BernieSanders: I have walked more picket lines in my life than all of my opponents combined. That's what I do.\n",
      "roncoronileo Tweeted: RT @BernieSanders: Don't believe anyone who tells you that moving toward a society of justice is impossible.\n",
      "yusufneedsarest Tweeted: RT @yusufneedsarest: @BernieSanders @Omniseed This man fought for us before most of us knew his name\n",
      "\n",
      "The personal opportunities afforded t…\n",
      "beam_alicia Tweeted: RT @detroitnews: “We deserve someone who writes the damn bill. We deserve Bernie Sanders,” U.S. Rep. @RashidaTlaib said while giving her en…\n",
      "Elantara Tweeted: RT @BernieSanders: Don't believe anyone who tells you that moving toward a society of justice is impossible.\n",
      "ltlgcoach Tweeted: RT @moebooth: @ltlgcoach @ddwiese @BernieSanders Probably good advice to all people, respect goes a long way...\n",
      "BLOGdoPEPE Tweeted: RT @BernieSanders: Don't believe anyone who tells you that moving toward a society of justice is impossible.\n",
      "1rarebird61 Tweeted: @PhilthyPhart @Scrooched21 @KyleLovesBernie @BernieSanders He’s been in office and done nothing. Klobachur has done… https://t.co/R9kcv7ZfFT\n",
      "arimareiji Tweeted: @WibJest @KenMastersUSA @pppatticake @ally_challenge @EclecticRadical @scarlettrabe @NJPrince21 @BernieSanders Not… https://t.co/2NWUaj5nHe\n",
      "010_10_101 Tweeted: RT @ziadtheactivist: As a young Bangladeshi-American-Muslim, the most moving part of this @BernieSanders rally for me is the Bangladeshi gr…\n",
      "808constituent Tweeted: @philosophrob @magnoliamartha @BernieSanders Both Bernie and Tulsi have not voted for all four of Trump's National… https://t.co/xXB7wjCNkq\n",
      "Cromart27339780 Tweeted: RT @BernieSanders: Don't let anyone tell you that our vision is radical or extreme. Radical and extreme is giving a trillion dollars in tax…\n",
      "truthtotweet Tweeted: RT @truthglow: @truthtotweet @kavn @BernieSanders @SavageJoyMarie1 @sabrina68 @Prog_Blacksmith @philosophrob @PatTheBerner @Uphill_Laura Th…\n",
      "FerGLlovet Tweeted: RT @josebenegas: @BernieSanders ¿Something like this? https://t.co/9utWxmC6QM\n",
      "the610spot Tweeted: RT @BernieSanders: \"I am endorsing Amo Bernie Sanders because he's not gonna sell us out. He understands that it's not just about policies…\n",
      "DKennedy1822 Tweeted: @BernieSanders Is this honestly what your talking about today? Our Commander and Chief and the Special Ops military… https://t.co/48zqvl2WFF\n",
      "antropomemoria Tweeted: RT @BernieSanders: Don't let anyone tell you that our vision is radical or extreme. Radical and extreme is giving a trillion dollars in tax…\n",
      "JokerReview Tweeted: RT @BernieSanders: Don't let anyone tell you that our vision is radical or extreme. Radical and extreme is giving a trillion dollars in tax…\n",
      "ShaktiLila Tweeted: RT @AnnieGrayerCNN: The @BernieSanders campaign has gotten in the habit of setting score boards to the date of that state’s primary in 2020…\n",
      "starkan81217 Tweeted: RT @detroitnews: “We deserve someone who writes the damn bill. We deserve Bernie Sanders,” U.S. Rep. @RashidaTlaib said while giving her en…\n",
      "bzgondal Tweeted: RT @BernieSanders: Don't believe anyone who tells you that moving toward a society of justice is impossible.\n",
      "philosophrob Tweeted: Imagine having the audacity to incorrectly accuse @BernieSanders of lying. https://t.co/t1nokY9MAe\n",
      "Corinne4Hillary Tweeted: Before I vote for @BernieSanders , I commit suicide. Bernie is dead to me. #NeverSanders https://t.co/cfcPFML8Di\n",
      "LouLouKing8 Tweeted: @BernieSanders @RashidaTlaib So like...who are you all going to work for!?\n",
      "jbrown0210 Tweeted: RT @BernieSanders: \"I am endorsing Amo Bernie Sanders because he's not gonna sell us out. He understands that it's not just about policies…\n",
      "432hzFreq Tweeted: @EclecticRadical @DinahBernista @FatrickBateman @BernieSanders Cuba's system is super oppressive; they had to ask O… https://t.co/Sd3FFCNhQ0\n",
      "lem0ndust Tweeted: RT @NadeemGibran: Amy Goodman's analysis on America's machiavellian media empire is scathingly accurate. Goodman of @democracynow also refe…\n",
      "gringo_gregorio Tweeted: RT @BernieSanders: Don't let anyone tell you that our vision is radical or extreme. Radical and extreme is giving a trillion dollars in tax…\n",
      "GrassrootsJill Tweeted: RT @People4Bernie: \"$1 billion is not enough for them, they need $2 billion, $2 billion is not enough for them, they need $10 billion, and…\n",
      "gauntphilosophy Tweeted: RT @BernieSanders: We are the only campaign with more donations than Trump and that is exactly why we are going to defeat him and transform…\n",
      "Larryz_World Tweeted: RT @detroitnews: “We deserve someone who writes the damn bill. We deserve Bernie Sanders,” U.S. Rep. @RashidaTlaib said while giving her en…\n",
      "LizMednick Tweeted: RT @People4Bernie: @BernieSanders @RashidaTlaib \"I want to say thank you to Rashida not only for her support, but for all that she is doing…\n",
      "anarchaicnation Tweeted: RT @BernieSanders: I have walked more picket lines in my life than all of my opponents combined. That's what I do.\n",
      "Dhishal_ Tweeted: RT @BernieSanders: Today marks one year since the massacre at the Tree of Life synagogue, the deadliest anti-Semitic attack in U.S. history…\n",
      "SpatzercatWendy Tweeted: RT @BernieSanders: Our hearts go out to Californians affected by the devastating wildfires. Climate change is real, and when I am president…\n",
      "Aman12300021 Tweeted: RT @BernieSanders: Don't believe anyone who tells you that moving toward a society of justice is impossible.\n",
      "mviser Tweeted: RT @BoKnowsNews: WATCH: @JoeBiden explains for 1st time why he dropped his discouragement of super PACs &amp; responds to critics like @BernieS…\n",
      "DeJaResidue Tweeted: RT @BernieSanders: We are the only campaign with more donations than Trump and that is exactly why we are going to defeat him and transform…\n",
      "AmazingBernie Tweeted: RT @AnnieGrayerCNN: The @BernieSanders campaign has gotten in the habit of setting score boards to the date of that state’s primary in 2020…\n",
      "lmaganamus Tweeted: RT @anthonyvclark20: Funny that some people think I should be mad at  @BernieSanders for saying what my Black grandpop &amp; father would alway…\n",
      "msmorganlindsey Tweeted: RT @BernieSanders: Don't believe anyone who tells you that moving toward a society of justice is impossible.\n",
      "poloah Tweeted: RT @BernieSanders: Don't believe anyone who tells you that moving toward a society of justice is impossible.\n",
      "ShaktiLila Tweeted: RT @AnnieGrayerCNN: .@RashidaTlaib when introducing @BernieSanders in her home district in Detroit: “we deserve someone who writes the damn…\n",
      "beneficii Tweeted: RT @TheYoungTurks: “Alright, alright, he’s an idiot,” @BernieSanders says about @realDonaldTrump during #BernieInMI rally where 4,737 peopl…\n",
      "starkan81217 Tweeted: RT @BernieSanders: The primary goal of a criminal justice system should not be punishment, but whenever possible, rehabilitation.\n",
      "EAmatium Tweeted: RT @BernieSanders: \"I am endorsing Amo Bernie Sanders because he's not gonna sell us out. He understands that it's not just about policies…\n",
      "peter_aldrich Tweeted: RT @BernieSanders: Don't let anyone tell you that our vision is radical or extreme. Radical and extreme is giving a trillion dollars in tax…\n",
      "NathanielKFoley Tweeted: RT @philosophrob: \"I am proud to tell you I am the only candidate running for president who has voted against all of Trump's military budge…\n",
      "TheRealApostleP Tweeted: RT @michaelsayman: Just now, @BernieSanders draws a contrast with Warren in Detroit saying, \"I am the only candidate running who voted agai…\n",
      "DeJaResidue Tweeted: RT @BernieSanders: With only 100 days left until the Iowa caucuses, one of the most important things you can do is make calls to voters. He…\n",
      "chismosa2212 Tweeted: RT @bern_identity: There it is. @BernieSanders is the ONLY Dem running for POTUS that has voted NO all three times on raising Trump's milit…\n",
      "truthtotweet Tweeted: @truthglow @kavn @BernieSanders @SavageJoyMarie1 @sabrina68 @Prog_Blacksmith @philosophrob @PatTheBerner… https://t.co/iFiD3RYvhh\n",
      "juliannedreams Tweeted: RT @detroitnews: “We deserve someone who writes the damn bill. We deserve Bernie Sanders,” U.S. Rep. @RashidaTlaib said while giving her en…\n"
     ]
    }
   ],
   "source": [
    "# Creating the API object while passing in auth information\n",
    "api = tweepy.API(auth)\n",
    "\n",
    "# The search term you want to find\n",
    "query = \"@BernieSanders\"\n",
    "# Language code (follows ISO 639-1 standards)\n",
    "language = \"en\"\n",
    "\n",
    "# Calling the user_timeline function with our parameters\n",
    "results = api.search(q=query, lang=language, count=100)\n",
    "\n",
    "# foreach through all tweets pulled\n",
    "for tweet in results:\n",
    "   # printing the text stored inside the tweet object\n",
    "   print(tweet.user.screen_name,\"Tweeted:\",tweet.text)"
   ]
  },
  {
   "cell_type": "code",
   "execution_count": null,
   "metadata": {},
   "outputs": [],
   "source": []
  },
  {
   "cell_type": "code",
   "execution_count": null,
   "metadata": {},
   "outputs": [],
   "source": []
  }
 ],
 "metadata": {
  "kernelspec": {
   "display_name": "Python 3",
   "language": "python",
   "name": "python3"
  },
  "language_info": {
   "codemirror_mode": {
    "name": "ipython",
    "version": 3
   },
   "file_extension": ".py",
   "mimetype": "text/x-python",
   "name": "python",
   "nbconvert_exporter": "python",
   "pygments_lexer": "ipython3",
   "version": "3.7.5"
  }
 },
 "nbformat": 4,
 "nbformat_minor": 2
}
