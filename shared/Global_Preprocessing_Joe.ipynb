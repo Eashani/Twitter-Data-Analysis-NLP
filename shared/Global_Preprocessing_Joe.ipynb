{
 "cells": [
  {
   "cell_type": "code",
   "execution_count": 1,
   "metadata": {},
   "outputs": [],
   "source": [
    "import emoji\n",
    "import os\n",
    "import pandas as pd\n",
    "import re\n"
   ]
  },
  {
   "cell_type": "code",
   "execution_count": 2,
   "metadata": {
    "scrolled": true
   },
   "outputs": [],
   "source": [
    "def correct_ampersands(match):\n",
    "    _str = match.group(0)\n",
    "    splitted = re.split('&', _str, flags=re.IGNORECASE)\n",
    "    if all([str.isupper(i) for i in splitted]):\n",
    "        return _str\n",
    "    else:\n",
    "        return ' & '.join(splitted)\n",
    "\n",
    "        \n",
    "def correct_slashsplitted(match):\n",
    "    _str = match.group(0)\n",
    "    return ' '.join(' '.join(_str.split('/')).split('\\\\'))\n",
    "\n",
    "        \n",
    "    \n",
    "def remove_links(phrase):\n",
    "    \n",
    "    phrase = re.sub(\"\\S*(t\\.co|http)\\S*\", \"\", phrase, flags=re.IGNORECASE)\n",
    "    \n",
    "    return phrase\n",
    "\n",
    "def global_processing(df):\n",
    "    '''\n",
    "    Global preprocessing/data munging\n",
    "    '''\n",
    "    \n",
    "    \n",
    "    df['full_text'] = df['full_text'].apply(lambda x:re.sub(\"\\’\", \"\\'\", x, flags=re.IGNORECASE))\n",
    "    df['full_text'] = df['full_text'].apply(lambda x:re.sub(\"\\”\", \"\\\"\", x, flags=re.IGNORECASE))\n",
    "    df['full_text'] = df['full_text'].apply(lambda x:re.sub(\"\\“\", \"\\\"\", x, flags=re.IGNORECASE))\n",
    "    \n",
    "    \n",
    "    df['full_text'] = df['full_text'].apply(lambda x:re.sub('&amp;*', '&', x, flags=re.IGNORECASE), )\n",
    "    df['full_text'] = df['full_text'].apply(lambda x:re.sub('&gt;*', '>', x,flags=re.IGNORECASE), )\n",
    "    df['full_text'] = df['full_text'].apply(lambda x:re.sub('&lt;*', '<', x, flags=re.IGNORECASE), )\n",
    "    df['full_text'] = df['full_text'].apply(lambda x:re.sub('\\S*&\\S+', correct_ampersands, x, flags=re.IGNORECASE), )\n",
    "    \n",
    "    df['full_text'] = df['full_text'].apply(lambda x:emoji.get_emoji_regexp().sub('', x), )\n",
    "    \n",
    "    df['full_text'] = df['full_text'].apply(remove_links)\n",
    "    \n",
    "    max_num_mentions = 4\n",
    "    spammy_indices_mentions = df['full_text'].apply(lambda x:re.search(\"(\\@.*){%d,}\"%(max_num_mentions+1), x, flags = re.IGNORECASE)).dropna().index\n",
    "    print(len(spammy_indices_mentions))\n",
    "    df = df.iloc[[i for i in df.index if i not in spammy_indices_mentions]]\n",
    "    df = df.reset_index(drop=True)\n",
    "    \n",
    "    max_hashtags = 4\n",
    "    spammy_indices_hashtags = df['full_text'].apply(lambda x:re.search(\"(\\#\\w+\\s){%d,}\"%(max_hashtags+1), x)).dropna().apply(lambda x:x.group(0)).index\n",
    "    print(len(spammy_indices_hashtags))\n",
    "    df = df.iloc[[i for i in df.index if i not in spammy_indices_hashtags]]\n",
    "    \n",
    "    \n",
    "    df = df.reset_index(drop=True)\n",
    "    \n",
    "\n",
    "    return df"
   ]
  },
  {
   "cell_type": "markdown",
   "metadata": {},
   "source": [
    "# Get Data"
   ]
  },
  {
   "cell_type": "code",
   "execution_count": 3,
   "metadata": {},
   "outputs": [
    {
     "data": {
      "text/plain": [
       "id_str        22619\n",
       "created_at    18221\n",
       "full_text     23614\n",
       "dtype: int64"
      ]
     },
     "metadata": {},
     "output_type": "display_data"
    },
    {
     "data": {
      "text/plain": [
       "(id_str         int64\n",
       " created_at    object\n",
       " full_text     object\n",
       " dtype: object, (25895, 3))"
      ]
     },
     "execution_count": 3,
     "metadata": {},
     "output_type": "execute_result"
    }
   ],
   "source": [
    "df = pd.read_csv(\"final_dataset_Joe.csv\")\n",
    "display(df.nunique())\n",
    "df.dtypes, df.shape"
   ]
  },
  {
   "cell_type": "code",
   "execution_count": 4,
   "metadata": {},
   "outputs": [
    {
     "data": {
      "text/plain": [
       "(22619, 3)"
      ]
     },
     "execution_count": 4,
     "metadata": {},
     "output_type": "execute_result"
    }
   ],
   "source": [
    "df = df.drop_duplicates(subset=['id_str']).reset_index(drop=True)\n",
    "df.shape"
   ]
  },
  {
   "cell_type": "code",
   "execution_count": 5,
   "metadata": {},
   "outputs": [
    {
     "name": "stdout",
     "output_type": "stream",
     "text": [
      "3486\n",
      "43\n"
     ]
    }
   ],
   "source": [
    "df = global_processing(df)\n"
   ]
  },
  {
   "cell_type": "code",
   "execution_count": 6,
   "metadata": {},
   "outputs": [
    {
     "data": {
      "text/plain": [
       "(19090, 3)"
      ]
     },
     "execution_count": 6,
     "metadata": {},
     "output_type": "execute_result"
    }
   ],
   "source": [
    "df.shape"
   ]
  },
  {
   "cell_type": "code",
   "execution_count": null,
   "metadata": {},
   "outputs": [],
   "source": []
  },
  {
   "cell_type": "markdown",
   "metadata": {},
   "source": [
    "# Decontracting"
   ]
  },
  {
   "cell_type": "code",
   "execution_count": 7,
   "metadata": {},
   "outputs": [
    {
     "data": {
      "text/plain": [
       "I'm       508\n",
       "don't     507\n",
       "That's    341\n",
       "It's      302\n",
       "it's      294\n",
       "can't     284\n",
       "you're    262\n",
       "He's      252\n",
       "You're    244\n",
       "he's      238\n",
       "Name: full_text, dtype: int64"
      ]
     },
     "execution_count": 7,
     "metadata": {},
     "output_type": "execute_result"
    }
   ],
   "source": [
    "df['full_text'].apply(lambda x:re.search(\"[a-zA-Z]{1,7}[\\'|\\\"][a-zA-Z]{1,3}\", x)).dropna().apply(lambda x:x.group(0)).value_counts()[:10]"
   ]
  },
  {
   "cell_type": "code",
   "execution_count": 8,
   "metadata": {},
   "outputs": [],
   "source": [
    "def decontract(phrase):\n",
    "    \n",
    "    # specific\n",
    "    phrase = re.sub(r\"can\\'t\", \"can not\", phrase, flags=re.IGNORECASE)\n",
    "    phrase = re.sub(r\"won\\'t\", \"will not\", phrase, flags=re.IGNORECASE)\n",
    "    phrase = re.sub(r\"let\\'s\", \"let us\", phrase, flags=re.IGNORECASE)\n",
    "    phrase = re.sub(r\"let\\'s\", \"let us\", phrase, flags=re.IGNORECASE)\n",
    "    phrase = re.sub(r\"y\\'all\", \"you all\", phrase, flags=re.IGNORECASE)\n",
    "    \n",
    "\n",
    "    # general\n",
    "    phrase = re.sub(r\"n\\'t\", \" not\", phrase, flags=re.IGNORECASE) #notice the spaces\n",
    "    phrase = re.sub(r\"\\'re\", \" are\", phrase, flags=re.IGNORECASE)\n",
    "    phrase = re.sub(r\"\\'s\", \" is\", phrase, flags=re.IGNORECASE)\n",
    "    phrase = re.sub(r\"\\'d\", \" would\", phrase, flags=re.IGNORECASE)\n",
    "    phrase = re.sub(r\"\\'ll\", \" will\", phrase, flags=re.IGNORECASE)\n",
    "    phrase = re.sub(r\"\\'t\", \" not\", phrase, flags=re.IGNORECASE)\n",
    "    phrase = re.sub(r\"\\'ve\", \" have\", phrase, flags=re.IGNORECASE)\n",
    "    phrase = re.sub(r\"\\'m\", \" am\", phrase, flags=re.IGNORECASE)\n",
    "    return phrase"
   ]
  },
  {
   "cell_type": "code",
   "execution_count": null,
   "metadata": {},
   "outputs": [],
   "source": []
  },
  {
   "cell_type": "code",
   "execution_count": 9,
   "metadata": {},
   "outputs": [],
   "source": [
    "df['full_text'] = df['full_text'].apply(decontract)"
   ]
  },
  {
   "cell_type": "code",
   "execution_count": 10,
   "metadata": {},
   "outputs": [
    {
     "data": {
      "text/plain": [
       "ma'am        3\n",
       "f'n          2\n",
       "get'em       2\n",
       "O'Bid        2\n",
       "if\"thi       1\n",
       "Smok'n       1\n",
       "Jolt'n       1\n",
       "troops\"he    1\n",
       "Keep'em      1\n",
       "ne'er        1\n",
       "Name: full_text, dtype: int64"
      ]
     },
     "execution_count": 10,
     "metadata": {},
     "output_type": "execute_result"
    }
   ],
   "source": [
    "df['full_text'].apply(lambda x:re.search(\"[a-zA-Z]{1,7}[\\'|\\\"][a-zA-Z]{1,3}\", x)).dropna().apply(lambda x:x.group(0)).value_counts()[:10]"
   ]
  },
  {
   "cell_type": "code",
   "execution_count": null,
   "metadata": {},
   "outputs": [],
   "source": []
  },
  {
   "cell_type": "markdown",
   "metadata": {},
   "source": [
    "# Tags"
   ]
  },
  {
   "cell_type": "code",
   "execution_count": 11,
   "metadata": {},
   "outputs": [
    {
     "data": {
      "text/plain": [
       "@JoeBiden           8841\n",
       "@RealCandaceO       1782\n",
       "@Jali_Cat            212\n",
       "@petluvers4Trump     193\n",
       "@natashakorecki      189\n",
       "                    ... \n",
       "@CrowleyAntmarga       1\n",
       "@bigchaz               1\n",
       "@TinaLNeal             1\n",
       "@rachelbruno           1\n",
       "@beinlibertarian       1\n",
       "Name: full_text, Length: 3061, dtype: int64"
      ]
     },
     "execution_count": 11,
     "metadata": {},
     "output_type": "execute_result"
    }
   ],
   "source": [
    "df['full_text'].apply(lambda x:re.search(\"\\@\\w+\", x, flags=re.IGNORECASE)).dropna().apply(lambda x:x.group(0)).value_counts()"
   ]
  },
  {
   "cell_type": "code",
   "execution_count": 12,
   "metadata": {},
   "outputs": [
    {
     "data": {
      "text/plain": [
       "@JoeBiden           8841\n",
       "@RealCandaceO       1782\n",
       "@Jali_Cat            212\n",
       "@petluvers4Trump     193\n",
       "@natashakorecki      189\n",
       "                    ... \n",
       "@CrowleyAntmarga       1\n",
       "@bigchaz               1\n",
       "@TinaLNeal             1\n",
       "@rachelbruno           1\n",
       "@beinlibertarian       1\n",
       "Name: full_text, Length: 3061, dtype: int64"
      ]
     },
     "execution_count": 12,
     "metadata": {},
     "output_type": "execute_result"
    }
   ],
   "source": [
    "df['full_text'].apply(lambda x:re.search(\"\\@\\w+\", x)).dropna().apply(lambda x:x.group(0)).str.strip().value_counts()"
   ]
  },
  {
   "cell_type": "code",
   "execution_count": 13,
   "metadata": {},
   "outputs": [],
   "source": [
    "def remove_tags(phrase):\n",
    "    \n",
    "    phrase = re.sub(\"\\@[J|e]oe[B|b]iden\", \"\", phrase)\n",
    "    \n",
    "    return phrase"
   ]
  },
  {
   "cell_type": "code",
   "execution_count": 14,
   "metadata": {},
   "outputs": [],
   "source": [
    "df['full_text'] = df['full_text'].apply(remove_tags)"
   ]
  },
  {
   "cell_type": "code",
   "execution_count": 15,
   "metadata": {},
   "outputs": [
    {
     "data": {
      "text/plain": [
       "@RealCandaceO       1783\n",
       "@realDonaldTrump     362\n",
       "@NRA                 240\n",
       "@Jali_Cat            212\n",
       "@petluvers4Trump     193\n",
       "                    ... \n",
       "@Cy_Lanced             1\n",
       "@mikemcdonnell         1\n",
       "@kennethlang           1\n",
       "@sumskrwdemo           1\n",
       "@KevinJWatt1           1\n",
       "Name: full_text, Length: 3252, dtype: int64"
      ]
     },
     "execution_count": 15,
     "metadata": {},
     "output_type": "execute_result"
    }
   ],
   "source": [
    "df['full_text'].apply(lambda x:re.search(\"\\@\\w+\", x)).dropna().apply(lambda x:x.group(0)).str.strip().value_counts()"
   ]
  },
  {
   "cell_type": "code",
   "execution_count": 16,
   "metadata": {},
   "outputs": [
    {
     "data": {
      "text/plain": [
       "(19090, 3)"
      ]
     },
     "execution_count": 16,
     "metadata": {},
     "output_type": "execute_result"
    }
   ],
   "source": [
    "df.shape"
   ]
  },
  {
   "cell_type": "markdown",
   "metadata": {},
   "source": [
    "# Hashtags"
   ]
  },
  {
   "cell_type": "code",
   "execution_count": 18,
   "metadata": {},
   "outputs": [
    {
     "data": {
      "text/plain": [
       "#Trump2020             94\n",
       "#NoMalarkey            75\n",
       "#Biden2020             56\n",
       "#HunterBiden           47\n",
       "#MAGA                  41\n",
       "#QuidProJoe            32\n",
       "#Bernie2020            25\n",
       "#CreepyJoeBiden        24\n",
       "#QuidProQuoJoe         22\n",
       "#SleepyJoe             16\n",
       "#                      16\n",
       "#KAG2020               15\n",
       "#Ukraine               15\n",
       "#JoeBiden              14\n",
       "#Trump2020Landslide    14\n",
       "#TeamJoe               14\n",
       "#CreepyJoe             13\n",
       "#KAG                   13\n",
       "#Democrats             12\n",
       "#1                     12\n",
       "Name: full_text, dtype: int64"
      ]
     },
     "execution_count": 18,
     "metadata": {},
     "output_type": "execute_result"
    }
   ],
   "source": [
    "df['full_text'].apply(lambda x:re.search(\"\\#\\w*([J|j]oe|[B|b]iden){0,1}\\w*\", x, re.IGNORECASE)).dropna().apply(lambda x:x.group(0)).value_counts()[:20]"
   ]
  },
  {
   "cell_type": "code",
   "execution_count": 19,
   "metadata": {},
   "outputs": [],
   "source": [
    "def remove_hashtags(phrase):\n",
    "\n",
    "    for i in ['#[B|b]iden2020', '#[J|j]oeBiden', \"#[T|t]eamJoe\", \"#[J|j]oe\", \"#[B|b]iden\"]:\n",
    "        phrase = re.sub(i, \"\", phrase)\n",
    "    \n",
    "    return phrase"
   ]
  },
  {
   "cell_type": "code",
   "execution_count": 20,
   "metadata": {},
   "outputs": [],
   "source": [
    "df['full_text'] = df['full_text'].apply(remove_hashtags)"
   ]
  },
  {
   "cell_type": "code",
   "execution_count": 21,
   "metadata": {},
   "outputs": [
    {
     "data": {
      "text/plain": [
       "#Trump2020                    95\n",
       "#NoMalarkey                   80\n",
       "#HunterBiden                  48\n",
       "#MAGA                         41\n",
       "#QuidProJoe                   32\n",
       "#Bernie2020                   25\n",
       "#CreepyJoeBiden               24\n",
       "#QuidProQuoJoe                22\n",
       "#Ukraine                      18\n",
       "#KAG2020                      16\n",
       "#SleepyJoe                    16\n",
       "#                             16\n",
       "#Trump2020Landslide           14\n",
       "#CreepyJoe                    13\n",
       "#KAG                          13\n",
       "#1                            12\n",
       "#Trump2020LandslideVictory    12\n",
       "#Democrats                    12\n",
       "#malarkey                     12\n",
       "#MAGA2020                     11\n",
       "Name: full_text, dtype: int64"
      ]
     },
     "execution_count": 21,
     "metadata": {},
     "output_type": "execute_result"
    }
   ],
   "source": [
    "df['full_text'].apply(lambda x:re.search(\"\\#\\w*([J|j]oe|[B|b]iden){0,1}\\w*\", x)).dropna().apply(lambda x:x.group(0)).value_counts()[:20]"
   ]
  },
  {
   "cell_type": "code",
   "execution_count": null,
   "metadata": {},
   "outputs": [],
   "source": []
  },
  {
   "cell_type": "markdown",
   "metadata": {},
   "source": [
    "# (Obvious) Mentions"
   ]
  },
  {
   "cell_type": "code",
   "execution_count": 22,
   "metadata": {},
   "outputs": [
    {
     "data": {
      "text/plain": [
       "Joe       1138\n",
       "Biden     1064\n",
       "joe        120\n",
       "JOE         40\n",
       "Bidens      39\n",
       "biden       28\n",
       "Joey        17\n",
       "BIDEN       14\n",
       "Joes         8\n",
       "bidens       3\n",
       "Name: full_text, dtype: int64"
      ]
     },
     "execution_count": 22,
     "metadata": {},
     "output_type": "execute_result"
    }
   ],
   "source": [
    "df['full_text'].apply(lambda x:re.search(\"\\s+\\w*([J|j]oe|[B|b]iden){1,}\\w*\\s+\", x, re.IGNORECASE)).dropna().apply(lambda x:x.group(0)).str.strip().value_counts()[:10]"
   ]
  },
  {
   "cell_type": "code",
   "execution_count": 23,
   "metadata": {},
   "outputs": [],
   "source": [
    "temp = df['full_text'].apply(lambda x:re.search(\"\\s+\\w*([J|j]oe|[B|b]iden){1,}\\w*\\s+\", x)).dropna().apply(lambda x:x.group(0)).value_counts()[:5].index\n",
    "\n",
    "def remove_mentions(phrase):\n",
    "    \n",
    "    for to_replace in temp:\n",
    "        phrase = re.sub(to_replace, \"\", phrase)\n",
    "    \n",
    "    return phrase"
   ]
  },
  {
   "cell_type": "code",
   "execution_count": 24,
   "metadata": {},
   "outputs": [],
   "source": [
    "df['full_text'] = df['full_text'].apply(remove_mentions)"
   ]
  },
  {
   "cell_type": "code",
   "execution_count": 25,
   "metadata": {},
   "outputs": [
    {
     "data": {
      "text/plain": [
       " Joeis              56\n",
       " Bidens             37\n",
       " joe\\n              31\n",
       " biden              24\n",
       " Biden\\n            23\n",
       "                    ..\n",
       "\\nJoeis              1\n",
       " Joeresponsible      1\n",
       " Joetalking          1\n",
       "  Joebragged         1\n",
       " Joemeant            1\n",
       "Name: full_text, Length: 180, dtype: int64"
      ]
     },
     "execution_count": 25,
     "metadata": {},
     "output_type": "execute_result"
    }
   ],
   "source": [
    "df['full_text'].apply(lambda x:re.search(\"\\s+\\w*([J|j]oe|[B|b]iden){1,}\\w*\\s+\", x)).dropna().apply(lambda x:x.group(0)).value_counts()"
   ]
  },
  {
   "cell_type": "code",
   "execution_count": null,
   "metadata": {},
   "outputs": [],
   "source": []
  },
  {
   "cell_type": "code",
   "execution_count": 26,
   "metadata": {},
   "outputs": [],
   "source": [
    "df.to_csv('processed_final_Joe.csv', index=False)"
   ]
  },
  {
   "cell_type": "code",
   "execution_count": null,
   "metadata": {},
   "outputs": [],
   "source": []
  },
  {
   "cell_type": "code",
   "execution_count": null,
   "metadata": {},
   "outputs": [],
   "source": []
  },
  {
   "cell_type": "code",
   "execution_count": null,
   "metadata": {},
   "outputs": [],
   "source": []
  },
  {
   "cell_type": "code",
   "execution_count": null,
   "metadata": {},
   "outputs": [],
   "source": []
  },
  {
   "cell_type": "code",
   "execution_count": null,
   "metadata": {},
   "outputs": [],
   "source": []
  }
 ],
 "metadata": {
  "kernelspec": {
   "display_name": "Python 3",
   "language": "python",
   "name": "python3"
  },
  "language_info": {
   "codemirror_mode": {
    "name": "ipython",
    "version": 3
   },
   "file_extension": ".py",
   "mimetype": "text/x-python",
   "name": "python",
   "nbconvert_exporter": "python",
   "pygments_lexer": "ipython3",
   "version": "3.7.5"
  }
 },
 "nbformat": 4,
 "nbformat_minor": 2
}
