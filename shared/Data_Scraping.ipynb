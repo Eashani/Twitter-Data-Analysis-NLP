{
 "cells": [
  {
   "cell_type": "markdown",
   "metadata": {},
   "source": [
    "In order to use the notebook in this code, you should have a Twitter Developer access setup. There are plently of tutorials on that. Proceed with caution though. Twitter does not allow API access to every account. Also, there is a small application involved where you explain how you plan to use Twitter data accessed with this nonconventional method.\n",
    "\n",
    " **You should define the variables below as environment variables.** Reach out if you need any help."
   ]
  },
  {
   "cell_type": "code",
   "execution_count": 1,
   "metadata": {},
   "outputs": [],
   "source": [
    "import tweepy\n",
    "import os\n",
    "import random\n",
    "import numpy as np\n",
    "import pandas as pd\n",
    "\n",
    "keys_tokens = ['consumer_key', 'consumer_secret', 'access_token', 'access_token_secret']\n",
    "dict_keys_tokens = {i:os.getenv(i, None) for i in keys_tokens}"
   ]
  },
  {
   "cell_type": "code",
   "execution_count": 2,
   "metadata": {},
   "outputs": [],
   "source": [
    "# Creating the authentication object\n",
    "auth = tweepy.OAuthHandler(dict_keys_tokens['consumer_key'], dict_keys_tokens['consumer_secret'])\n",
    "# Setting your access token and secret\n",
    "auth.set_access_token(dict_keys_tokens['access_token'], dict_keys_tokens['access_token_secret'])\n",
    "# Creating the API object while passing in auth information\n",
    "api = tweepy.API(auth, wait_on_rate_limit=True, wait_on_rate_limit_notify=True) "
   ]
  },
  {
   "cell_type": "code",
   "execution_count": 3,
   "metadata": {},
   "outputs": [
    {
     "data": {
      "text/plain": [
       "1"
      ]
     },
     "execution_count": 3,
     "metadata": {},
     "output_type": "execute_result"
    }
   ],
   "source": [
    "import random\n",
    "random.randint(1, 3)"
   ]
  },
  {
   "cell_type": "markdown",
   "metadata": {},
   "source": [
    "## A Basic Example Demonstrating Tweepy usage"
   ]
  },
  {
   "cell_type": "code",
   "execution_count": null,
   "metadata": {
    "scrolled": true
   },
   "outputs": [
    {
     "name": "stderr",
     "output_type": "stream",
     "text": [
      "Rate limit reached. Sleeping for: 748\n",
      "Rate limit reached. Sleeping for: 751\n",
      "Rate limit reached. Sleeping for: 760\n",
      "Rate limit reached. Sleeping for: 720\n",
      "Rate limit reached. Sleeping for: 752\n",
      "Rate limit reached. Sleeping for: 758\n",
      "Rate limit reached. Sleeping for: 754\n"
     ]
    }
   ],
   "source": [
    "dict_name_handle = dict(Joe=\"@JoeBiden\",Elizabeth=\"@ewarren\")\n",
    "\n",
    "while True:\n",
    "    for name, handle in dict_name_handle.items():\n",
    "        query =\"{} -filter:retweets\".format(handle)\n",
    "        three_way_coin_toss = random.randint(1, 3)\n",
    "        if three_way_coin_toss == 1:\n",
    "            r_type = 'mixed'\n",
    "        elif three_way_coin_toss == 2:\n",
    "            r_type = 'recent'\n",
    "        else:\n",
    "            r_type = 'popular'\n",
    "        cur = tweepy.Cursor(api.search, q=query, lang = 'en', tweet_mode='extended', result_type=r_type)\n",
    "        cur_items = cur.items(3200)\n",
    "        with open('{}.txt'.format(name), mode='a') as fHandle:\n",
    "            for tweet_info in cur_items:\n",
    "                list_tweet_info  = [tweet_info.retweet_count, tweet_info.author.screen_name, tweet_info.author.followers_count, tweet_info.author.friends_count, tweet_info.created_at, tweet_info.id_str, tweet_info.full_text]\n",
    "                str_tweet_info = [str(i).replace('\\n', 'backslashN') if not isinstance(i, str) else i.replace('\\n', 'backslashN') for i in list_tweet_info]\n",
    "                to_write_line = \"::::\".join(str_tweet_info)+'\\n'\n",
    "                fHandle.write(to_write_line, )\n"
   ]
  },
  {
   "cell_type": "code",
   "execution_count": null,
   "metadata": {},
   "outputs": [],
   "source": []
  }
 ],
 "metadata": {
  "kernelspec": {
   "display_name": "Python 3",
   "language": "python",
   "name": "python3"
  },
  "language_info": {
   "codemirror_mode": {
    "name": "ipython",
    "version": 3
   },
   "file_extension": ".py",
   "mimetype": "text/x-python",
   "name": "python",
   "nbconvert_exporter": "python",
   "pygments_lexer": "ipython3",
   "version": "3.7.5"
  }
 },
 "nbformat": 4,
 "nbformat_minor": 2
}
