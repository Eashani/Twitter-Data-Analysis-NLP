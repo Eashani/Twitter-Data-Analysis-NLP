{
 "cells": [
  {
   "cell_type": "code",
   "execution_count": 1,
   "metadata": {},
   "outputs": [],
   "source": [
    "import emoji\n",
    "import os\n",
    "import pandas as pd\n",
    "import re\n"
   ]
  },
  {
   "cell_type": "code",
   "execution_count": 2,
   "metadata": {
    "scrolled": true
   },
   "outputs": [],
   "source": [
    "def correct_ampersands(match):\n",
    "    _str = match.group(0)\n",
    "    splitted = re.split('&', _str, flags=re.IGNORECASE)\n",
    "    if all([str.isupper(i) for i in splitted]):\n",
    "        return _str\n",
    "    else:\n",
    "        return ' & '.join(splitted)\n",
    "\n",
    "        \n",
    "def correct_slashsplitted(match):\n",
    "    _str = match.group(0)\n",
    "    return ' '.join(' '.join(_str.split('/')).split('\\\\'))\n",
    "\n",
    "        \n",
    "    \n",
    "def remove_links(phrase):\n",
    "    \n",
    "    phrase = re.sub(\"\\S*(t\\.co|http)\\S*\", \"\", phrase, flags=re.IGNORECASE)\n",
    "    \n",
    "    return phrase\n",
    "\n",
    "def global_processing(df):\n",
    "    '''\n",
    "    Global preprocessing/data munging\n",
    "    '''\n",
    "    \n",
    "    \n",
    "    df['full_text'] = df['full_text'].apply(lambda x:re.sub(\"\\’\", \"\\'\", x, flags=re.IGNORECASE))\n",
    "    df['full_text'] = df['full_text'].apply(lambda x:re.sub(\"\\”\", \"\\\"\", x, flags=re.IGNORECASE))\n",
    "    df['full_text'] = df['full_text'].apply(lambda x:re.sub(\"\\“\", \"\\\"\", x, flags=re.IGNORECASE))\n",
    "    \n",
    "    \n",
    "    df['full_text'] = df['full_text'].apply(lambda x:re.sub('&amp;*', '&', x, flags=re.IGNORECASE), )\n",
    "    df['full_text'] = df['full_text'].apply(lambda x:re.sub('&gt;*', '>', x,flags=re.IGNORECASE), )\n",
    "    df['full_text'] = df['full_text'].apply(lambda x:re.sub('&lt;*', '<', x, flags=re.IGNORECASE), )\n",
    "    df['full_text'] = df['full_text'].apply(lambda x:re.sub('\\S*&\\S+', correct_ampersands, x, flags=re.IGNORECASE), )\n",
    "    \n",
    "    df['full_text'] = df['full_text'].apply(lambda x:emoji.get_emoji_regexp().sub('', x), )\n",
    "    \n",
    "    df['full_text'] = df['full_text'].apply(remove_links)\n",
    "    \n",
    "    max_num_mentions = 4\n",
    "    spammy_indices_mentions = df['full_text'].apply(lambda x:re.search(\"(\\@.*){%d,}\"%(max_num_mentions+1), x, flags = re.IGNORECASE)).dropna().index\n",
    "    print(len(spammy_indices_mentions))\n",
    "    df = df.iloc[[i for i in df.index if i not in spammy_indices_mentions]]\n",
    "    df = df.reset_index(drop=True)\n",
    "    \n",
    "    max_hashtags = 4\n",
    "    spammy_indices_hashtags = df['full_text'].apply(lambda x:re.search(\"(\\#\\w+\\s){%d,}\"%(max_hashtags+1), x)).dropna().apply(lambda x:x.group(0)).index\n",
    "    print(len(spammy_indices_hashtags))\n",
    "    df = df.iloc[[i for i in df.index if i not in spammy_indices_hashtags]]\n",
    "    \n",
    "    \n",
    "    df = df.reset_index(drop=True)\n",
    "    \n",
    "\n",
    "    return df"
   ]
  },
  {
   "cell_type": "markdown",
   "metadata": {},
   "source": [
    "# Get Data"
   ]
  },
  {
   "cell_type": "code",
   "execution_count": 3,
   "metadata": {},
   "outputs": [
    {
     "data": {
      "text/plain": [
       "id_str        26500\n",
       "created_at    23020\n",
       "full_text     27756\n",
       "dtype: int64"
      ]
     },
     "metadata": {},
     "output_type": "display_data"
    },
    {
     "data": {
      "text/plain": [
       "(id_str         int64\n",
       " created_at    object\n",
       " full_text     object\n",
       " dtype: object, (32486, 3))"
      ]
     },
     "execution_count": 3,
     "metadata": {},
     "output_type": "execute_result"
    }
   ],
   "source": [
    "df = pd.read_csv(\"final_dataset_Bernie.csv\")\n",
    "display(df.nunique())\n",
    "df.dtypes, df.shape"
   ]
  },
  {
   "cell_type": "code",
   "execution_count": 4,
   "metadata": {},
   "outputs": [
    {
     "data": {
      "text/plain": [
       "(26500, 3)"
      ]
     },
     "execution_count": 4,
     "metadata": {},
     "output_type": "execute_result"
    }
   ],
   "source": [
    "df = df.drop_duplicates(subset=['id_str']).reset_index(drop=True)\n",
    "df.shape"
   ]
  },
  {
   "cell_type": "code",
   "execution_count": 5,
   "metadata": {},
   "outputs": [
    {
     "name": "stdout",
     "output_type": "stream",
     "text": [
      "7039\n",
      "51\n"
     ]
    }
   ],
   "source": [
    "df = global_processing(df)\n"
   ]
  },
  {
   "cell_type": "code",
   "execution_count": 6,
   "metadata": {},
   "outputs": [
    {
     "data": {
      "text/plain": [
       "(19410, 3)"
      ]
     },
     "execution_count": 6,
     "metadata": {},
     "output_type": "execute_result"
    }
   ],
   "source": [
    "df.shape"
   ]
  },
  {
   "cell_type": "code",
   "execution_count": null,
   "metadata": {},
   "outputs": [],
   "source": []
  },
  {
   "cell_type": "markdown",
   "metadata": {},
   "source": [
    "# Decontracting"
   ]
  },
  {
   "cell_type": "code",
   "execution_count": 7,
   "metadata": {},
   "outputs": [
    {
     "data": {
      "text/plain": [
       "don't      865\n",
       "I'm        552\n",
       "It's       484\n",
       "it's       416\n",
       "That's     332\n",
       "can't      315\n",
       "you're     282\n",
       "doesn't    279\n",
       "isn't      216\n",
       "You're     213\n",
       "Name: full_text, dtype: int64"
      ]
     },
     "execution_count": 7,
     "metadata": {},
     "output_type": "execute_result"
    }
   ],
   "source": [
    "df['full_text'].apply(lambda x:re.search(\"[a-zA-Z]{1,7}[\\'|\\\"][a-zA-Z]{1,3}\", x)).dropna().apply(lambda x:x.group(0)).value_counts()[:10]"
   ]
  },
  {
   "cell_type": "code",
   "execution_count": 8,
   "metadata": {},
   "outputs": [],
   "source": [
    "def decontract(phrase):\n",
    "    \n",
    "    # specific\n",
    "    phrase = re.sub(r\"can\\'t\", \"can not\", phrase, flags=re.IGNORECASE)\n",
    "    phrase = re.sub(r\"won\\'t\", \"will not\", phrase, flags=re.IGNORECASE)\n",
    "    phrase = re.sub(r\"let\\'s\", \"let us\", phrase, flags=re.IGNORECASE)\n",
    "    phrase = re.sub(r\"let\\'s\", \"let us\", phrase, flags=re.IGNORECASE)\n",
    "    phrase = re.sub(r\"y\\'all\", \"you all\", phrase, flags=re.IGNORECASE)\n",
    "    \n",
    "\n",
    "    # general\n",
    "    phrase = re.sub(r\"n\\'t\", \" not\", phrase, flags=re.IGNORECASE) #notice the spaces\n",
    "    phrase = re.sub(r\"\\'re\", \" are\", phrase, flags=re.IGNORECASE)\n",
    "    phrase = re.sub(r\"\\'s\", \" is\", phrase, flags=re.IGNORECASE)\n",
    "    phrase = re.sub(r\"\\'d\", \" would\", phrase, flags=re.IGNORECASE)\n",
    "    phrase = re.sub(r\"\\'ll\", \" will\", phrase, flags=re.IGNORECASE)\n",
    "    phrase = re.sub(r\"\\'t\", \" not\", phrase, flags=re.IGNORECASE)\n",
    "    phrase = re.sub(r\"\\'ve\", \" have\", phrase, flags=re.IGNORECASE)\n",
    "    phrase = re.sub(r\"\\'m\", \" am\", phrase, flags=re.IGNORECASE)\n",
    "    return phrase"
   ]
  },
  {
   "cell_type": "code",
   "execution_count": null,
   "metadata": {},
   "outputs": [],
   "source": []
  },
  {
   "cell_type": "code",
   "execution_count": 9,
   "metadata": {},
   "outputs": [],
   "source": [
    "df['full_text'] = df['full_text'].apply(decontract)"
   ]
  },
  {
   "cell_type": "code",
   "execution_count": 10,
   "metadata": {},
   "outputs": [
    {
     "data": {
      "text/plain": [
       "y'kno          2\n",
       "D'Arr          1\n",
       "heimers\"Tru    1\n",
       "x'r            1\n",
       "help'g         1\n",
       "I\"m            1\n",
       "f'ing          1\n",
       "VT'r           1\n",
       "I'g            1\n",
       "BS'er          1\n",
       "Name: full_text, dtype: int64"
      ]
     },
     "execution_count": 10,
     "metadata": {},
     "output_type": "execute_result"
    }
   ],
   "source": [
    "df['full_text'].apply(lambda x:re.search(\"[a-zA-Z]{1,7}[\\'|\\\"][a-zA-Z]{1,3}\", x)).dropna().apply(lambda x:x.group(0)).value_counts()[:10]"
   ]
  },
  {
   "cell_type": "code",
   "execution_count": null,
   "metadata": {},
   "outputs": [],
   "source": []
  },
  {
   "cell_type": "markdown",
   "metadata": {},
   "source": [
    "# Tags"
   ]
  },
  {
   "cell_type": "code",
   "execution_count": 11,
   "metadata": {},
   "outputs": [
    {
     "data": {
      "text/plain": [
       "@BernieSanders    7311\n",
       "@SaraCarterDC      637\n",
       "@ofcltarrtarr      290\n",
       "@cards_fan75       148\n",
       "@cenkuygur         138\n",
       "@julianzelizer     103\n",
       "@IlhanMN            89\n",
       "@ewarren            77\n",
       "@JoshuaWick6        76\n",
       "@Reed2242           53\n",
       "Name: full_text, dtype: int64"
      ]
     },
     "execution_count": 11,
     "metadata": {},
     "output_type": "execute_result"
    }
   ],
   "source": [
    "df['full_text'].apply(lambda x:re.search(\"\\@\\w+\", x, flags=re.IGNORECASE)).dropna().apply(lambda x:x.group(0)).value_counts()[:10]"
   ]
  },
  {
   "cell_type": "code",
   "execution_count": 12,
   "metadata": {},
   "outputs": [],
   "source": [
    "def remove_tags(phrase):\n",
    "    \n",
    "    phrase = re.sub(\"\\@BernieSanders\", \"\", phrase)\n",
    "    \n",
    "    return phrase"
   ]
  },
  {
   "cell_type": "code",
   "execution_count": 13,
   "metadata": {},
   "outputs": [],
   "source": [
    "df['full_text'] = df['full_text'].apply(remove_tags)"
   ]
  },
  {
   "cell_type": "code",
   "execution_count": 14,
   "metadata": {},
   "outputs": [
    {
     "data": {
      "text/plain": [
       "@SaraCarterDC       637\n",
       "@ofcltarrtarr       291\n",
       "@SharylAttkisson    185\n",
       "@cards_fan75        148\n",
       "@cenkuygur          138\n",
       "                   ... \n",
       "@lindamo787           1\n",
       "@xthewriter           1\n",
       "@JohnStossel          1\n",
       "@tylerevansokay       1\n",
       "@DennyHeck            1\n",
       "Name: full_text, Length: 3913, dtype: int64"
      ]
     },
     "execution_count": 14,
     "metadata": {},
     "output_type": "execute_result"
    }
   ],
   "source": [
    "df['full_text'].apply(lambda x:re.search(\"\\@\\w+\", x)).dropna().apply(lambda x:x.group(0)).str.strip().value_counts()"
   ]
  },
  {
   "cell_type": "code",
   "execution_count": 15,
   "metadata": {},
   "outputs": [
    {
     "data": {
      "text/plain": [
       "(19410, 3)"
      ]
     },
     "execution_count": 15,
     "metadata": {},
     "output_type": "execute_result"
    }
   ],
   "source": [
    "df.shape"
   ]
  },
  {
   "cell_type": "markdown",
   "metadata": {},
   "source": [
    "# Hashtags"
   ]
  },
  {
   "cell_type": "code",
   "execution_count": 21,
   "metadata": {},
   "outputs": [
    {
     "data": {
      "text/plain": [
       "#Bernie2020           171\n",
       "#NotMeUs               61\n",
       "#MedicareForAll        61\n",
       "#GreenNewDeal          26\n",
       "#YangGang              24\n",
       "#BoycottMSNBC          24\n",
       "#IFightForThem         16\n",
       "#BernieSanders         15\n",
       "#SocialismKills        15\n",
       "#M4A                   15\n",
       "#Trump2020             14\n",
       "#BernieSanders2020     14\n",
       "#Bernie                14\n",
       "#MAGA                  13\n",
       "#BigUs                 13\n",
       "#UnionsForAll          10\n",
       "#Trump                  9\n",
       "#FreedomDividend        9\n",
       "#BernieBeatsTrump       8\n",
       "#HumanityFirst          7\n",
       "Name: full_text, dtype: int64"
      ]
     },
     "execution_count": 21,
     "metadata": {},
     "output_type": "execute_result"
    }
   ],
   "source": [
    "df['full_text'].apply(lambda x:re.search(\"\\#\\w*([B|b]ernie|[S|a]nders){0,1}\\w*\", x, re.IGNORECASE)).dropna().apply(lambda x:x.group(0)).value_counts()[:20]"
   ]
  },
  {
   "cell_type": "code",
   "execution_count": 22,
   "metadata": {},
   "outputs": [],
   "source": [
    "def remove_hashtags(phrase):\n",
    "\n",
    "    for i in ['#[B|b]ernie([S|s]anders){0,1}(2020){0,1}', '#FeelTheBern', \"#[T|t]eamBernie\"]:\n",
    "        phrase = re.sub(i, \"\", phrase)\n",
    "    \n",
    "    return phrase"
   ]
  },
  {
   "cell_type": "code",
   "execution_count": 23,
   "metadata": {},
   "outputs": [],
   "source": [
    "df['full_text'] = df['full_text'].apply(remove_hashtags)"
   ]
  },
  {
   "cell_type": "code",
   "execution_count": 24,
   "metadata": {},
   "outputs": [
    {
     "data": {
      "text/plain": [
       "#NotMeUs            88\n",
       "#MedicareForAll     66\n",
       "#GreenNewDeal       30\n",
       "#YangGang           25\n",
       "#BoycottMSNBC       25\n",
       "#IFightForThem      16\n",
       "#BigUs              16\n",
       "#SocialismKills     15\n",
       "#Trump2020          15\n",
       "#M4A                15\n",
       "#MAGA               13\n",
       "#UnionsForAll       10\n",
       "#FreedomDividend     9\n",
       "#Trump               9\n",
       "#WeThePeople         7\n",
       "#1                   7\n",
       "#HumanityFirst       7\n",
       "#Thanksgiving        7\n",
       "#Hypocrites          7\n",
       "#hypocrite           6\n",
       "Name: full_text, dtype: int64"
      ]
     },
     "execution_count": 24,
     "metadata": {},
     "output_type": "execute_result"
    }
   ],
   "source": [
    "df['full_text'].apply(lambda x:re.search(\"\\#\\w*([B|b]lizabeth|[S|a]nders){0,1}\\w*\", x)).dropna().apply(lambda x:x.group(0)).value_counts()[:20]"
   ]
  },
  {
   "cell_type": "code",
   "execution_count": null,
   "metadata": {},
   "outputs": [],
   "source": []
  },
  {
   "cell_type": "markdown",
   "metadata": {},
   "source": [
    "# (Obvious) Mentions"
   ]
  },
  {
   "cell_type": "code",
   "execution_count": 27,
   "metadata": {},
   "outputs": [
    {
     "data": {
      "text/plain": [
       "Bernie           1377\n",
       "bernie             60\n",
       "BERNIE             14\n",
       "Bernies            10\n",
       "bernies             2\n",
       "BernieSanders       2\n",
       "berniebruh          1\n",
       "Dinobernie          1\n",
       "BernieThe           1\n",
       "BernieI             1\n",
       "Name: full_text, dtype: int64"
      ]
     },
     "execution_count": 27,
     "metadata": {},
     "output_type": "execute_result"
    }
   ],
   "source": [
    "df['full_text'].apply(lambda x:re.search(\"\\s+\\w*[B|b]ernie([S|s]anders){0,1}\\w*\\s+\", x, re.IGNORECASE)).dropna().apply(lambda x:x.group(0)).str.strip().value_counts()[:10]"
   ]
  },
  {
   "cell_type": "code",
   "execution_count": 28,
   "metadata": {},
   "outputs": [],
   "source": [
    "temp = df['full_text'].apply(lambda x:re.search(\"\\s+\\w*[B|b]ernie([S|s]anders){0,1}\\w*\\s+\", x)).dropna().apply(lambda x:x.group(0)).value_counts().index\n",
    "\n",
    "def remove_mentions(phrase):\n",
    "    \n",
    "    for to_replace in temp:\n",
    "        phrase = re.sub(to_replace, \"\", phrase)\n",
    "    \n",
    "    return phrase"
   ]
  },
  {
   "cell_type": "code",
   "execution_count": 29,
   "metadata": {},
   "outputs": [],
   "source": [
    "df['full_text'] = df['full_text'].apply(remove_mentions)"
   ]
  },
  {
   "cell_type": "code",
   "execution_count": 30,
   "metadata": {},
   "outputs": [
    {
     "data": {
      "text/plain": [
       " Berniebros     1\n",
       " berniecrat     1\n",
       "Name: full_text, dtype: int64"
      ]
     },
     "execution_count": 30,
     "metadata": {},
     "output_type": "execute_result"
    }
   ],
   "source": [
    "df['full_text'].apply(lambda x:re.search(\"\\s+\\w*[B|b]ernie([S|s]anders){0,1}\\w*\\s+\", x)).dropna().apply(lambda x:x.group(0)).value_counts()"
   ]
  },
  {
   "cell_type": "code",
   "execution_count": null,
   "metadata": {},
   "outputs": [],
   "source": []
  },
  {
   "cell_type": "code",
   "execution_count": 31,
   "metadata": {},
   "outputs": [],
   "source": [
    "df.to_csv('processed_final_Bernie.csv', index=False)"
   ]
  },
  {
   "cell_type": "code",
   "execution_count": null,
   "metadata": {},
   "outputs": [],
   "source": []
  },
  {
   "cell_type": "code",
   "execution_count": null,
   "metadata": {},
   "outputs": [],
   "source": []
  }
 ],
 "metadata": {
  "kernelspec": {
   "display_name": "Python 3",
   "language": "python",
   "name": "python3"
  },
  "language_info": {
   "codemirror_mode": {
    "name": "ipython",
    "version": 3
   },
   "file_extension": ".py",
   "mimetype": "text/x-python",
   "name": "python",
   "nbconvert_exporter": "python",
   "pygments_lexer": "ipython3",
   "version": "3.7.5"
  }
 },
 "nbformat": 4,
 "nbformat_minor": 2
}
