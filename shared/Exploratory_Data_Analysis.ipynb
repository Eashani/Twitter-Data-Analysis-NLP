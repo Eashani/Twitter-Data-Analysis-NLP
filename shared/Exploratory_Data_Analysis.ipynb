{
 "cells": [
  {
   "cell_type": "markdown",
   "metadata": {},
   "source": [
    "In this notebook, I demonstrate the way we can get started with the data scraped so far. \n",
    "\n",
    "The data resides in .txt files. Each file contains data for 1000 tweets. The nature of tweets scraped is as below:\n",
    "- These tweets explicitly mentioned the respective presidential candidate. No retweeting, no replying to a candidates' tweets etc. These tweets are important in the sense that they explicitly seek to engage a presidential candidate on Twitter. They are not necessarily reactions to/retweets of a presidential candidate's own tweets. Given these assumptions, I believe they are relatively more rich for information-topic discovery.\n",
    "- Tweets that span multiple lines (have a \\n character to be precise) were modified to have an explicit backslashN string instead of \\n (to make storage simple). Please replace backslashN with \\n explicitly when analyzing the tweets.\n",
    "- The structure of each tweet data stored per-line is the following fields separated by a :::: delimiter: retweet_count, author_screen_name, author_followers_count, author_following_count, created_at, id_str, full_text\n",
    "\n",
    "\n",
    "Let's pick one of the files containing Twitter data. I'll choose Bernie.txt as a reference.\n",
    "\n",
    "\n"
   ]
  },
  {
   "cell_type": "code",
   "execution_count": 3,
   "metadata": {},
   "outputs": [
    {
     "name": "stdout",
     "output_type": "stream",
     "text": [
      "0\n",
      "ghostriderr74\n",
      "24\n",
      "85\n",
      "2019-11-24 00:35:01\n",
      "1198399587649613824\n",
      "@BernieSanders Not -- in my town we have medical clinic charging $85 dollars a month for a family of 4 and discounted med.  By law if something bad happens emergency rooms have to take them.\n",
      "\n"
     ]
    }
   ],
   "source": [
    "with open('Bernie.txt', 'r') as fBernie:\n",
    "    for line in fBernie:\n",
    "        data = line.split('::::')\n",
    "        for field in data:\n",
    "            print(field)\n",
    "        break\n",
    "    "
   ]
  },
  {
   "cell_type": "markdown",
   "metadata": {},
   "source": [
    "# Making a Pandas dataframe from tweets"
   ]
  },
  {
   "cell_type": "code",
   "execution_count": 59,
   "metadata": {},
   "outputs": [],
   "source": [
    "# uncomment and run this if you get a pandas-related error\n",
    "#!pip install pandas"
   ]
  },
  {
   "cell_type": "code",
   "execution_count": 6,
   "metadata": {},
   "outputs": [],
   "source": [
    "import pandas as pd"
   ]
  },
  {
   "cell_type": "code",
   "execution_count": 7,
   "metadata": {},
   "outputs": [],
   "source": [
    "with open('Bernie.txt', 'r') as fBernie:\n",
    "    file_data = [line.replace('backslashN', '\\n').split('::::') for line in fBernie.readlines()]\n",
    "    "
   ]
  },
  {
   "cell_type": "code",
   "execution_count": 10,
   "metadata": {},
   "outputs": [
    {
     "data": {
      "text/html": [
       "<div>\n",
       "<style scoped>\n",
       "    .dataframe tbody tr th:only-of-type {\n",
       "        vertical-align: middle;\n",
       "    }\n",
       "\n",
       "    .dataframe tbody tr th {\n",
       "        vertical-align: top;\n",
       "    }\n",
       "\n",
       "    .dataframe thead th {\n",
       "        text-align: right;\n",
       "    }\n",
       "</style>\n",
       "<table border=\"1\" class=\"dataframe\">\n",
       "  <thead>\n",
       "    <tr style=\"text-align: right;\">\n",
       "      <th></th>\n",
       "      <th>retweet_count</th>\n",
       "      <th>author_screen_name</th>\n",
       "      <th>author_followers_count</th>\n",
       "      <th>author_following_count</th>\n",
       "      <th>created_at</th>\n",
       "      <th>id_str</th>\n",
       "      <th>full_text</th>\n",
       "    </tr>\n",
       "  </thead>\n",
       "  <tbody>\n",
       "    <tr>\n",
       "      <th>0</th>\n",
       "      <td>0</td>\n",
       "      <td>ghostriderr74</td>\n",
       "      <td>24</td>\n",
       "      <td>85</td>\n",
       "      <td>2019-11-24 00:35:01</td>\n",
       "      <td>1198399587649613824</td>\n",
       "      <td>@BernieSanders Not -- in my town we have medic...</td>\n",
       "    </tr>\n",
       "    <tr>\n",
       "      <th>1</th>\n",
       "      <td>0</td>\n",
       "      <td>michaelfrank17</td>\n",
       "      <td>2078</td>\n",
       "      <td>2202</td>\n",
       "      <td>2019-11-24 00:35:01</td>\n",
       "      <td>1198399586403942400</td>\n",
       "      <td>This week I heard @MMFlint say that Nancy Pelo...</td>\n",
       "    </tr>\n",
       "    <tr>\n",
       "      <th>2</th>\n",
       "      <td>6</td>\n",
       "      <td>savemain_st</td>\n",
       "      <td>46654</td>\n",
       "      <td>18548</td>\n",
       "      <td>2019-11-24 00:35:00</td>\n",
       "      <td>1198399585049284672</td>\n",
       "      <td>@ninaturner @PortiaABoulger @BernieSanders @jj...</td>\n",
       "    </tr>\n",
       "    <tr>\n",
       "      <th>3</th>\n",
       "      <td>0</td>\n",
       "      <td>GeoffWaters5</td>\n",
       "      <td>15</td>\n",
       "      <td>21</td>\n",
       "      <td>2019-11-24 00:35:00</td>\n",
       "      <td>1198399582847340544</td>\n",
       "      <td>@stro1786 @BernieSanders Is that a good thing ...</td>\n",
       "    </tr>\n",
       "    <tr>\n",
       "      <th>4</th>\n",
       "      <td>0</td>\n",
       "      <td>FLOURNOYFarrell</td>\n",
       "      <td>3505</td>\n",
       "      <td>4994</td>\n",
       "      <td>2019-11-24 00:34:57</td>\n",
       "      <td>1198399569853325312</td>\n",
       "      <td>@KelticSC @thekaraboudjan @SallyAlbright @Lewi...</td>\n",
       "    </tr>\n",
       "  </tbody>\n",
       "</table>\n",
       "</div>"
      ],
      "text/plain": [
       "  retweet_count author_screen_name author_followers_count  \\\n",
       "0             0      ghostriderr74                     24   \n",
       "1             0     michaelfrank17                   2078   \n",
       "2             6        savemain_st                  46654   \n",
       "3             0       GeoffWaters5                     15   \n",
       "4             0    FLOURNOYFarrell                   3505   \n",
       "\n",
       "  author_following_count           created_at               id_str  \\\n",
       "0                     85  2019-11-24 00:35:01  1198399587649613824   \n",
       "1                   2202  2019-11-24 00:35:01  1198399586403942400   \n",
       "2                  18548  2019-11-24 00:35:00  1198399585049284672   \n",
       "3                     21  2019-11-24 00:35:00  1198399582847340544   \n",
       "4                   4994  2019-11-24 00:34:57  1198399569853325312   \n",
       "\n",
       "                                           full_text  \n",
       "0  @BernieSanders Not -- in my town we have medic...  \n",
       "1  This week I heard @MMFlint say that Nancy Pelo...  \n",
       "2  @ninaturner @PortiaABoulger @BernieSanders @jj...  \n",
       "3  @stro1786 @BernieSanders Is that a good thing ...  \n",
       "4  @KelticSC @thekaraboudjan @SallyAlbright @Lewi...  "
      ]
     },
     "execution_count": 10,
     "metadata": {},
     "output_type": "execute_result"
    }
   ],
   "source": [
    "field_names = ['retweet_count', 'author_screen_name', 'author_followers_count', 'author_following_count', 'created_at', 'id_str', 'full_text']\n",
    "df = pd.DataFrame(data=file_data, columns=field_names)\n",
    "df.head()"
   ]
  },
  {
   "cell_type": "code",
   "execution_count": 11,
   "metadata": {},
   "outputs": [
    {
     "data": {
      "text/html": [
       "<div>\n",
       "<style scoped>\n",
       "    .dataframe tbody tr th:only-of-type {\n",
       "        vertical-align: middle;\n",
       "    }\n",
       "\n",
       "    .dataframe tbody tr th {\n",
       "        vertical-align: top;\n",
       "    }\n",
       "\n",
       "    .dataframe thead th {\n",
       "        text-align: right;\n",
       "    }\n",
       "</style>\n",
       "<table border=\"1\" class=\"dataframe\">\n",
       "  <thead>\n",
       "    <tr style=\"text-align: right;\">\n",
       "      <th></th>\n",
       "      <th>retweet_count</th>\n",
       "      <th>author_screen_name</th>\n",
       "      <th>author_followers_count</th>\n",
       "      <th>author_following_count</th>\n",
       "      <th>created_at</th>\n",
       "      <th>id_str</th>\n",
       "      <th>full_text</th>\n",
       "    </tr>\n",
       "  </thead>\n",
       "  <tbody>\n",
       "    <tr>\n",
       "      <th>count</th>\n",
       "      <td>1000</td>\n",
       "      <td>1000</td>\n",
       "      <td>1000</td>\n",
       "      <td>1000</td>\n",
       "      <td>1000</td>\n",
       "      <td>1000</td>\n",
       "      <td>1000</td>\n",
       "    </tr>\n",
       "    <tr>\n",
       "      <th>unique</th>\n",
       "      <td>23</td>\n",
       "      <td>717</td>\n",
       "      <td>473</td>\n",
       "      <td>578</td>\n",
       "      <td>862</td>\n",
       "      <td>1000</td>\n",
       "      <td>1000</td>\n",
       "    </tr>\n",
       "    <tr>\n",
       "      <th>top</th>\n",
       "      <td>0</td>\n",
       "      <td>DeplorableDavi4</td>\n",
       "      <td>4</td>\n",
       "      <td>137</td>\n",
       "      <td>2019-11-24 00:08:36</td>\n",
       "      <td>1198397131746185216</td>\n",
       "      <td>@PublicHenemy1 @BernieSanders Berning up like ...</td>\n",
       "    </tr>\n",
       "    <tr>\n",
       "      <th>freq</th>\n",
       "      <td>857</td>\n",
       "      <td>11</td>\n",
       "      <td>16</td>\n",
       "      <td>18</td>\n",
       "      <td>4</td>\n",
       "      <td>1</td>\n",
       "      <td>1</td>\n",
       "    </tr>\n",
       "  </tbody>\n",
       "</table>\n",
       "</div>"
      ],
      "text/plain": [
       "       retweet_count author_screen_name author_followers_count  \\\n",
       "count           1000               1000                   1000   \n",
       "unique            23                717                    473   \n",
       "top                0    DeplorableDavi4                      4   \n",
       "freq             857                 11                     16   \n",
       "\n",
       "       author_following_count           created_at               id_str  \\\n",
       "count                    1000                 1000                 1000   \n",
       "unique                    578                  862                 1000   \n",
       "top                       137  2019-11-24 00:08:36  1198397131746185216   \n",
       "freq                       18                    4                    1   \n",
       "\n",
       "                                                full_text  \n",
       "count                                                1000  \n",
       "unique                                               1000  \n",
       "top     @PublicHenemy1 @BernieSanders Berning up like ...  \n",
       "freq                                                    1  "
      ]
     },
     "execution_count": 11,
     "metadata": {},
     "output_type": "execute_result"
    }
   ],
   "source": [
    "df.describe()\n"
   ]
  },
  {
   "cell_type": "code",
   "execution_count": 12,
   "metadata": {},
   "outputs": [
    {
     "data": {
      "text/plain": [
       "retweet_count             object\n",
       "author_screen_name        object\n",
       "author_followers_count    object\n",
       "author_following_count    object\n",
       "created_at                object\n",
       "id_str                    object\n",
       "full_text                 object\n",
       "dtype: object"
      ]
     },
     "execution_count": 12,
     "metadata": {},
     "output_type": "execute_result"
    }
   ],
   "source": [
    "df.dtypes"
   ]
  },
  {
   "cell_type": "markdown",
   "metadata": {},
   "source": [
    "## Example:Mining for Potentially Useful Statistics??"
   ]
  },
  {
   "cell_type": "markdown",
   "metadata": {},
   "source": [
    "Twitter API returns tweet data in a random manner. Let's see how many tweets per day we actually have.."
   ]
  },
  {
   "cell_type": "code",
   "execution_count": 35,
   "metadata": {},
   "outputs": [
    {
     "data": {
      "text/plain": [
       "created_at\n",
       "2019-11-23    322\n",
       "2019-11-24    678\n",
       "Name: id_str, dtype: int64"
      ]
     },
     "execution_count": 35,
     "metadata": {},
     "output_type": "execute_result"
    }
   ],
   "source": [
    "df.groupby(pd.to_datetime(df.created_at).map(lambda x:x.date())).count()[\"id_str\"]"
   ]
  },
  {
   "cell_type": "markdown",
   "metadata": {},
   "source": [
    "Let's create a simple dataframe which contains a subset of columns from the one created above"
   ]
  },
  {
   "cell_type": "code",
   "execution_count": 49,
   "metadata": {},
   "outputs": [
    {
     "data": {
      "text/html": [
       "<div>\n",
       "<style scoped>\n",
       "    .dataframe tbody tr th:only-of-type {\n",
       "        vertical-align: middle;\n",
       "    }\n",
       "\n",
       "    .dataframe tbody tr th {\n",
       "        vertical-align: top;\n",
       "    }\n",
       "\n",
       "    .dataframe thead th {\n",
       "        text-align: right;\n",
       "    }\n",
       "</style>\n",
       "<table border=\"1\" class=\"dataframe\">\n",
       "  <thead>\n",
       "    <tr style=\"text-align: right;\">\n",
       "      <th></th>\n",
       "      <th>created_at</th>\n",
       "      <th>id_str</th>\n",
       "      <th>full_text</th>\n",
       "    </tr>\n",
       "  </thead>\n",
       "  <tbody>\n",
       "    <tr>\n",
       "      <th>0</th>\n",
       "      <td>2019-11-24 00:35:01</td>\n",
       "      <td>1198399587649613824</td>\n",
       "      <td>@BernieSanders Not -- in my town we have medic...</td>\n",
       "    </tr>\n",
       "    <tr>\n",
       "      <th>1</th>\n",
       "      <td>2019-11-24 00:35:01</td>\n",
       "      <td>1198399586403942400</td>\n",
       "      <td>This week I heard @MMFlint say that Nancy Pelo...</td>\n",
       "    </tr>\n",
       "    <tr>\n",
       "      <th>2</th>\n",
       "      <td>2019-11-24 00:35:00</td>\n",
       "      <td>1198399585049284672</td>\n",
       "      <td>@ninaturner @PortiaABoulger @BernieSanders @jj...</td>\n",
       "    </tr>\n",
       "    <tr>\n",
       "      <th>3</th>\n",
       "      <td>2019-11-24 00:35:00</td>\n",
       "      <td>1198399582847340544</td>\n",
       "      <td>@stro1786 @BernieSanders Is that a good thing ...</td>\n",
       "    </tr>\n",
       "    <tr>\n",
       "      <th>4</th>\n",
       "      <td>2019-11-24 00:34:57</td>\n",
       "      <td>1198399569853325312</td>\n",
       "      <td>@KelticSC @thekaraboudjan @SallyAlbright @Lewi...</td>\n",
       "    </tr>\n",
       "  </tbody>\n",
       "</table>\n",
       "</div>"
      ],
      "text/plain": [
       "           created_at               id_str  \\\n",
       "0 2019-11-24 00:35:01  1198399587649613824   \n",
       "1 2019-11-24 00:35:01  1198399586403942400   \n",
       "2 2019-11-24 00:35:00  1198399585049284672   \n",
       "3 2019-11-24 00:35:00  1198399582847340544   \n",
       "4 2019-11-24 00:34:57  1198399569853325312   \n",
       "\n",
       "                                           full_text  \n",
       "0  @BernieSanders Not -- in my town we have medic...  \n",
       "1  This week I heard @MMFlint say that Nancy Pelo...  \n",
       "2  @ninaturner @PortiaABoulger @BernieSanders @jj...  \n",
       "3  @stro1786 @BernieSanders Is that a good thing ...  \n",
       "4  @KelticSC @thekaraboudjan @SallyAlbright @Lewi...  "
      ]
     },
     "execution_count": 49,
     "metadata": {},
     "output_type": "execute_result"
    }
   ],
   "source": [
    "df_simple = df.loc[:, ['created_at', 'id_str', 'full_text']]\n",
    "\n",
    "df_simple['created_at'] = pd.to_datetime(df_simple['created_at'])\n",
    "\n",
    "df_simple.head()"
   ]
  },
  {
   "cell_type": "markdown",
   "metadata": {},
   "source": [
    "# Example: Group tweets by day/week/month "
   ]
  },
  {
   "cell_type": "markdown",
   "metadata": {},
   "source": [
    "you can replace x.date with x.year, x.day, x.month etc. to specify other grouping criteria."
   ]
  },
  {
   "cell_type": "code",
   "execution_count": 58,
   "metadata": {},
   "outputs": [
    {
     "name": "stdout",
     "output_type": "stream",
     "text": [
      "2019-11-23\n"
     ]
    },
    {
     "data": {
      "text/html": [
       "<div>\n",
       "<style scoped>\n",
       "    .dataframe tbody tr th:only-of-type {\n",
       "        vertical-align: middle;\n",
       "    }\n",
       "\n",
       "    .dataframe tbody tr th {\n",
       "        vertical-align: top;\n",
       "    }\n",
       "\n",
       "    .dataframe thead th {\n",
       "        text-align: right;\n",
       "    }\n",
       "</style>\n",
       "<table border=\"1\" class=\"dataframe\">\n",
       "  <thead>\n",
       "    <tr style=\"text-align: right;\">\n",
       "      <th></th>\n",
       "      <th>created_at</th>\n",
       "      <th>id_str</th>\n",
       "      <th>full_text</th>\n",
       "    </tr>\n",
       "  </thead>\n",
       "  <tbody>\n",
       "    <tr>\n",
       "      <th>678</th>\n",
       "      <td>2019-11-23 23:59:49</td>\n",
       "      <td>1198390731095674880</td>\n",
       "      <td>@yanghis_khan @EntropyXero @deltdennison @Bern...</td>\n",
       "    </tr>\n",
       "    <tr>\n",
       "      <th>679</th>\n",
       "      <td>2019-11-23 23:59:47</td>\n",
       "      <td>1198390719062388736</td>\n",
       "      <td>@gregbonner30 @BernieSanders Shutup Greg\\n</td>\n",
       "    </tr>\n",
       "    <tr>\n",
       "      <th>680</th>\n",
       "      <td>2019-11-23 23:59:44</td>\n",
       "      <td>1198390708463382528</td>\n",
       "      <td>@Locke_Wiggins @problemfellow @ScottTrudell @B...</td>\n",
       "    </tr>\n",
       "    <tr>\n",
       "      <th>681</th>\n",
       "      <td>2019-11-23 23:59:41</td>\n",
       "      <td>1198390696467558401</td>\n",
       "      <td>@BernieSanders Back to the 50’s\\n</td>\n",
       "    </tr>\n",
       "    <tr>\n",
       "      <th>682</th>\n",
       "      <td>2019-11-23 23:59:41</td>\n",
       "      <td>1198390695511199744</td>\n",
       "      <td>@LMplusG @BernieSanders Yes, however, Bernie, ...</td>\n",
       "    </tr>\n",
       "  </tbody>\n",
       "</table>\n",
       "</div>"
      ],
      "text/plain": [
       "             created_at               id_str  \\\n",
       "678 2019-11-23 23:59:49  1198390731095674880   \n",
       "679 2019-11-23 23:59:47  1198390719062388736   \n",
       "680 2019-11-23 23:59:44  1198390708463382528   \n",
       "681 2019-11-23 23:59:41  1198390696467558401   \n",
       "682 2019-11-23 23:59:41  1198390695511199744   \n",
       "\n",
       "                                             full_text  \n",
       "678  @yanghis_khan @EntropyXero @deltdennison @Bern...  \n",
       "679         @gregbonner30 @BernieSanders Shutup Greg\\n  \n",
       "680  @Locke_Wiggins @problemfellow @ScottTrudell @B...  \n",
       "681                  @BernieSanders Back to the 50’s\\n  \n",
       "682  @LMplusG @BernieSanders Yes, however, Bernie, ...  "
      ]
     },
     "metadata": {},
     "output_type": "display_data"
    },
    {
     "name": "stdout",
     "output_type": "stream",
     "text": [
      "-------------------\n",
      "2019-11-24\n"
     ]
    },
    {
     "data": {
      "text/html": [
       "<div>\n",
       "<style scoped>\n",
       "    .dataframe tbody tr th:only-of-type {\n",
       "        vertical-align: middle;\n",
       "    }\n",
       "\n",
       "    .dataframe tbody tr th {\n",
       "        vertical-align: top;\n",
       "    }\n",
       "\n",
       "    .dataframe thead th {\n",
       "        text-align: right;\n",
       "    }\n",
       "</style>\n",
       "<table border=\"1\" class=\"dataframe\">\n",
       "  <thead>\n",
       "    <tr style=\"text-align: right;\">\n",
       "      <th></th>\n",
       "      <th>created_at</th>\n",
       "      <th>id_str</th>\n",
       "      <th>full_text</th>\n",
       "    </tr>\n",
       "  </thead>\n",
       "  <tbody>\n",
       "    <tr>\n",
       "      <th>0</th>\n",
       "      <td>2019-11-24 00:35:01</td>\n",
       "      <td>1198399587649613824</td>\n",
       "      <td>@BernieSanders Not -- in my town we have medic...</td>\n",
       "    </tr>\n",
       "    <tr>\n",
       "      <th>1</th>\n",
       "      <td>2019-11-24 00:35:01</td>\n",
       "      <td>1198399586403942400</td>\n",
       "      <td>This week I heard @MMFlint say that Nancy Pelo...</td>\n",
       "    </tr>\n",
       "    <tr>\n",
       "      <th>2</th>\n",
       "      <td>2019-11-24 00:35:00</td>\n",
       "      <td>1198399585049284672</td>\n",
       "      <td>@ninaturner @PortiaABoulger @BernieSanders @jj...</td>\n",
       "    </tr>\n",
       "    <tr>\n",
       "      <th>3</th>\n",
       "      <td>2019-11-24 00:35:00</td>\n",
       "      <td>1198399582847340544</td>\n",
       "      <td>@stro1786 @BernieSanders Is that a good thing ...</td>\n",
       "    </tr>\n",
       "    <tr>\n",
       "      <th>4</th>\n",
       "      <td>2019-11-24 00:34:57</td>\n",
       "      <td>1198399569853325312</td>\n",
       "      <td>@KelticSC @thekaraboudjan @SallyAlbright @Lewi...</td>\n",
       "    </tr>\n",
       "  </tbody>\n",
       "</table>\n",
       "</div>"
      ],
      "text/plain": [
       "           created_at               id_str  \\\n",
       "0 2019-11-24 00:35:01  1198399587649613824   \n",
       "1 2019-11-24 00:35:01  1198399586403942400   \n",
       "2 2019-11-24 00:35:00  1198399585049284672   \n",
       "3 2019-11-24 00:35:00  1198399582847340544   \n",
       "4 2019-11-24 00:34:57  1198399569853325312   \n",
       "\n",
       "                                           full_text  \n",
       "0  @BernieSanders Not -- in my town we have medic...  \n",
       "1  This week I heard @MMFlint say that Nancy Pelo...  \n",
       "2  @ninaturner @PortiaABoulger @BernieSanders @jj...  \n",
       "3  @stro1786 @BernieSanders Is that a good thing ...  \n",
       "4  @KelticSC @thekaraboudjan @SallyAlbright @Lewi...  "
      ]
     },
     "metadata": {},
     "output_type": "display_data"
    },
    {
     "name": "stdout",
     "output_type": "stream",
     "text": [
      "-------------------\n"
     ]
    }
   ],
   "source": [
    "for groupid, group in df_simple.groupby(df_simple['created_at'].map(lambda x:x.date())):\n",
    "    print(groupid)\n",
    "    display(group.head(), )\n",
    "    print('-------------------')"
   ]
  },
  {
   "cell_type": "code",
   "execution_count": null,
   "metadata": {},
   "outputs": [],
   "source": []
  },
  {
   "cell_type": "code",
   "execution_count": 57,
   "metadata": {},
   "outputs": [
    {
     "name": "stdout",
     "output_type": "stream",
     "text": [
      "2019-11-23\n"
     ]
    },
    {
     "data": {
      "text/plain": [
       "678    @yanghis_khan @EntropyXero @deltdennison @Bern...\n",
       "679           @gregbonner30 @BernieSanders Shutup Greg\\n\n",
       "680    @Locke_Wiggins @problemfellow @ScottTrudell @B...\n",
       "681                    @BernieSanders Back to the 50’s\\n\n",
       "682    @LMplusG @BernieSanders Yes, however, Bernie, ...\n",
       "Name: full_text, dtype: object"
      ]
     },
     "metadata": {},
     "output_type": "display_data"
    },
    {
     "name": "stdout",
     "output_type": "stream",
     "text": [
      "-------------------\n",
      "2019-11-24\n"
     ]
    },
    {
     "data": {
      "text/plain": [
       "0    @BernieSanders Not -- in my town we have medic...\n",
       "1    This week I heard @MMFlint say that Nancy Pelo...\n",
       "2    @ninaturner @PortiaABoulger @BernieSanders @jj...\n",
       "3    @stro1786 @BernieSanders Is that a good thing ...\n",
       "4    @KelticSC @thekaraboudjan @SallyAlbright @Lewi...\n",
       "Name: full_text, dtype: object"
      ]
     },
     "metadata": {},
     "output_type": "display_data"
    },
    {
     "name": "stdout",
     "output_type": "stream",
     "text": [
      "-------------------\n"
     ]
    }
   ],
   "source": [
    "for groupid, group in df_simple.groupby(df_simple['created_at'].map(lambda x:x.date())):\n",
    "    print(groupid)\n",
    "    display(group['full_text'].head(), )\n",
    "    print('-------------------')"
   ]
  },
  {
   "cell_type": "markdown",
   "metadata": {},
   "source": [
    "# Where to go from here??\n",
    "\n",
    "This notebook demonstrates how we can group tweets by a criterion (here it was daily grouping). Following the grouping, we can run do topic modeling on tweets for a particular day and identify main/important topics. Doing so is essentially what we suggested in the proposal."
   ]
  },
  {
   "cell_type": "code",
   "execution_count": null,
   "metadata": {},
   "outputs": [],
   "source": []
  }
 ],
 "metadata": {
  "kernelspec": {
   "display_name": "Python 3",
   "language": "python",
   "name": "python3"
  },
  "language_info": {
   "codemirror_mode": {
    "name": "ipython",
    "version": 3
   },
   "file_extension": ".py",
   "mimetype": "text/x-python",
   "name": "python",
   "nbconvert_exporter": "python",
   "pygments_lexer": "ipython3",
   "version": "3.7.3"
  }
 },
 "nbformat": 4,
 "nbformat_minor": 2
}
